{
 "cells": [
  {
   "cell_type": "code",
   "execution_count": 2,
   "id": "f2fc7ea3",
   "metadata": {
    "scrolled": false
   },
   "outputs": [],
   "source": [
    "import requests\n",
    "import pandas as pd\n",
    "try:\n",
    "    from pandas import json_normalize\n",
    "except ImportError:\n",
    "    from pandas.io.json import json_normalize\n",
    "import json"
   ]
  },
  {
   "cell_type": "code",
   "execution_count": 18,
   "id": "06be5ea1",
   "metadata": {},
   "outputs": [],
   "source": [
    "baseurl = r'https://data.sec.gov/api/xbrl/companyfacts/CIK'"
   ]
  },
  {
   "cell_type": "code",
   "execution_count": 38,
   "id": "7c5d6ffc",
   "metadata": {},
   "outputs": [
    {
     "name": "stdout",
     "output_type": "stream",
     "text": [
      "Put correct CIK code : 0000320193\n"
     ]
    }
   ],
   "source": [
    "# apple cik : 0000320193\n",
    "cik = input('Put correct CIK code : ')\n",
    "headers = {'User-Agent': 'njim@hebronstar.com'}"
   ]
  },
  {
   "cell_type": "code",
   "execution_count": 39,
   "id": "e250f016",
   "metadata": {},
   "outputs": [],
   "source": [
    "fullurl = baseurl+cik+'.json'"
   ]
  },
  {
   "cell_type": "code",
   "execution_count": 40,
   "id": "e3ed30be",
   "metadata": {},
   "outputs": [
    {
     "data": {
      "text/plain": [
       "'https://data.sec.gov/api/xbrl/companyfacts/CIK0000320193.json'"
      ]
     },
     "execution_count": 40,
     "metadata": {},
     "output_type": "execute_result"
    }
   ],
   "source": [
    "fullurl"
   ]
  },
  {
   "cell_type": "code",
   "execution_count": 44,
   "id": "bf3e22e0",
   "metadata": {},
   "outputs": [],
   "source": [
    "data=requests.get('https://data.sec.gov/api/xbrl/frames/us-gaap/AccountsPayableCurrent/USD/CY2019Q1I.json', headers = headers)"
   ]
  },
  {
   "cell_type": "code",
   "execution_count": 45,
   "id": "1c4b5431",
   "metadata": {},
   "outputs": [
    {
     "data": {
      "text/html": [
       "<div>\n",
       "<style scoped>\n",
       "    .dataframe tbody tr th:only-of-type {\n",
       "        vertical-align: middle;\n",
       "    }\n",
       "\n",
       "    .dataframe tbody tr th {\n",
       "        vertical-align: top;\n",
       "    }\n",
       "\n",
       "    .dataframe thead th {\n",
       "        text-align: right;\n",
       "    }\n",
       "</style>\n",
       "<table border=\"1\" class=\"dataframe\">\n",
       "  <thead>\n",
       "    <tr style=\"text-align: right;\">\n",
       "      <th></th>\n",
       "      <th>taxonomy</th>\n",
       "      <th>tag</th>\n",
       "      <th>ccp</th>\n",
       "      <th>uom</th>\n",
       "      <th>label</th>\n",
       "      <th>description</th>\n",
       "      <th>pts</th>\n",
       "      <th>data</th>\n",
       "    </tr>\n",
       "  </thead>\n",
       "  <tbody>\n",
       "    <tr>\n",
       "      <th>0</th>\n",
       "      <td>us-gaap</td>\n",
       "      <td>AccountsPayableCurrent</td>\n",
       "      <td>CY2019Q1I</td>\n",
       "      <td>USD</td>\n",
       "      <td>Accounts Payable, Current</td>\n",
       "      <td>Carrying value as of the balance sheet date of...</td>\n",
       "      <td>3388</td>\n",
       "      <td>[{'accn': '0001104659-19-016320', 'cik': 1750,...</td>\n",
       "    </tr>\n",
       "  </tbody>\n",
       "</table>\n",
       "</div>"
      ],
      "text/plain": [
       "  taxonomy                     tag        ccp  uom                      label  \\\n",
       "0  us-gaap  AccountsPayableCurrent  CY2019Q1I  USD  Accounts Payable, Current   \n",
       "\n",
       "                                         description   pts  \\\n",
       "0  Carrying value as of the balance sheet date of...  3388   \n",
       "\n",
       "                                                data  \n",
       "0  [{'accn': '0001104659-19-016320', 'cik': 1750,...  "
      ]
     },
     "execution_count": 45,
     "metadata": {},
     "output_type": "execute_result"
    }
   ],
   "source": [
    "json_normalize(json.loads(data.text))"
   ]
  },
  {
   "cell_type": "code",
   "execution_count": 46,
   "id": "d2eb96a0",
   "metadata": {},
   "outputs": [],
   "source": [
    "test=pd.DataFrame(json_normalize(json.loads(data.text))).T\n",
    "test.to_excel('./SEC API Test/frames.xlsx')"
   ]
  },
  {
   "cell_type": "code",
   "execution_count": 55,
   "id": "8db437cc",
   "metadata": {
    "scrolled": false
   },
   "outputs": [],
   "source": [
    "json_normalize(test.T['data'][0]).to_excel('./SEC API Test/fromes-data_column.xlsx')"
   ]
  },
  {
   "cell_type": "code",
   "execution_count": 42,
   "id": "548960e0",
   "metadata": {},
   "outputs": [
    {
     "name": "stdout",
     "output_type": "stream",
     "text": [
      "Collecting secedgar==0.4.0a2\n",
      "  Downloading secedgar-0.4.0a2-py3-none-any.whl (56 kB)\n",
      "Requirement already satisfied: async-timeout<4.0,>=3.0 in c:\\users\\user\\anaconda3\\envs\\codingnj\\lib\\site-packages (from secedgar==0.4.0a2) (3.0.1)\n",
      "Requirement already satisfied: urllib3 in c:\\users\\user\\anaconda3\\envs\\codingnj\\lib\\site-packages (from secedgar==0.4.0a2) (1.26.7)\n",
      "Requirement already satisfied: lxml in c:\\users\\user\\anaconda3\\envs\\codingnj\\lib\\site-packages (from secedgar==0.4.0a2) (4.8.0)\n",
      "Requirement already satisfied: beautifulsoup4 in c:\\users\\user\\anaconda3\\envs\\codingnj\\lib\\site-packages (from secedgar==0.4.0a2) (4.10.0)\n",
      "Requirement already satisfied: requests in c:\\users\\user\\anaconda3\\envs\\codingnj\\lib\\site-packages (from secedgar==0.4.0a2) (2.27.0)\n",
      "Requirement already satisfied: aiohttp in c:\\users\\user\\anaconda3\\envs\\codingnj\\lib\\site-packages (from secedgar==0.4.0a2) (3.7.4.post0)\n",
      "Requirement already satisfied: tqdm in c:\\users\\user\\anaconda3\\envs\\codingnj\\lib\\site-packages (from secedgar==0.4.0a2) (4.62.3)\n",
      "Requirement already satisfied: attrs>=17.3.0 in c:\\users\\user\\anaconda3\\envs\\codingnj\\lib\\site-packages (from aiohttp->secedgar==0.4.0a2) (21.4.0)\n",
      "Requirement already satisfied: chardet<5.0,>=2.0 in c:\\users\\user\\anaconda3\\envs\\codingnj\\lib\\site-packages (from aiohttp->secedgar==0.4.0a2) (4.0.0)\n",
      "Requirement already satisfied: typing-extensions>=3.6.5 in c:\\users\\user\\anaconda3\\envs\\codingnj\\lib\\site-packages (from aiohttp->secedgar==0.4.0a2) (4.1.1)\n",
      "Requirement already satisfied: yarl<2.0,>=1.0 in c:\\users\\user\\anaconda3\\envs\\codingnj\\lib\\site-packages (from aiohttp->secedgar==0.4.0a2) (1.7.2)\n",
      "Requirement already satisfied: multidict<7.0,>=4.5 in c:\\users\\user\\anaconda3\\envs\\codingnj\\lib\\site-packages (from aiohttp->secedgar==0.4.0a2) (6.0.2)\n",
      "Requirement already satisfied: idna>=2.0 in c:\\users\\user\\anaconda3\\envs\\codingnj\\lib\\site-packages (from yarl<2.0,>=1.0->aiohttp->secedgar==0.4.0a2) (3.3)\n",
      "Requirement already satisfied: soupsieve>1.2 in c:\\users\\user\\anaconda3\\envs\\codingnj\\lib\\site-packages (from beautifulsoup4->secedgar==0.4.0a2) (2.3.1)\n",
      "Requirement already satisfied: charset-normalizer~=2.0.0 in c:\\users\\user\\anaconda3\\envs\\codingnj\\lib\\site-packages (from requests->secedgar==0.4.0a2) (2.0.9)\n",
      "Requirement already satisfied: certifi>=2017.4.17 in c:\\users\\user\\anaconda3\\envs\\codingnj\\lib\\site-packages (from requests->secedgar==0.4.0a2) (2021.10.8)\n",
      "Requirement already satisfied: colorama in c:\\users\\user\\anaconda3\\envs\\codingnj\\lib\\site-packages (from tqdm->secedgar==0.4.0a2) (0.4.4)\n",
      "Installing collected packages: secedgar\n",
      "  Attempting uninstall: secedgar\n",
      "    Found existing installation: secedgar 0.3.3\n",
      "    Uninstalling secedgar-0.3.3:\n",
      "      Successfully uninstalled secedgar-0.3.3\n",
      "Successfully installed secedgar-0.4.0a2\n"
     ]
    }
   ],
   "source": [
    "!pip install secedgar==0.4.0a2"
   ]
  },
  {
   "cell_type": "code",
   "execution_count": 55,
   "id": "eb0ed576",
   "metadata": {},
   "outputs": [],
   "source": [
    "import secedgar"
   ]
  },
  {
   "cell_type": "code",
   "execution_count": 80,
   "id": "dd11c7fa",
   "metadata": {},
   "outputs": [],
   "source": [
    "from sec_edgar_downloader import Downloader"
   ]
  },
  {
   "cell_type": "code",
   "execution_count": 81,
   "id": "d9c84380",
   "metadata": {},
   "outputs": [],
   "source": [
    "import sec_edgar_downloader "
   ]
  },
  {
   "cell_type": "code",
   "execution_count": 83,
   "id": "bf4336b8",
   "metadata": {},
   "outputs": [
    {
     "ename": "TypeError",
     "evalue": "'module' object is not callable",
     "output_type": "error",
     "traceback": [
      "\u001b[1;31m---------------------------------------------------------------------------\u001b[0m",
      "\u001b[1;31mTypeError\u001b[0m                                 Traceback (most recent call last)",
      "\u001b[1;32m~\\AppData\\Local\\Temp/ipykernel_11560/1215224209.py\u001b[0m in \u001b[0;36m<module>\u001b[1;34m\u001b[0m\n\u001b[0;32m      2\u001b[0m \u001b[1;31m# to the constructor, the package will download filings to\u001b[0m\u001b[1;33m\u001b[0m\u001b[1;33m\u001b[0m\u001b[0m\n\u001b[0;32m      3\u001b[0m \u001b[1;31m# the current working directory.\u001b[0m\u001b[1;33m\u001b[0m\u001b[1;33m\u001b[0m\u001b[0m\n\u001b[1;32m----> 4\u001b[1;33m \u001b[0mdl\u001b[0m \u001b[1;33m=\u001b[0m \u001b[0mDownloader\u001b[0m\u001b[1;33m(\u001b[0m\u001b[1;33m)\u001b[0m\u001b[1;33m\u001b[0m\u001b[1;33m\u001b[0m\u001b[0m\n\u001b[0m\u001b[0;32m      5\u001b[0m \u001b[1;33m\u001b[0m\u001b[0m\n\u001b[0;32m      6\u001b[0m \u001b[1;33m\u001b[0m\u001b[0m\n",
      "\u001b[1;31mTypeError\u001b[0m: 'module' object is not callable"
     ]
    }
   ],
   "source": [
    "# Initialize a downloader instance. If no argument is passed\n",
    "# to the constructor, the package will download filings to\n",
    "# the current working directory.\n",
    "dl = Downloader()\n",
    "\n",
    "\n",
    "# Get all 10-K filings for Microsoft\n",
    "dl.get(\"10-K\", \"MSFT\")\n",
    "\n",
    "# Get the latest 10-K filing for Microsoft\n",
    "dl.get(\"10-K\", \"MSFT\", amount=1)\n",
    "\n"
   ]
  },
  {
   "cell_type": "code",
   "execution_count": null,
   "id": "026a3110",
   "metadata": {},
   "outputs": [],
   "source": []
  },
  {
   "cell_type": "code",
   "execution_count": null,
   "id": "669e957b",
   "metadata": {},
   "outputs": [],
   "source": []
  }
 ],
 "metadata": {
  "kernelspec": {
   "display_name": "codingNJ",
   "language": "python",
   "name": "codingnj"
  },
  "language_info": {
   "codemirror_mode": {
    "name": "ipython",
    "version": 3
   },
   "file_extension": ".py",
   "mimetype": "text/x-python",
   "name": "python",
   "nbconvert_exporter": "python",
   "pygments_lexer": "ipython3",
   "version": "3.9.7"
  }
 },
 "nbformat": 4,
 "nbformat_minor": 5
}
