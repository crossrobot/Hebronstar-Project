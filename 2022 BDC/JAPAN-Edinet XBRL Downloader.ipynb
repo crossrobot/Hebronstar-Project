{
 "cells": [
  {
   "cell_type": "code",
   "execution_count": 2,
   "id": "d05a85a3",
   "metadata": {},
   "outputs": [
    {
     "name": "stdout",
     "output_type": "stream",
     "text": [
      "Collecting edinet-xbrl\n",
      "  Downloading edinet_xbrl-0.2.0.tar.gz (9.8 kB)\n",
      "Requirement already satisfied: python-xbrl in c:\\users\\user\\anaconda3\\envs\\codingnj\\lib\\site-packages (from edinet-xbrl) (1.1.1)\n",
      "Requirement already satisfied: requests in c:\\users\\user\\anaconda3\\envs\\codingnj\\lib\\site-packages (from edinet-xbrl) (2.27.0)\n",
      "Requirement already satisfied: pytest in c:\\users\\user\\anaconda3\\envs\\codingnj\\lib\\site-packages (from python-xbrl->edinet-xbrl) (7.1.2)\n",
      "Requirement already satisfied: beautifulsoup4 in c:\\users\\user\\anaconda3\\envs\\codingnj\\lib\\site-packages (from python-xbrl->edinet-xbrl) (4.10.0)\n",
      "Requirement already satisfied: six in c:\\users\\user\\anaconda3\\envs\\codingnj\\lib\\site-packages (from python-xbrl->edinet-xbrl) (1.16.0)\n",
      "Requirement already satisfied: marshmallow in c:\\users\\user\\anaconda3\\envs\\codingnj\\lib\\site-packages (from python-xbrl->edinet-xbrl) (3.15.0)\n",
      "Requirement already satisfied: ordereddict in c:\\users\\user\\anaconda3\\envs\\codingnj\\lib\\site-packages (from python-xbrl->edinet-xbrl) (1.1)\n",
      "Requirement already satisfied: lxml in c:\\users\\user\\anaconda3\\envs\\codingnj\\lib\\site-packages (from python-xbrl->edinet-xbrl) (4.8.0)\n",
      "Requirement already satisfied: pep8 in c:\\users\\user\\anaconda3\\envs\\codingnj\\lib\\site-packages (from python-xbrl->edinet-xbrl) (1.7.1)\n",
      "Requirement already satisfied: soupsieve>1.2 in c:\\users\\user\\anaconda3\\envs\\codingnj\\lib\\site-packages (from beautifulsoup4->python-xbrl->edinet-xbrl) (2.3.1)\n",
      "Requirement already satisfied: packaging in c:\\users\\user\\anaconda3\\envs\\codingnj\\lib\\site-packages (from marshmallow->python-xbrl->edinet-xbrl) (21.3)\n",
      "Requirement already satisfied: pyparsing!=3.0.5,>=2.0.2 in c:\\users\\user\\anaconda3\\envs\\codingnj\\lib\\site-packages (from packaging->marshmallow->python-xbrl->edinet-xbrl) (3.0.6)\n",
      "Requirement already satisfied: tomli>=1.0.0 in c:\\users\\user\\anaconda3\\envs\\codingnj\\lib\\site-packages (from pytest->python-xbrl->edinet-xbrl) (2.0.1)\n",
      "Requirement already satisfied: atomicwrites>=1.0 in c:\\users\\user\\anaconda3\\envs\\codingnj\\lib\\site-packages (from pytest->python-xbrl->edinet-xbrl) (1.4.0)\n",
      "Requirement already satisfied: iniconfig in c:\\users\\user\\anaconda3\\envs\\codingnj\\lib\\site-packages (from pytest->python-xbrl->edinet-xbrl) (1.1.1)\n",
      "Requirement already satisfied: pluggy<2.0,>=0.12 in c:\\users\\user\\anaconda3\\envs\\codingnj\\lib\\site-packages (from pytest->python-xbrl->edinet-xbrl) (1.0.0)\n",
      "Requirement already satisfied: colorama in c:\\users\\user\\anaconda3\\envs\\codingnj\\lib\\site-packages (from pytest->python-xbrl->edinet-xbrl) (0.4.4)\n",
      "Requirement already satisfied: attrs>=19.2.0 in c:\\users\\user\\anaconda3\\envs\\codingnj\\lib\\site-packages (from pytest->python-xbrl->edinet-xbrl) (21.4.0)\n",
      "Requirement already satisfied: py>=1.8.2 in c:\\users\\user\\anaconda3\\envs\\codingnj\\lib\\site-packages (from pytest->python-xbrl->edinet-xbrl) (1.11.0)\n",
      "Requirement already satisfied: urllib3<1.27,>=1.21.1 in c:\\users\\user\\anaconda3\\envs\\codingnj\\lib\\site-packages (from requests->edinet-xbrl) (1.26.7)\n",
      "Requirement already satisfied: charset-normalizer~=2.0.0 in c:\\users\\user\\anaconda3\\envs\\codingnj\\lib\\site-packages (from requests->edinet-xbrl) (2.0.9)\n",
      "Requirement already satisfied: idna<4,>=2.5 in c:\\users\\user\\anaconda3\\envs\\codingnj\\lib\\site-packages (from requests->edinet-xbrl) (3.3)\n",
      "Requirement already satisfied: certifi>=2017.4.17 in c:\\users\\user\\anaconda3\\envs\\codingnj\\lib\\site-packages (from requests->edinet-xbrl) (2021.10.8)\n",
      "Building wheels for collected packages: edinet-xbrl\n",
      "  Building wheel for edinet-xbrl (setup.py): started\n",
      "  Building wheel for edinet-xbrl (setup.py): finished with status 'done'\n",
      "  Created wheel for edinet-xbrl: filename=edinet_xbrl-0.2.0-py2.py3-none-any.whl size=10862 sha256=57e657d1473ff5bedd59dda50653c2591d1517900fca768e757621bd1d6e4bf2\n",
      "  Stored in directory: c:\\users\\user\\appdata\\local\\pip\\cache\\wheels\\c8\\2e\\41\\85e7b5472c752c6077cb023a9dcd0d6ed7fab422c515094fad\n",
      "Successfully built edinet-xbrl\n",
      "Installing collected packages: edinet-xbrl\n",
      "Successfully installed edinet-xbrl-0.2.0\n"
     ]
    }
   ],
   "source": [
    "! pip install edinet-xbrl"
   ]
  },
  {
   "cell_type": "code",
   "execution_count": 6,
   "id": "94b17580",
   "metadata": {},
   "outputs": [],
   "source": [
    "from edinet_xbrl.edinet_xbrl_downloader import EdinetXbrlDownloader\n",
    "\n",
    "## init downloader\n",
    "xbrl_downloader = EdinetXbrlDownloader()\n",
    "\n",
    "## set a ticker you want to download xbrl file\n",
    "ticker = \"1234\"\n",
    "target_dir = \"C:\\\\Users\\\\user\\\\Desktop\"\n",
    "xbrl_downloader.download_by_ticker(ticker, target_dir)"
   ]
  },
  {
   "cell_type": "code",
   "execution_count": null,
   "id": "4f60eb8e",
   "metadata": {},
   "outputs": [],
   "source": [
    "from edinet_xbrl.edinet_xbrl_parser import EdinetXbrlParser\n",
    "\n",
    "## init parser\n",
    "parser = EdinetXbrlParser()\n",
    "\n",
    "## parse xbrl file and get data container\n",
    "xbrl_file_path = \"set your xbrl file path\"\n",
    "edinet_xbrl_object = parser.parse_file(xbrl_file_path)\n",
    "\n",
    "## get value from container\n",
    "key = \"jppfs_cor:Assets\"\n",
    "context_ref = \"CurrentYearInstant\"\n",
    "current_year_assets = edinet_xbrl_object.get_data_by_context_ref(key, context_ref).get_value()"
   ]
  }
 ],
 "metadata": {
  "kernelspec": {
   "display_name": "codingNJ",
   "language": "python",
   "name": "codingnj"
  },
  "language_info": {
   "codemirror_mode": {
    "name": "ipython",
    "version": 3
   },
   "file_extension": ".py",
   "mimetype": "text/x-python",
   "name": "python",
   "nbconvert_exporter": "python",
   "pygments_lexer": "ipython3",
   "version": "3.9.7"
  }
 },
 "nbformat": 4,
 "nbformat_minor": 5
}
