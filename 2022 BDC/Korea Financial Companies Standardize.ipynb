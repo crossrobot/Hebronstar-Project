{
 "cells": [
  {
   "cell_type": "markdown",
   "id": "a5fd58ba",
   "metadata": {},
   "source": [
    "# Issue \n",
    "1. 금융업계의 재무제표는 일반 기업들의 재무제표와 계정과목 명이 다르다. 또한 IFRS로 표준화 되어 있지 않다. \n",
    "2. 금융업(투자은행, 은행, 상해보험, 손해보험, 카드사)은 여러 업종으로 나눠지지만, 크게 투자은행, 은행, 카드사와 보험사(상해보험, 손해보험) 두가지 업종으로 구분할 수 있다. \n"
   ]
  },
  {
   "cell_type": "code",
   "execution_count": 2,
   "id": "7a76de07",
   "metadata": {
    "scrolled": false
   },
   "outputs": [
    {
     "name": "stdout",
     "output_type": "stream",
     "text": [
      "Requirement already satisfied: pandas in c:\\users\\user\\anaconda3\\envs\\codingnj\\lib\\site-packages (1.2.5)\n",
      "Collecting pandas\n",
      "  Using cached pandas-1.4.2-cp39-cp39-win_amd64.whl (10.5 MB)\n",
      "Requirement already satisfied: python-dateutil>=2.8.1 in c:\\users\\user\\anaconda3\\envs\\codingnj\\lib\\site-packages (from pandas) (2.8.2)\n",
      "Requirement already satisfied: pytz>=2020.1 in c:\\users\\user\\anaconda3\\envs\\codingnj\\lib\\site-packages (from pandas) (2021.3)\n",
      "Requirement already satisfied: numpy>=1.18.5 in c:\\users\\user\\anaconda3\\envs\\codingnj\\lib\\site-packages (from pandas) (1.22.4)\n",
      "Requirement already satisfied: six>=1.5 in c:\\users\\user\\anaconda3\\envs\\codingnj\\lib\\site-packages (from python-dateutil>=2.8.1->pandas) (1.16.0)\n",
      "Installing collected packages: pandas\n",
      "  Attempting uninstall: pandas\n",
      "    Found existing installation: pandas 1.2.5\n",
      "    Uninstalling pandas-1.2.5:\n",
      "      Successfully uninstalled pandas-1.2.5\n",
      "Successfully installed pandas-1.4.2\n"
     ]
    },
    {
     "name": "stderr",
     "output_type": "stream",
     "text": [
      "ERROR: pip's dependency resolver does not currently take into account all the packages that are installed. This behaviour is the source of the following dependency conflicts.\n",
      "dart-fss 0.3.16 requires pandas<1.3.0,>=1.1.5; python_version >= \"3.7\", but you have pandas 1.4.2 which is incompatible.\n"
     ]
    },
    {
     "name": "stdout",
     "output_type": "stream",
     "text": [
      "Requirement already satisfied: numpy in c:\\users\\user\\anaconda3\\envs\\codingnj\\lib\\site-packages (1.22.4)\n"
     ]
    }
   ],
   "source": [
    "!pip install pandas --upgrade\n",
    "!pip install numpy --upgrade\n"
   ]
  },
  {
   "cell_type": "code",
   "execution_count": 1,
   "id": "cf841b3c",
   "metadata": {},
   "outputs": [
    {
     "name": "stdout",
     "output_type": "stream",
     "text": [
      "Requirement already satisfied: dart_fss in c:\\users\\user\\anaconda3\\envs\\codingnj\\lib\\site-packages (0.3.16)\n",
      "Requirement already satisfied: idna>=3.0 in c:\\users\\user\\anaconda3\\envs\\codingnj\\lib\\site-packages (from dart_fss) (3.3)\n",
      "Collecting pandas<1.3.0,>=1.1.5\n",
      "  Using cached pandas-1.2.5-cp39-cp39-win_amd64.whl (9.3 MB)\n",
      "Requirement already satisfied: decorator in c:\\users\\user\\anaconda3\\envs\\codingnj\\lib\\site-packages (from dart_fss) (5.1.0)\n",
      "Requirement already satisfied: appdirs in c:\\users\\user\\anaconda3\\envs\\codingnj\\lib\\site-packages (from dart_fss) (1.4.4)\n",
      "Requirement already satisfied: isodate in c:\\users\\user\\anaconda3\\envs\\codingnj\\lib\\site-packages (from dart_fss) (0.6.1)\n",
      "Requirement already satisfied: beautifulsoup4 in c:\\users\\user\\anaconda3\\envs\\codingnj\\lib\\site-packages (from dart_fss) (4.10.0)\n",
      "Requirement already satisfied: traitlets in c:\\users\\user\\anaconda3\\envs\\codingnj\\lib\\site-packages (from dart_fss) (5.1.1)\n",
      "Requirement already satisfied: openpyxl in c:\\users\\user\\anaconda3\\envs\\codingnj\\lib\\site-packages (from dart_fss) (3.0.9)\n",
      "Requirement already satisfied: ipython-genutils in c:\\users\\user\\anaconda3\\envs\\codingnj\\lib\\site-packages (from dart_fss) (0.2.0)\n",
      "Requirement already satisfied: xmltodict in c:\\users\\user\\anaconda3\\envs\\codingnj\\lib\\site-packages (from dart_fss) (0.12.0)\n",
      "Requirement already satisfied: six in c:\\users\\user\\anaconda3\\envs\\codingnj\\lib\\site-packages (from dart_fss) (1.16.0)\n",
      "Requirement already satisfied: certifi in c:\\users\\user\\anaconda3\\envs\\codingnj\\lib\\site-packages (from dart_fss) (2021.10.8)\n",
      "Requirement already satisfied: pickleshare in c:\\users\\user\\anaconda3\\envs\\codingnj\\lib\\site-packages (from dart_fss) (0.7.5)\n",
      "Requirement already satisfied: fake-useragent in c:\\users\\user\\anaconda3\\envs\\codingnj\\lib\\site-packages (from dart_fss) (0.1.11)\n",
      "Requirement already satisfied: python-dateutil in c:\\users\\user\\anaconda3\\envs\\codingnj\\lib\\site-packages (from dart_fss) (2.8.2)\n",
      "Requirement already satisfied: wcwidth in c:\\users\\user\\anaconda3\\envs\\codingnj\\lib\\site-packages (from dart_fss) (0.2.5)\n",
      "Requirement already satisfied: soupsieve in c:\\users\\user\\anaconda3\\envs\\codingnj\\lib\\site-packages (from dart_fss) (2.3.1)\n",
      "Requirement already satisfied: html5lib in c:\\users\\user\\anaconda3\\envs\\codingnj\\lib\\site-packages (from dart_fss) (1.1)\n",
      "Requirement already satisfied: tqdm in c:\\users\\user\\anaconda3\\envs\\codingnj\\lib\\site-packages (from dart_fss) (4.62.3)\n",
      "Requirement already satisfied: attrs in c:\\users\\user\\anaconda3\\envs\\codingnj\\lib\\site-packages (from dart_fss) (21.4.0)\n",
      "Requirement already satisfied: numpy>=1.19.5 in c:\\users\\user\\anaconda3\\envs\\codingnj\\lib\\site-packages (from dart_fss) (1.22.4)\n",
      "Requirement already satisfied: arelle in c:\\users\\user\\anaconda3\\envs\\codingnj\\lib\\site-packages (from dart_fss) (2.2)\n",
      "Requirement already satisfied: requests in c:\\users\\user\\anaconda3\\envs\\codingnj\\lib\\site-packages (from dart_fss) (2.27.0)\n",
      "Requirement already satisfied: lxml in c:\\users\\user\\anaconda3\\envs\\codingnj\\lib\\site-packages (from dart_fss) (4.8.0)\n",
      "Requirement already satisfied: halo in c:\\users\\user\\anaconda3\\envs\\codingnj\\lib\\site-packages (from dart_fss) (0.0.31)\n",
      "Requirement already satisfied: urllib3 in c:\\users\\user\\anaconda3\\envs\\codingnj\\lib\\site-packages (from dart_fss) (1.26.7)\n",
      "Requirement already satisfied: backcall in c:\\users\\user\\anaconda3\\envs\\codingnj\\lib\\site-packages (from dart_fss) (0.2.0)\n",
      "Requirement already satisfied: py in c:\\users\\user\\anaconda3\\envs\\codingnj\\lib\\site-packages (from dart_fss) (1.11.0)\n",
      "Requirement already satisfied: chardet in c:\\users\\user\\anaconda3\\envs\\codingnj\\lib\\site-packages (from dart_fss) (4.0.0)\n",
      "Requirement already satisfied: pytz in c:\\users\\user\\anaconda3\\envs\\codingnj\\lib\\site-packages (from dart_fss) (2021.3)\n",
      "Requirement already satisfied: termcolor>=1.1.0 in c:\\users\\user\\anaconda3\\envs\\codingnj\\lib\\site-packages (from halo->dart_fss) (1.1.0)\n",
      "Requirement already satisfied: spinners>=0.0.24 in c:\\users\\user\\anaconda3\\envs\\codingnj\\lib\\site-packages (from halo->dart_fss) (0.0.24)\n",
      "Requirement already satisfied: colorama>=0.3.9 in c:\\users\\user\\anaconda3\\envs\\codingnj\\lib\\site-packages (from halo->dart_fss) (0.4.4)\n",
      "Requirement already satisfied: log-symbols>=0.0.14 in c:\\users\\user\\anaconda3\\envs\\codingnj\\lib\\site-packages (from halo->dart_fss) (0.0.14)\n",
      "Requirement already satisfied: webencodings in c:\\users\\user\\anaconda3\\envs\\codingnj\\lib\\site-packages (from html5lib->dart_fss) (0.5.1)\n",
      "Requirement already satisfied: et-xmlfile in c:\\users\\user\\anaconda3\\envs\\codingnj\\lib\\site-packages (from openpyxl->dart_fss) (1.1.0)\n",
      "Requirement already satisfied: charset-normalizer~=2.0.0 in c:\\users\\user\\anaconda3\\envs\\codingnj\\lib\\site-packages (from requests->dart_fss) (2.0.9)\n",
      "Installing collected packages: pandas\n",
      "  Attempting uninstall: pandas\n",
      "    Found existing installation: pandas 1.4.2\n",
      "    Uninstalling pandas-1.4.2:\n",
      "      Successfully uninstalled pandas-1.4.2\n",
      "Successfully installed pandas-1.2.5\n"
     ]
    }
   ],
   "source": [
    "! pip install dart_fss"
   ]
  },
  {
   "cell_type": "code",
   "execution_count": 1,
   "id": "06cdb109",
   "metadata": {},
   "outputs": [],
   "source": [
    "import pandas as pd\n",
    "import dart_fss as dart"
   ]
  },
  {
   "cell_type": "code",
   "execution_count": 2,
   "id": "1cf5e5ed",
   "metadata": {},
   "outputs": [
    {
     "name": "stderr",
     "output_type": "stream",
     "text": [
      "C:\\Users\\user\\anaconda3\\envs\\codingNJ\\lib\\site-packages\\openpyxl\\styles\\stylesheet.py:226: UserWarning: Workbook contains no default style, apply openpyxl's default\n",
      "  warn(\"Workbook contains no default style, apply openpyxl's default\")\n"
     ]
    },
    {
     "data": {
      "application/vnd.jupyter.widget-view+json": {
       "model_id": "be5939966a08458fb36b2f4b304fe6a3",
       "version_major": 2,
       "version_minor": 0
      },
      "text/plain": [
       "Output()"
      ]
     },
     "metadata": {},
     "output_type": "display_data"
    },
    {
     "data": {
      "application/vnd.jupyter.widget-view+json": {
       "model_id": "2a4dff3e5f1646a7b9f324d7b9c12ec8",
       "version_major": 2,
       "version_minor": 0
      },
      "text/plain": [
       "Output()"
      ]
     },
     "metadata": {},
     "output_type": "display_data"
    },
    {
     "data": {
      "application/vnd.jupyter.widget-view+json": {
       "model_id": "81e542d774d14df09f0c55db09deea96",
       "version_major": 2,
       "version_minor": 0
      },
      "text/plain": [
       "Output()"
      ]
     },
     "metadata": {},
     "output_type": "display_data"
    },
    {
     "name": "stdout",
     "output_type": "stream",
     "text": [
      "041140\n",
      "220630\n",
      "225850\n",
      "329560\n",
      "052190\n",
      "039670\n",
      "225330\n",
      "050320\n",
      "950180\n",
      "138250\n",
      "225860\n",
      "270020\n",
      "240340\n",
      "330990\n",
      "153360\n",
      "066110\n",
      "053660\n"
     ]
    }
   ],
   "source": [
    "# 다운받은 전종목 기본정보 불러오기 \n",
    "all_stocks = pd.read_excel('./data_5655_20220311.xlsx')\n",
    "\n",
    "# 상장기업 주식 코드 중 보통주만 걸러내기 \n",
    "listed_companies = all_stocks[all_stocks['주식종류']=='보통주']\n",
    "\n",
    "# DART API KEY 설정\n",
    "api_key='7db60698e63bd621a006025500fe0436ee65cb47'\n",
    "dart.set_api_key(api_key=api_key)\n",
    "\n",
    "# DART 에 공시된 회사 리스트 불러오기\n",
    "corp_list = dart.corp.get_corp_list()\n",
    "\n",
    "# 상장 기업들의 기업코드와 회사 이름\n",
    "listed_companies_corp_code = []\n",
    "listed_companies_name = []\n",
    "\n",
    "for stock_code in listed_companies['단축코드'] : \n",
    "    #corp_list.find_by_corp_name( ) 함수의 결과 데이터는 [[종목 코드]종목 이름]의 형태\n",
    "    #이를 벗겨내기 위해서 corp_list.find_by_corp_name( )[0]으로 코딩함 \n",
    "    try : \n",
    "        listed_companies_corp_code.append(corp_list.find_by_stock_code(stock_code).corp_code)\n",
    "        listed_companies_name.append(corp_list.find_by_stock_code(stock_code).corp_name)\n",
    "        \n",
    "    except : \n",
    "        # corp_list\n",
    "        print(stock_code)\n",
    "        \n",
    "corp_dic = { name:value for name, value in zip(listed_companies_corp_code, listed_companies_name) }"
   ]
  },
  {
   "cell_type": "markdown",
   "id": "e7cd65e8",
   "metadata": {},
   "source": [
    "# Solution \n",
    "1. 금융, 은행, 상해보험, 카드 라는 이름이 들어간 회사들의 계정명을 추출한다. \n",
    "2. 이름에 '보험'이 들어간 회사들의 계정명을 추출한다. \n",
    "\n",
    "비교한다. \n",
    "- 가장 많은 계정과목명이 들어간 회사를 찾는다. \n",
    "- 또한 계정과목명의 variation들을 찾아낸다. "
   ]
  },
  {
   "cell_type": "code",
   "execution_count": 5,
   "id": "8f6f1eff",
   "metadata": {},
   "outputs": [],
   "source": [
    "# Open Dart Reader 라이브러리로 추출해 내지 못한 기업들을 불러온다. \n",
    "error_log = pd.read_csv('./한국기업 재무정보 수집 산출물/error log.csv', encoding = 'cp949')"
   ]
  },
  {
   "cell_type": "code",
   "execution_count": 6,
   "id": "387498d0",
   "metadata": {},
   "outputs": [
    {
     "data": {
      "text/plain": [
       "4"
      ]
     },
     "execution_count": 6,
     "metadata": {},
     "output_type": "execute_result"
    }
   ],
   "source": [
    "error_log['기업명'].str.contains('보험').sum()"
   ]
  },
  {
   "cell_type": "markdown",
   "id": "20f90c82",
   "metadata": {},
   "source": [
    "'금융'이 포함된 회사 19    \n",
    "'생명'이 포함된 회사 8  \n",
    "'화재'가 포함된 회사 5  \n",
    "'보험'이 포함된 회사 4  \n",
    "'투자'가 포함된 회사 11   \n",
    "'증권'이 포함된 회사 21  \n",
    "'은행'이 포함된 회사 3  \n",
    "'카드'가 포함된 회사 1  \n",
    "총 72개의 회사  "
   ]
  },
  {
   "cell_type": "markdown",
   "id": "0b727727",
   "metadata": {},
   "source": [
    "**금융기업들을 리스트업** "
   ]
  },
  {
   "cell_type": "code",
   "execution_count": 7,
   "id": "27242e53",
   "metadata": {},
   "outputs": [],
   "source": [
    "은행 = error_log[error_log['기업명'].str.contains('은행')]\n",
    "금융 = error_log[error_log['기업명'].str.contains('금융')]\n",
    "증권 = error_log[error_log['기업명'].str.contains('증권')]\n",
    "투자 = error_log[error_log['기업명'].str.contains('투자')]\n",
    "생명 = error_log[error_log['기업명'].str.contains('생명')]\n",
    "보험 = error_log[error_log['기업명'].str.contains('보험')]\n",
    "화재 = error_log[error_log['기업명'].str.contains('화재')]\n",
    "카드 = error_log[error_log['기업명'].str.contains('카드')]"
   ]
  },
  {
   "cell_type": "code",
   "execution_count": 8,
   "id": "b080f762",
   "metadata": {},
   "outputs": [],
   "source": [
    "은행_금융_카드 = pd.concat([은행,금융,카드])\n",
    "증권_투자 = pd.concat([증권, 투자])\n",
    "생명_화재_보험 = pd.concat([생명, 화재,보험])"
   ]
  },
  {
   "cell_type": "markdown",
   "id": "aadc0bee",
   "metadata": {},
   "source": [
    "숫자를 스트링으로 바꾸는 함수"
   ]
  },
  {
   "cell_type": "code",
   "execution_count": 9,
   "id": "efcab9da",
   "metadata": {},
   "outputs": [],
   "source": [
    "def unit_editor(x) : \n",
    "    to_add = 8-len(str(x))\n",
    "    edited = to_add*'0'+str(x)\n",
    "    return edited "
   ]
  },
  {
   "cell_type": "code",
   "execution_count": 10,
   "id": "54da9b9d",
   "metadata": {},
   "outputs": [],
   "source": [
    "은행_금융_카드['DART 기업코드'] = 은행_금융_카드['DART 기업코드'].apply(lambda x : unit_editor(x))\n",
    "증권_투자['DART 기업코드'] = 증권_투자['DART 기업코드'].apply(lambda x : unit_editor(x))\n",
    "생명_화재_보험['DART 기업코드'] = 생명_화재_보험['DART 기업코드'].apply(lambda x : unit_editor(x))"
   ]
  },
  {
   "cell_type": "markdown",
   "id": "4729cbe4",
   "metadata": {},
   "source": [
    "## dart - fss 라이브러리 이용\n",
    "dart-fss 라이브러리는 xbrl을 이용하는 것이 아닌, html에 직접 들어가서 정보를 찾아오는 방법이다.  \n",
    "dart-fss 라이브러리의 extract 메서드를 활용하여 재무제표를 추출할 수 있다. \n",
    "이때 'separate' 옵션은 ~ 을 추출하는 것으로 default 값은 false이지만, 회사에 ~ 재무제표만 존재하는 경우 "
   ]
  },
  {
   "cell_type": "code",
   "execution_count": 11,
   "id": "4bf5dea8",
   "metadata": {},
   "outputs": [
    {
     "data": {
      "text/plain": [
       "'7db60698e63bd621a006025500fe0436ee65cb47'"
      ]
     },
     "execution_count": 11,
     "metadata": {},
     "output_type": "execute_result"
    }
   ],
   "source": [
    "# 상성화재손해보험, quarter, separate = False(default)\n",
    "api_key='7db60698e63bd621a006025500fe0436ee65cb47'\n",
    "dart.set_api_key(api_key=api_key)"
   ]
  },
  {
   "cell_type": "code",
   "execution_count": 12,
   "id": "a7cf019d",
   "metadata": {
    "scrolled": false
   },
   "outputs": [
    {
     "data": {
      "application/vnd.jupyter.widget-view+json": {
       "model_id": "0234bfdd0e344d80b16c84fd6c3157e4",
       "version_major": 2,
       "version_minor": 0
      },
      "text/plain": [
       "Annual reports:   0%|          | 0/3 [00:00<?, ?report/s]"
      ]
     },
     "metadata": {},
     "output_type": "display_data"
    },
    {
     "data": {
      "application/vnd.jupyter.widget-view+json": {
       "model_id": "718d981148d54e6eb6fa4fb9c91b14be",
       "version_major": 2,
       "version_minor": 0
      },
      "text/plain": [
       "Annual reports:   0%|          | 0/3 [00:00<?, ?report/s]"
      ]
     },
     "metadata": {},
     "output_type": "display_data"
    },
    {
     "data": {
      "application/vnd.jupyter.widget-view+json": {
       "model_id": "652888c26eaf4a7ca6cf2806d489515f",
       "version_major": 2,
       "version_minor": 0
      },
      "text/plain": [
       "Annual reports:   0%|          | 0/3 [00:00<?, ?report/s]"
      ]
     },
     "metadata": {},
     "output_type": "display_data"
    },
    {
     "data": {
      "application/vnd.jupyter.widget-view+json": {
       "model_id": "def8790f1c044f17ac7e5d9bead13252",
       "version_major": 2,
       "version_minor": 0
      },
      "text/plain": [
       "Annual reports:   0%|          | 0/3 [00:00<?, ?report/s]"
      ]
     },
     "metadata": {},
     "output_type": "display_data"
    },
    {
     "data": {
      "application/vnd.jupyter.widget-view+json": {
       "model_id": "572d2e33b11247c8b8c8e268faf42670",
       "version_major": 2,
       "version_minor": 0
      },
      "text/plain": [
       "Annual reports:   0%|          | 0/3 [00:00<?, ?report/s]"
      ]
     },
     "metadata": {},
     "output_type": "display_data"
    },
    {
     "data": {
      "application/vnd.jupyter.widget-view+json": {
       "model_id": "687e5d3da3f6458aa392e372b7998cff",
       "version_major": 2,
       "version_minor": 0
      },
      "text/plain": [
       "Annual reports:   0%|          | 0/3 [00:00<?, ?report/s]"
      ]
     },
     "metadata": {},
     "output_type": "display_data"
    },
    {
     "data": {
      "application/vnd.jupyter.widget-view+json": {
       "model_id": "ddb3d37f2d7b41b99d61f5fc2f90912b",
       "version_major": 2,
       "version_minor": 0
      },
      "text/plain": [
       "Annual reports:   0%|          | 0/3 [00:00<?, ?report/s]"
      ]
     },
     "metadata": {},
     "output_type": "display_data"
    },
    {
     "data": {
      "application/vnd.jupyter.widget-view+json": {
       "model_id": "d05226787d90459a9a28f2a05b235cb0",
       "version_major": 2,
       "version_minor": 0
      },
      "text/plain": [
       "Annual reports:   0%|          | 0/5 [00:00<?, ?report/s]"
      ]
     },
     "metadata": {},
     "output_type": "display_data"
    },
    {
     "data": {
      "application/vnd.jupyter.widget-view+json": {
       "model_id": "c8e202e5340b4998add26cc06b5032e3",
       "version_major": 2,
       "version_minor": 0
      },
      "text/plain": [
       "Annual reports:   0%|          | 0/1 [00:00<?, ?report/s]"
      ]
     },
     "metadata": {},
     "output_type": "display_data"
    },
    {
     "data": {
      "application/vnd.jupyter.widget-view+json": {
       "model_id": "f7cd3c008cb14ca0928191bdec147c99",
       "version_major": 2,
       "version_minor": 0
      },
      "text/plain": [
       "Annual reports:   0%|          | 0/2 [00:00<?, ?report/s]"
      ]
     },
     "metadata": {},
     "output_type": "display_data"
    },
    {
     "data": {
      "application/vnd.jupyter.widget-view+json": {
       "model_id": "306fabeabca840f5a30bb27212d9ba1f",
       "version_major": 2,
       "version_minor": 0
      },
      "text/plain": [
       "Annual reports:   0%|          | 0/2 [00:00<?, ?report/s]"
      ]
     },
     "metadata": {},
     "output_type": "display_data"
    },
    {
     "data": {
      "application/vnd.jupyter.widget-view+json": {
       "model_id": "76ec996de3bc457583a0c77d6a13c333",
       "version_major": 2,
       "version_minor": 0
      },
      "text/plain": [
       "Annual reports:   0%|          | 0/3 [00:00<?, ?report/s]"
      ]
     },
     "metadata": {},
     "output_type": "display_data"
    },
    {
     "data": {
      "application/vnd.jupyter.widget-view+json": {
       "model_id": "a7bcc0b194b542cf8f74d0dca2426f7c",
       "version_major": 2,
       "version_minor": 0
      },
      "text/plain": [
       "Annual reports:   0%|          | 0/3 [00:00<?, ?report/s]"
      ]
     },
     "metadata": {},
     "output_type": "display_data"
    },
    {
     "name": "stderr",
     "output_type": "stream",
     "text": [
      "Traceback (most recent call last):\n",
      "  File \"C:\\Users\\user\\anaconda3\\envs\\codingNJ\\lib\\site-packages\\urllib3\\connectionpool.py\", line 699, in urlopen\n",
      "    httplib_response = self._make_request(\n",
      "  File \"C:\\Users\\user\\anaconda3\\envs\\codingNJ\\lib\\site-packages\\urllib3\\connectionpool.py\", line 445, in _make_request\n",
      "    six.raise_from(e, None)\n",
      "  File \"<string>\", line 3, in raise_from\n",
      "  File \"C:\\Users\\user\\anaconda3\\envs\\codingNJ\\lib\\site-packages\\urllib3\\connectionpool.py\", line 440, in _make_request\n",
      "    httplib_response = conn.getresponse()\n",
      "  File \"C:\\Users\\user\\anaconda3\\envs\\codingNJ\\lib\\http\\client.py\", line 1371, in getresponse\n",
      "    response.begin()\n",
      "  File \"C:\\Users\\user\\anaconda3\\envs\\codingNJ\\lib\\http\\client.py\", line 319, in begin\n",
      "    version, status, reason = self._read_status()\n",
      "  File \"C:\\Users\\user\\anaconda3\\envs\\codingNJ\\lib\\http\\client.py\", line 280, in _read_status\n",
      "    line = str(self.fp.readline(_MAXLINE + 1), \"iso-8859-1\")\n",
      "  File \"C:\\Users\\user\\anaconda3\\envs\\codingNJ\\lib\\socket.py\", line 704, in readinto\n",
      "    return self._sock.recv_into(b)\n",
      "  File \"C:\\Users\\user\\anaconda3\\envs\\codingNJ\\lib\\ssl.py\", line 1241, in recv_into\n",
      "    return self.read(nbytes, buffer)\n",
      "  File \"C:\\Users\\user\\anaconda3\\envs\\codingNJ\\lib\\ssl.py\", line 1099, in read\n",
      "    return self._sslobj.read(len, buffer)\n",
      "ConnectionResetError: [WinError 10054] 현재 연결은 원격 호스트에 의해 강제로 끊겼습니다\n",
      "\n",
      "During handling of the above exception, another exception occurred:\n",
      "\n",
      "Traceback (most recent call last):\n",
      "  File \"C:\\Users\\user\\anaconda3\\envs\\codingNJ\\lib\\site-packages\\requests\\adapters.py\", line 440, in send\n",
      "    resp = conn.urlopen(\n",
      "  File \"C:\\Users\\user\\anaconda3\\envs\\codingNJ\\lib\\site-packages\\urllib3\\connectionpool.py\", line 755, in urlopen\n",
      "    retries = retries.increment(\n",
      "  File \"C:\\Users\\user\\anaconda3\\envs\\codingNJ\\lib\\site-packages\\urllib3\\util\\retry.py\", line 532, in increment\n",
      "    raise six.reraise(type(error), error, _stacktrace)\n",
      "  File \"C:\\Users\\user\\anaconda3\\envs\\codingNJ\\lib\\site-packages\\urllib3\\packages\\six.py\", line 769, in reraise\n",
      "    raise value.with_traceback(tb)\n",
      "  File \"C:\\Users\\user\\anaconda3\\envs\\codingNJ\\lib\\site-packages\\urllib3\\connectionpool.py\", line 699, in urlopen\n",
      "    httplib_response = self._make_request(\n",
      "  File \"C:\\Users\\user\\anaconda3\\envs\\codingNJ\\lib\\site-packages\\urllib3\\connectionpool.py\", line 445, in _make_request\n",
      "    six.raise_from(e, None)\n",
      "  File \"<string>\", line 3, in raise_from\n",
      "  File \"C:\\Users\\user\\anaconda3\\envs\\codingNJ\\lib\\site-packages\\urllib3\\connectionpool.py\", line 440, in _make_request\n",
      "    httplib_response = conn.getresponse()\n",
      "  File \"C:\\Users\\user\\anaconda3\\envs\\codingNJ\\lib\\http\\client.py\", line 1371, in getresponse\n",
      "    response.begin()\n",
      "  File \"C:\\Users\\user\\anaconda3\\envs\\codingNJ\\lib\\http\\client.py\", line 319, in begin\n",
      "    version, status, reason = self._read_status()\n",
      "  File \"C:\\Users\\user\\anaconda3\\envs\\codingNJ\\lib\\http\\client.py\", line 280, in _read_status\n",
      "    line = str(self.fp.readline(_MAXLINE + 1), \"iso-8859-1\")\n",
      "  File \"C:\\Users\\user\\anaconda3\\envs\\codingNJ\\lib\\socket.py\", line 704, in readinto\n",
      "    return self._sock.recv_into(b)\n",
      "  File \"C:\\Users\\user\\anaconda3\\envs\\codingNJ\\lib\\ssl.py\", line 1241, in recv_into\n",
      "    return self.read(nbytes, buffer)\n",
      "  File \"C:\\Users\\user\\anaconda3\\envs\\codingNJ\\lib\\ssl.py\", line 1099, in read\n",
      "    return self._sslobj.read(len, buffer)\n",
      "urllib3.exceptions.ProtocolError: ('Connection aborted.', ConnectionResetError(10054, '현재 연결은 원격 호스트에 의해 강제로 끊겼습니다', None, 10054, None))\n",
      "\n",
      "During handling of the above exception, another exception occurred:\n",
      "\n",
      "Traceback (most recent call last):\n",
      "  File \"C:\\Users\\user\\anaconda3\\envs\\codingNJ\\lib\\site-packages\\dart_fss\\fs\\extract.py\", line 1387, in extract\n",
      "    statements = analyze_report(report=report,\n",
      "  File \"C:\\Users\\user\\anaconda3\\envs\\codingNJ\\lib\\site-packages\\dart_fss\\fs\\extract.py\", line 1254, in analyze_report\n",
      "    fs_df = analyze_html(report, fs_tp=fs_tp, separate=separate, lang=lang)\n",
      "  File \"C:\\Users\\user\\anaconda3\\envs\\codingNJ\\lib\\site-packages\\dart_fss\\fs\\extract.py\", line 616, in analyze_html\n",
      "    count, fs_table = report_find_all(report, query, fs_tp, separate)\n",
      "  File \"C:\\Users\\user\\anaconda3\\envs\\codingNJ\\lib\\site-packages\\dart_fss\\fs\\extract.py\", line 557, in report_find_all\n",
      "    searched = report.find_all(**query)\n",
      "  File \"C:\\Users\\user\\anaconda3\\envs\\codingNJ\\lib\\site-packages\\dart_fss\\filings\\reports.py\", line 371, in find_all\n",
      "    dataset[s] = func_set[s]()\n",
      "  File \"C:\\Users\\user\\anaconda3\\envs\\codingNJ\\lib\\site-packages\\dart_fss\\filings\\reports.py\", line 355, in attached_reports\n",
      "    res = [y for x in self.attached_reports for y in x.find_all(**kwargs) if determinant(x.info['rpt_nm'])]\n",
      "  File \"C:\\Users\\user\\anaconda3\\envs\\codingNJ\\lib\\site-packages\\dart_fss\\filings\\reports.py\", line 355, in <listcomp>\n",
      "    res = [y for x in self.attached_reports for y in x.find_all(**kwargs) if determinant(x.info['rpt_nm'])]\n",
      "  File \"C:\\Users\\user\\anaconda3\\envs\\codingNJ\\lib\\site-packages\\dart_fss\\filings\\reports.py\", line 536, in find_all\n",
      "    x for x in self.pages if determinant(x.title)\n",
      "  File \"C:\\Users\\user\\anaconda3\\envs\\codingNJ\\lib\\site-packages\\dart_fss\\filings\\reports.py\", line 167, in pages\n",
      "    self.extract_pages()\n",
      "  File \"C:\\Users\\user\\anaconda3\\envs\\codingNJ\\lib\\site-packages\\dart_fss\\filings\\reports.py\", line 179, in extract_pages\n",
      "    self._get_report()\n",
      "  File \"C:\\Users\\user\\anaconda3\\envs\\codingNJ\\lib\\site-packages\\dart_fss\\filings\\reports.py\", line 109, in _get_report\n",
      "    resp = request.get(url=self._REPORT_URL_, payload=payload, referer=self._DART_URL_)\n",
      "  File \"C:\\Users\\user\\anaconda3\\envs\\codingNJ\\lib\\site-packages\\dart_fss\\utils\\request.py\", line 173, in get\n",
      "    return self.request(url=url, method='GET', payload=payload, referer=referer, stream=stream, timeout=timeout)\n",
      "  File \"C:\\Users\\user\\anaconda3\\envs\\codingNJ\\lib\\site-packages\\dart_fss\\utils\\request.py\", line 143, in request\n",
      "    resp = self.s.send(prepped, stream=stream, timeout=timeout)\n",
      "  File \"C:\\Users\\user\\anaconda3\\envs\\codingNJ\\lib\\site-packages\\requests\\sessions.py\", line 645, in send\n",
      "    r = adapter.send(request, **kwargs)\n",
      "  File \"C:\\Users\\user\\anaconda3\\envs\\codingNJ\\lib\\site-packages\\requests\\adapters.py\", line 501, in send\n",
      "    raise ConnectionError(err, request=request)\n",
      "requests.exceptions.ConnectionError: ('Connection aborted.', ConnectionResetError(10054, '현재 연결은 원격 호스트에 의해 강제로 끊겼습니다', None, 10054, None))\n",
      "C:\\Users\\user\\anaconda3\\envs\\codingNJ\\lib\\site-packages\\dart_fss\\fs\\extract.py:1403: RuntimeWarning: Unable to extract financial statements: {'rcp_no': '20220317001124', 'corp_code': '01350869', 'corp_name': '우리금융지주', 'stock_code': '316140', 'corp_cls': 'Y', 'report_nm': '사업보고서 (2021.12)', 'flr_nm': '우리금융지주', 'rcept_dt': '20220317', 'rm': '연'}.\n",
      "  warnings.warn(warnings_text, RuntimeWarning)\n",
      "Traceback (most recent call last):\n",
      "  File \"C:\\Users\\user\\anaconda3\\envs\\codingNJ\\lib\\site-packages\\urllib3\\connectionpool.py\", line 699, in urlopen\n",
      "    httplib_response = self._make_request(\n",
      "  File \"C:\\Users\\user\\anaconda3\\envs\\codingNJ\\lib\\site-packages\\urllib3\\connectionpool.py\", line 445, in _make_request\n",
      "    six.raise_from(e, None)\n",
      "  File \"<string>\", line 3, in raise_from\n",
      "  File \"C:\\Users\\user\\anaconda3\\envs\\codingNJ\\lib\\site-packages\\urllib3\\connectionpool.py\", line 440, in _make_request\n",
      "    httplib_response = conn.getresponse()\n",
      "  File \"C:\\Users\\user\\anaconda3\\envs\\codingNJ\\lib\\http\\client.py\", line 1371, in getresponse\n",
      "    response.begin()\n",
      "  File \"C:\\Users\\user\\anaconda3\\envs\\codingNJ\\lib\\http\\client.py\", line 319, in begin\n",
      "    version, status, reason = self._read_status()\n",
      "  File \"C:\\Users\\user\\anaconda3\\envs\\codingNJ\\lib\\http\\client.py\", line 288, in _read_status\n",
      "    raise RemoteDisconnected(\"Remote end closed connection without\"\n",
      "http.client.RemoteDisconnected: Remote end closed connection without response\n",
      "\n",
      "During handling of the above exception, another exception occurred:\n",
      "\n",
      "Traceback (most recent call last):\n",
      "  File \"C:\\Users\\user\\anaconda3\\envs\\codingNJ\\lib\\site-packages\\requests\\adapters.py\", line 440, in send\n",
      "    resp = conn.urlopen(\n",
      "  File \"C:\\Users\\user\\anaconda3\\envs\\codingNJ\\lib\\site-packages\\urllib3\\connectionpool.py\", line 755, in urlopen\n",
      "    retries = retries.increment(\n",
      "  File \"C:\\Users\\user\\anaconda3\\envs\\codingNJ\\lib\\site-packages\\urllib3\\util\\retry.py\", line 532, in increment\n",
      "    raise six.reraise(type(error), error, _stacktrace)\n"
     ]
    },
    {
     "name": "stderr",
     "output_type": "stream",
     "text": [
      "  File \"C:\\Users\\user\\anaconda3\\envs\\codingNJ\\lib\\site-packages\\urllib3\\packages\\six.py\", line 769, in reraise\n",
      "    raise value.with_traceback(tb)\n",
      "  File \"C:\\Users\\user\\anaconda3\\envs\\codingNJ\\lib\\site-packages\\urllib3\\connectionpool.py\", line 699, in urlopen\n",
      "    httplib_response = self._make_request(\n",
      "  File \"C:\\Users\\user\\anaconda3\\envs\\codingNJ\\lib\\site-packages\\urllib3\\connectionpool.py\", line 445, in _make_request\n",
      "    six.raise_from(e, None)\n",
      "  File \"<string>\", line 3, in raise_from\n",
      "  File \"C:\\Users\\user\\anaconda3\\envs\\codingNJ\\lib\\site-packages\\urllib3\\connectionpool.py\", line 440, in _make_request\n",
      "    httplib_response = conn.getresponse()\n",
      "  File \"C:\\Users\\user\\anaconda3\\envs\\codingNJ\\lib\\http\\client.py\", line 1371, in getresponse\n",
      "    response.begin()\n",
      "  File \"C:\\Users\\user\\anaconda3\\envs\\codingNJ\\lib\\http\\client.py\", line 319, in begin\n",
      "    version, status, reason = self._read_status()\n",
      "  File \"C:\\Users\\user\\anaconda3\\envs\\codingNJ\\lib\\http\\client.py\", line 288, in _read_status\n",
      "    raise RemoteDisconnected(\"Remote end closed connection without\"\n",
      "urllib3.exceptions.ProtocolError: ('Connection aborted.', RemoteDisconnected('Remote end closed connection without response'))\n",
      "\n",
      "During handling of the above exception, another exception occurred:\n",
      "\n",
      "Traceback (most recent call last):\n",
      "  File \"C:\\Users\\user\\anaconda3\\envs\\codingNJ\\lib\\site-packages\\dart_fss\\fs\\extract.py\", line 1387, in extract\n",
      "    statements = analyze_report(report=report,\n",
      "  File \"C:\\Users\\user\\anaconda3\\envs\\codingNJ\\lib\\site-packages\\dart_fss\\fs\\extract.py\", line 1242, in analyze_report\n",
      "    xbrl = report.xbrl\n",
      "  File \"C:\\Users\\user\\anaconda3\\envs\\codingNJ\\lib\\site-packages\\dart_fss\\filings\\reports.py\", line 377, in xbrl\n",
      "    self.load_xbrl()\n",
      "  File \"C:\\Users\\user\\anaconda3\\envs\\codingNJ\\lib\\site-packages\\dart_fss\\filings\\reports.py\", line 389, in load_xbrl\n",
      "    xbrl_attached = self._get_xbrl()\n",
      "  File \"C:\\Users\\user\\anaconda3\\envs\\codingNJ\\lib\\site-packages\\dart_fss\\filings\\reports.py\", line 406, in _get_xbrl\n",
      "    attached_files = self.find_all(**query)\n",
      "  File \"C:\\Users\\user\\anaconda3\\envs\\codingNJ\\lib\\site-packages\\dart_fss\\filings\\reports.py\", line 371, in find_all\n",
      "    dataset[s] = func_set[s]()\n",
      "  File \"C:\\Users\\user\\anaconda3\\envs\\codingNJ\\lib\\site-packages\\dart_fss\\filings\\reports.py\", line 360, in attached_files\n",
      "    def attached_files(): return [x for x in self.attached_files if determinant(x.filename)]\n",
      "  File \"C:\\Users\\user\\anaconda3\\envs\\codingNJ\\lib\\site-packages\\dart_fss\\filings\\reports.py\", line 214, in attached_files\n",
      "    self.extract_attached_files()\n",
      "  File \"C:\\Users\\user\\anaconda3\\envs\\codingNJ\\lib\\site-packages\\dart_fss\\filings\\reports.py\", line 227, in extract_attached_files\n",
      "    self._get_report()\n",
      "  File \"C:\\Users\\user\\anaconda3\\envs\\codingNJ\\lib\\site-packages\\dart_fss\\filings\\reports.py\", line 109, in _get_report\n",
      "    resp = request.get(url=self._REPORT_URL_, payload=payload, referer=self._DART_URL_)\n",
      "  File \"C:\\Users\\user\\anaconda3\\envs\\codingNJ\\lib\\site-packages\\dart_fss\\utils\\request.py\", line 173, in get\n",
      "    return self.request(url=url, method='GET', payload=payload, referer=referer, stream=stream, timeout=timeout)\n",
      "  File \"C:\\Users\\user\\anaconda3\\envs\\codingNJ\\lib\\site-packages\\dart_fss\\utils\\request.py\", line 143, in request\n",
      "    resp = self.s.send(prepped, stream=stream, timeout=timeout)\n",
      "  File \"C:\\Users\\user\\anaconda3\\envs\\codingNJ\\lib\\site-packages\\requests\\sessions.py\", line 645, in send\n",
      "    r = adapter.send(request, **kwargs)\n",
      "  File \"C:\\Users\\user\\anaconda3\\envs\\codingNJ\\lib\\site-packages\\requests\\adapters.py\", line 501, in send\n",
      "    raise ConnectionError(err, request=request)\n",
      "requests.exceptions.ConnectionError: ('Connection aborted.', RemoteDisconnected('Remote end closed connection without response'))\n",
      "C:\\Users\\user\\anaconda3\\envs\\codingNJ\\lib\\site-packages\\dart_fss\\fs\\extract.py:1403: RuntimeWarning: Unable to extract financial statements: {'rcp_no': '20210318001162', 'corp_code': '01350869', 'corp_name': '우리금융지주', 'stock_code': '316140', 'corp_cls': 'Y', 'report_nm': '사업보고서 (2020.12)', 'flr_nm': '우리금융지주', 'rcept_dt': '20210318', 'rm': '연'}.\n",
      "  warnings.warn(warnings_text, RuntimeWarning)\n",
      "Traceback (most recent call last):\n",
      "  File \"C:\\Users\\user\\anaconda3\\envs\\codingNJ\\lib\\site-packages\\urllib3\\connectionpool.py\", line 699, in urlopen\n",
      "    httplib_response = self._make_request(\n",
      "  File \"C:\\Users\\user\\anaconda3\\envs\\codingNJ\\lib\\site-packages\\urllib3\\connectionpool.py\", line 445, in _make_request\n",
      "    six.raise_from(e, None)\n",
      "  File \"<string>\", line 3, in raise_from\n",
      "  File \"C:\\Users\\user\\anaconda3\\envs\\codingNJ\\lib\\site-packages\\urllib3\\connectionpool.py\", line 440, in _make_request\n",
      "    httplib_response = conn.getresponse()\n",
      "  File \"C:\\Users\\user\\anaconda3\\envs\\codingNJ\\lib\\http\\client.py\", line 1371, in getresponse\n",
      "    response.begin()\n",
      "  File \"C:\\Users\\user\\anaconda3\\envs\\codingNJ\\lib\\http\\client.py\", line 319, in begin\n",
      "    version, status, reason = self._read_status()\n",
      "  File \"C:\\Users\\user\\anaconda3\\envs\\codingNJ\\lib\\http\\client.py\", line 288, in _read_status\n",
      "    raise RemoteDisconnected(\"Remote end closed connection without\"\n",
      "http.client.RemoteDisconnected: Remote end closed connection without response\n",
      "\n",
      "During handling of the above exception, another exception occurred:\n",
      "\n",
      "Traceback (most recent call last):\n",
      "  File \"C:\\Users\\user\\anaconda3\\envs\\codingNJ\\lib\\site-packages\\requests\\adapters.py\", line 440, in send\n",
      "    resp = conn.urlopen(\n",
      "  File \"C:\\Users\\user\\anaconda3\\envs\\codingNJ\\lib\\site-packages\\urllib3\\connectionpool.py\", line 755, in urlopen\n",
      "    retries = retries.increment(\n",
      "  File \"C:\\Users\\user\\anaconda3\\envs\\codingNJ\\lib\\site-packages\\urllib3\\util\\retry.py\", line 532, in increment\n",
      "    raise six.reraise(type(error), error, _stacktrace)\n",
      "  File \"C:\\Users\\user\\anaconda3\\envs\\codingNJ\\lib\\site-packages\\urllib3\\packages\\six.py\", line 769, in reraise\n",
      "    raise value.with_traceback(tb)\n",
      "  File \"C:\\Users\\user\\anaconda3\\envs\\codingNJ\\lib\\site-packages\\urllib3\\connectionpool.py\", line 699, in urlopen\n",
      "    httplib_response = self._make_request(\n",
      "  File \"C:\\Users\\user\\anaconda3\\envs\\codingNJ\\lib\\site-packages\\urllib3\\connectionpool.py\", line 445, in _make_request\n",
      "    six.raise_from(e, None)\n",
      "  File \"<string>\", line 3, in raise_from\n",
      "  File \"C:\\Users\\user\\anaconda3\\envs\\codingNJ\\lib\\site-packages\\urllib3\\connectionpool.py\", line 440, in _make_request\n",
      "    httplib_response = conn.getresponse()\n",
      "  File \"C:\\Users\\user\\anaconda3\\envs\\codingNJ\\lib\\http\\client.py\", line 1371, in getresponse\n",
      "    response.begin()\n",
      "  File \"C:\\Users\\user\\anaconda3\\envs\\codingNJ\\lib\\http\\client.py\", line 319, in begin\n",
      "    version, status, reason = self._read_status()\n",
      "  File \"C:\\Users\\user\\anaconda3\\envs\\codingNJ\\lib\\http\\client.py\", line 288, in _read_status\n",
      "    raise RemoteDisconnected(\"Remote end closed connection without\"\n",
      "urllib3.exceptions.ProtocolError: ('Connection aborted.', RemoteDisconnected('Remote end closed connection without response'))\n",
      "\n",
      "During handling of the above exception, another exception occurred:\n",
      "\n",
      "Traceback (most recent call last):\n",
      "  File \"C:\\Users\\user\\anaconda3\\envs\\codingNJ\\lib\\site-packages\\dart_fss\\fs\\extract.py\", line 1387, in extract\n",
      "    statements = analyze_report(report=report,\n",
      "  File \"C:\\Users\\user\\anaconda3\\envs\\codingNJ\\lib\\site-packages\\dart_fss\\fs\\extract.py\", line 1242, in analyze_report\n",
      "    xbrl = report.xbrl\n",
      "  File \"C:\\Users\\user\\anaconda3\\envs\\codingNJ\\lib\\site-packages\\dart_fss\\filings\\reports.py\", line 377, in xbrl\n",
      "    self.load_xbrl()\n",
      "  File \"C:\\Users\\user\\anaconda3\\envs\\codingNJ\\lib\\site-packages\\dart_fss\\filings\\reports.py\", line 389, in load_xbrl\n",
      "    xbrl_attached = self._get_xbrl()\n",
      "  File \"C:\\Users\\user\\anaconda3\\envs\\codingNJ\\lib\\site-packages\\dart_fss\\filings\\reports.py\", line 406, in _get_xbrl\n",
      "    attached_files = self.find_all(**query)\n",
      "  File \"C:\\Users\\user\\anaconda3\\envs\\codingNJ\\lib\\site-packages\\dart_fss\\filings\\reports.py\", line 371, in find_all\n",
      "    dataset[s] = func_set[s]()\n",
      "  File \"C:\\Users\\user\\anaconda3\\envs\\codingNJ\\lib\\site-packages\\dart_fss\\filings\\reports.py\", line 360, in attached_files\n",
      "    def attached_files(): return [x for x in self.attached_files if determinant(x.filename)]\n",
      "  File \"C:\\Users\\user\\anaconda3\\envs\\codingNJ\\lib\\site-packages\\dart_fss\\filings\\reports.py\", line 214, in attached_files\n",
      "    self.extract_attached_files()\n"
     ]
    },
    {
     "name": "stderr",
     "output_type": "stream",
     "text": [
      "  File \"C:\\Users\\user\\anaconda3\\envs\\codingNJ\\lib\\site-packages\\dart_fss\\filings\\reports.py\", line 227, in extract_attached_files\n",
      "    self._get_report()\n",
      "  File \"C:\\Users\\user\\anaconda3\\envs\\codingNJ\\lib\\site-packages\\dart_fss\\filings\\reports.py\", line 109, in _get_report\n",
      "    resp = request.get(url=self._REPORT_URL_, payload=payload, referer=self._DART_URL_)\n",
      "  File \"C:\\Users\\user\\anaconda3\\envs\\codingNJ\\lib\\site-packages\\dart_fss\\utils\\request.py\", line 173, in get\n",
      "    return self.request(url=url, method='GET', payload=payload, referer=referer, stream=stream, timeout=timeout)\n",
      "  File \"C:\\Users\\user\\anaconda3\\envs\\codingNJ\\lib\\site-packages\\dart_fss\\utils\\request.py\", line 143, in request\n",
      "    resp = self.s.send(prepped, stream=stream, timeout=timeout)\n",
      "  File \"C:\\Users\\user\\anaconda3\\envs\\codingNJ\\lib\\site-packages\\requests\\sessions.py\", line 645, in send\n",
      "    r = adapter.send(request, **kwargs)\n",
      "  File \"C:\\Users\\user\\anaconda3\\envs\\codingNJ\\lib\\site-packages\\requests\\adapters.py\", line 501, in send\n",
      "    raise ConnectionError(err, request=request)\n",
      "requests.exceptions.ConnectionError: ('Connection aborted.', RemoteDisconnected('Remote end closed connection without response'))\n",
      "C:\\Users\\user\\anaconda3\\envs\\codingNJ\\lib\\site-packages\\dart_fss\\fs\\extract.py:1403: RuntimeWarning: Unable to extract financial statements: {'rcp_no': '20200330004490', 'corp_code': '01350869', 'corp_name': '우리금융지주', 'stock_code': '316140', 'corp_cls': 'Y', 'report_nm': '사업보고서 (2019.12)', 'flr_nm': '우리금융지주', 'rcept_dt': '20200330', 'rm': '연'}.\n",
      "  warnings.warn(warnings_text, RuntimeWarning)\n"
     ]
    },
    {
     "data": {
      "application/vnd.jupyter.widget-view+json": {
       "model_id": "de5c0dd33ba5418a9c75d7901eab83ae",
       "version_major": 2,
       "version_minor": 0
      },
      "text/plain": [
       "Annual reports:   0%|          | 0/3 [00:00<?, ?report/s]"
      ]
     },
     "metadata": {},
     "output_type": "display_data"
    },
    {
     "data": {
      "application/vnd.jupyter.widget-view+json": {
       "model_id": "729db47d7af342bd9ae44751a2480245",
       "version_major": 2,
       "version_minor": 0
      },
      "text/plain": [
       "Annual reports:   0%|          | 0/3 [00:00<?, ?report/s]"
      ]
     },
     "metadata": {},
     "output_type": "display_data"
    },
    {
     "data": {
      "application/vnd.jupyter.widget-view+json": {
       "model_id": "5fa9466e69be4042951a16496b17ea28",
       "version_major": 2,
       "version_minor": 0
      },
      "text/plain": [
       "Annual reports:   0%|          | 0/2 [00:00<?, ?report/s]"
      ]
     },
     "metadata": {},
     "output_type": "display_data"
    },
    {
     "data": {
      "application/vnd.jupyter.widget-view+json": {
       "model_id": "bc832d196ee64b74afa6808517ea9ed0",
       "version_major": 2,
       "version_minor": 0
      },
      "text/plain": [
       "Annual reports:   0%|          | 0/2 [00:00<?, ?report/s]"
      ]
     },
     "metadata": {},
     "output_type": "display_data"
    },
    {
     "data": {
      "application/vnd.jupyter.widget-view+json": {
       "model_id": "864c23ad17504fb29b343565aa217c7e",
       "version_major": 2,
       "version_minor": 0
      },
      "text/plain": [
       "Annual reports:   0%|          | 0/1 [00:00<?, ?report/s]"
      ]
     },
     "metadata": {},
     "output_type": "display_data"
    },
    {
     "data": {
      "application/vnd.jupyter.widget-view+json": {
       "model_id": "3e440c5a50bd4b1d829d5186cef9b4fe",
       "version_major": 2,
       "version_minor": 0
      },
      "text/plain": [
       "Annual reports:   0%|          | 0/1 [00:00<?, ?report/s]"
      ]
     },
     "metadata": {},
     "output_type": "display_data"
    },
    {
     "data": {
      "application/vnd.jupyter.widget-view+json": {
       "model_id": "66ed6ca3c88540869ddbbb9845a327f7",
       "version_major": 2,
       "version_minor": 0
      },
      "text/plain": [
       "Annual reports:   0%|          | 0/1 [00:00<?, ?report/s]"
      ]
     },
     "metadata": {},
     "output_type": "display_data"
    },
    {
     "data": {
      "application/vnd.jupyter.widget-view+json": {
       "model_id": "80f4fc2e19414d4db98cbee912eae1e5",
       "version_major": 2,
       "version_minor": 0
      },
      "text/plain": [
       "Annual reports:   0%|          | 0/4 [00:00<?, ?report/s]"
      ]
     },
     "metadata": {},
     "output_type": "display_data"
    },
    {
     "name": "stderr",
     "output_type": "stream",
     "text": [
      "Traceback (most recent call last):\n",
      "  File \"C:\\Users\\user\\anaconda3\\envs\\codingNJ\\lib\\site-packages\\urllib3\\connectionpool.py\", line 699, in urlopen\n",
      "    httplib_response = self._make_request(\n",
      "  File \"C:\\Users\\user\\anaconda3\\envs\\codingNJ\\lib\\site-packages\\urllib3\\connectionpool.py\", line 445, in _make_request\n",
      "    six.raise_from(e, None)\n",
      "  File \"<string>\", line 3, in raise_from\n",
      "  File \"C:\\Users\\user\\anaconda3\\envs\\codingNJ\\lib\\site-packages\\urllib3\\connectionpool.py\", line 440, in _make_request\n",
      "    httplib_response = conn.getresponse()\n",
      "  File \"C:\\Users\\user\\anaconda3\\envs\\codingNJ\\lib\\http\\client.py\", line 1371, in getresponse\n",
      "    response.begin()\n",
      "  File \"C:\\Users\\user\\anaconda3\\envs\\codingNJ\\lib\\http\\client.py\", line 319, in begin\n",
      "    version, status, reason = self._read_status()\n",
      "  File \"C:\\Users\\user\\anaconda3\\envs\\codingNJ\\lib\\http\\client.py\", line 288, in _read_status\n",
      "    raise RemoteDisconnected(\"Remote end closed connection without\"\n",
      "http.client.RemoteDisconnected: Remote end closed connection without response\n",
      "\n",
      "During handling of the above exception, another exception occurred:\n",
      "\n",
      "Traceback (most recent call last):\n",
      "  File \"C:\\Users\\user\\anaconda3\\envs\\codingNJ\\lib\\site-packages\\requests\\adapters.py\", line 440, in send\n",
      "    resp = conn.urlopen(\n",
      "  File \"C:\\Users\\user\\anaconda3\\envs\\codingNJ\\lib\\site-packages\\urllib3\\connectionpool.py\", line 755, in urlopen\n",
      "    retries = retries.increment(\n",
      "  File \"C:\\Users\\user\\anaconda3\\envs\\codingNJ\\lib\\site-packages\\urllib3\\util\\retry.py\", line 532, in increment\n",
      "    raise six.reraise(type(error), error, _stacktrace)\n",
      "  File \"C:\\Users\\user\\anaconda3\\envs\\codingNJ\\lib\\site-packages\\urllib3\\packages\\six.py\", line 769, in reraise\n",
      "    raise value.with_traceback(tb)\n",
      "  File \"C:\\Users\\user\\anaconda3\\envs\\codingNJ\\lib\\site-packages\\urllib3\\connectionpool.py\", line 699, in urlopen\n",
      "    httplib_response = self._make_request(\n",
      "  File \"C:\\Users\\user\\anaconda3\\envs\\codingNJ\\lib\\site-packages\\urllib3\\connectionpool.py\", line 445, in _make_request\n",
      "    six.raise_from(e, None)\n",
      "  File \"<string>\", line 3, in raise_from\n",
      "  File \"C:\\Users\\user\\anaconda3\\envs\\codingNJ\\lib\\site-packages\\urllib3\\connectionpool.py\", line 440, in _make_request\n",
      "    httplib_response = conn.getresponse()\n",
      "  File \"C:\\Users\\user\\anaconda3\\envs\\codingNJ\\lib\\http\\client.py\", line 1371, in getresponse\n",
      "    response.begin()\n",
      "  File \"C:\\Users\\user\\anaconda3\\envs\\codingNJ\\lib\\http\\client.py\", line 319, in begin\n",
      "    version, status, reason = self._read_status()\n",
      "  File \"C:\\Users\\user\\anaconda3\\envs\\codingNJ\\lib\\http\\client.py\", line 288, in _read_status\n",
      "    raise RemoteDisconnected(\"Remote end closed connection without\"\n",
      "urllib3.exceptions.ProtocolError: ('Connection aborted.', RemoteDisconnected('Remote end closed connection without response'))\n",
      "\n",
      "During handling of the above exception, another exception occurred:\n",
      "\n",
      "Traceback (most recent call last):\n",
      "  File \"C:\\Users\\user\\anaconda3\\envs\\codingNJ\\lib\\site-packages\\dart_fss\\fs\\extract.py\", line 1387, in extract\n",
      "    statements = analyze_report(report=report,\n",
      "  File \"C:\\Users\\user\\anaconda3\\envs\\codingNJ\\lib\\site-packages\\dart_fss\\fs\\extract.py\", line 1242, in analyze_report\n",
      "    xbrl = report.xbrl\n",
      "  File \"C:\\Users\\user\\anaconda3\\envs\\codingNJ\\lib\\site-packages\\dart_fss\\filings\\reports.py\", line 377, in xbrl\n",
      "    self.load_xbrl()\n",
      "  File \"C:\\Users\\user\\anaconda3\\envs\\codingNJ\\lib\\site-packages\\dart_fss\\filings\\reports.py\", line 389, in load_xbrl\n",
      "    xbrl_attached = self._get_xbrl()\n",
      "  File \"C:\\Users\\user\\anaconda3\\envs\\codingNJ\\lib\\site-packages\\dart_fss\\filings\\reports.py\", line 406, in _get_xbrl\n",
      "    attached_files = self.find_all(**query)\n",
      "  File \"C:\\Users\\user\\anaconda3\\envs\\codingNJ\\lib\\site-packages\\dart_fss\\filings\\reports.py\", line 371, in find_all\n",
      "    dataset[s] = func_set[s]()\n",
      "  File \"C:\\Users\\user\\anaconda3\\envs\\codingNJ\\lib\\site-packages\\dart_fss\\filings\\reports.py\", line 360, in attached_files\n",
      "    def attached_files(): return [x for x in self.attached_files if determinant(x.filename)]\n",
      "  File \"C:\\Users\\user\\anaconda3\\envs\\codingNJ\\lib\\site-packages\\dart_fss\\filings\\reports.py\", line 214, in attached_files\n",
      "    self.extract_attached_files()\n",
      "  File \"C:\\Users\\user\\anaconda3\\envs\\codingNJ\\lib\\site-packages\\dart_fss\\filings\\reports.py\", line 227, in extract_attached_files\n",
      "    self._get_report()\n",
      "  File \"C:\\Users\\user\\anaconda3\\envs\\codingNJ\\lib\\site-packages\\dart_fss\\filings\\reports.py\", line 109, in _get_report\n",
      "    resp = request.get(url=self._REPORT_URL_, payload=payload, referer=self._DART_URL_)\n",
      "  File \"C:\\Users\\user\\anaconda3\\envs\\codingNJ\\lib\\site-packages\\dart_fss\\utils\\request.py\", line 173, in get\n",
      "    return self.request(url=url, method='GET', payload=payload, referer=referer, stream=stream, timeout=timeout)\n",
      "  File \"C:\\Users\\user\\anaconda3\\envs\\codingNJ\\lib\\site-packages\\dart_fss\\utils\\request.py\", line 143, in request\n",
      "    resp = self.s.send(prepped, stream=stream, timeout=timeout)\n",
      "  File \"C:\\Users\\user\\anaconda3\\envs\\codingNJ\\lib\\site-packages\\requests\\sessions.py\", line 645, in send\n",
      "    r = adapter.send(request, **kwargs)\n",
      "  File \"C:\\Users\\user\\anaconda3\\envs\\codingNJ\\lib\\site-packages\\requests\\adapters.py\", line 501, in send\n",
      "    raise ConnectionError(err, request=request)\n",
      "requests.exceptions.ConnectionError: ('Connection aborted.', RemoteDisconnected('Remote end closed connection without response'))\n",
      "C:\\Users\\user\\anaconda3\\envs\\codingNJ\\lib\\site-packages\\dart_fss\\fs\\extract.py:1403: RuntimeWarning: Unable to extract financial statements: {'rcp_no': '20220317001011', 'corp_code': '00547583', 'corp_name': '하나금융지주', 'stock_code': '086790', 'corp_cls': 'Y', 'report_nm': '사업보고서 (2021.12)', 'flr_nm': '하나금융지주', 'rcept_dt': '20220317', 'rm': '연'}.\n",
      "  warnings.warn(warnings_text, RuntimeWarning)\n",
      "Traceback (most recent call last):\n",
      "  File \"C:\\Users\\user\\anaconda3\\envs\\codingNJ\\lib\\site-packages\\urllib3\\connectionpool.py\", line 699, in urlopen\n",
      "    httplib_response = self._make_request(\n",
      "  File \"C:\\Users\\user\\anaconda3\\envs\\codingNJ\\lib\\site-packages\\urllib3\\connectionpool.py\", line 445, in _make_request\n",
      "    six.raise_from(e, None)\n",
      "  File \"<string>\", line 3, in raise_from\n",
      "  File \"C:\\Users\\user\\anaconda3\\envs\\codingNJ\\lib\\site-packages\\urllib3\\connectionpool.py\", line 440, in _make_request\n",
      "    httplib_response = conn.getresponse()\n",
      "  File \"C:\\Users\\user\\anaconda3\\envs\\codingNJ\\lib\\http\\client.py\", line 1371, in getresponse\n",
      "    response.begin()\n",
      "  File \"C:\\Users\\user\\anaconda3\\envs\\codingNJ\\lib\\http\\client.py\", line 319, in begin\n",
      "    version, status, reason = self._read_status()\n",
      "  File \"C:\\Users\\user\\anaconda3\\envs\\codingNJ\\lib\\http\\client.py\", line 288, in _read_status\n",
      "    raise RemoteDisconnected(\"Remote end closed connection without\"\n",
      "http.client.RemoteDisconnected: Remote end closed connection without response\n",
      "\n",
      "During handling of the above exception, another exception occurred:\n",
      "\n",
      "Traceback (most recent call last):\n",
      "  File \"C:\\Users\\user\\anaconda3\\envs\\codingNJ\\lib\\site-packages\\requests\\adapters.py\", line 440, in send\n",
      "    resp = conn.urlopen(\n",
      "  File \"C:\\Users\\user\\anaconda3\\envs\\codingNJ\\lib\\site-packages\\urllib3\\connectionpool.py\", line 755, in urlopen\n",
      "    retries = retries.increment(\n",
      "  File \"C:\\Users\\user\\anaconda3\\envs\\codingNJ\\lib\\site-packages\\urllib3\\util\\retry.py\", line 532, in increment\n",
      "    raise six.reraise(type(error), error, _stacktrace)\n",
      "  File \"C:\\Users\\user\\anaconda3\\envs\\codingNJ\\lib\\site-packages\\urllib3\\packages\\six.py\", line 769, in reraise\n",
      "    raise value.with_traceback(tb)\n",
      "  File \"C:\\Users\\user\\anaconda3\\envs\\codingNJ\\lib\\site-packages\\urllib3\\connectionpool.py\", line 699, in urlopen\n",
      "    httplib_response = self._make_request(\n",
      "  File \"C:\\Users\\user\\anaconda3\\envs\\codingNJ\\lib\\site-packages\\urllib3\\connectionpool.py\", line 445, in _make_request\n",
      "    six.raise_from(e, None)\n",
      "  File \"<string>\", line 3, in raise_from\n",
      "  File \"C:\\Users\\user\\anaconda3\\envs\\codingNJ\\lib\\site-packages\\urllib3\\connectionpool.py\", line 440, in _make_request\n",
      "    httplib_response = conn.getresponse()\n",
      "  File \"C:\\Users\\user\\anaconda3\\envs\\codingNJ\\lib\\http\\client.py\", line 1371, in getresponse\n",
      "    response.begin()\n",
      "  File \"C:\\Users\\user\\anaconda3\\envs\\codingNJ\\lib\\http\\client.py\", line 319, in begin\n",
      "    version, status, reason = self._read_status()\n"
     ]
    },
    {
     "name": "stderr",
     "output_type": "stream",
     "text": [
      "  File \"C:\\Users\\user\\anaconda3\\envs\\codingNJ\\lib\\http\\client.py\", line 288, in _read_status\n",
      "    raise RemoteDisconnected(\"Remote end closed connection without\"\n",
      "urllib3.exceptions.ProtocolError: ('Connection aborted.', RemoteDisconnected('Remote end closed connection without response'))\n",
      "\n",
      "During handling of the above exception, another exception occurred:\n",
      "\n",
      "Traceback (most recent call last):\n",
      "  File \"C:\\Users\\user\\anaconda3\\envs\\codingNJ\\lib\\site-packages\\dart_fss\\fs\\extract.py\", line 1387, in extract\n",
      "    statements = analyze_report(report=report,\n",
      "  File \"C:\\Users\\user\\anaconda3\\envs\\codingNJ\\lib\\site-packages\\dart_fss\\fs\\extract.py\", line 1242, in analyze_report\n",
      "    xbrl = report.xbrl\n",
      "  File \"C:\\Users\\user\\anaconda3\\envs\\codingNJ\\lib\\site-packages\\dart_fss\\filings\\reports.py\", line 377, in xbrl\n",
      "    self.load_xbrl()\n",
      "  File \"C:\\Users\\user\\anaconda3\\envs\\codingNJ\\lib\\site-packages\\dart_fss\\filings\\reports.py\", line 389, in load_xbrl\n",
      "    xbrl_attached = self._get_xbrl()\n",
      "  File \"C:\\Users\\user\\anaconda3\\envs\\codingNJ\\lib\\site-packages\\dart_fss\\filings\\reports.py\", line 406, in _get_xbrl\n",
      "    attached_files = self.find_all(**query)\n",
      "  File \"C:\\Users\\user\\anaconda3\\envs\\codingNJ\\lib\\site-packages\\dart_fss\\filings\\reports.py\", line 371, in find_all\n",
      "    dataset[s] = func_set[s]()\n",
      "  File \"C:\\Users\\user\\anaconda3\\envs\\codingNJ\\lib\\site-packages\\dart_fss\\filings\\reports.py\", line 360, in attached_files\n",
      "    def attached_files(): return [x for x in self.attached_files if determinant(x.filename)]\n",
      "  File \"C:\\Users\\user\\anaconda3\\envs\\codingNJ\\lib\\site-packages\\dart_fss\\filings\\reports.py\", line 214, in attached_files\n",
      "    self.extract_attached_files()\n",
      "  File \"C:\\Users\\user\\anaconda3\\envs\\codingNJ\\lib\\site-packages\\dart_fss\\filings\\reports.py\", line 227, in extract_attached_files\n",
      "    self._get_report()\n",
      "  File \"C:\\Users\\user\\anaconda3\\envs\\codingNJ\\lib\\site-packages\\dart_fss\\filings\\reports.py\", line 109, in _get_report\n",
      "    resp = request.get(url=self._REPORT_URL_, payload=payload, referer=self._DART_URL_)\n",
      "  File \"C:\\Users\\user\\anaconda3\\envs\\codingNJ\\lib\\site-packages\\dart_fss\\utils\\request.py\", line 173, in get\n",
      "    return self.request(url=url, method='GET', payload=payload, referer=referer, stream=stream, timeout=timeout)\n",
      "  File \"C:\\Users\\user\\anaconda3\\envs\\codingNJ\\lib\\site-packages\\dart_fss\\utils\\request.py\", line 143, in request\n",
      "    resp = self.s.send(prepped, stream=stream, timeout=timeout)\n",
      "  File \"C:\\Users\\user\\anaconda3\\envs\\codingNJ\\lib\\site-packages\\requests\\sessions.py\", line 645, in send\n",
      "    r = adapter.send(request, **kwargs)\n",
      "  File \"C:\\Users\\user\\anaconda3\\envs\\codingNJ\\lib\\site-packages\\requests\\adapters.py\", line 501, in send\n",
      "    raise ConnectionError(err, request=request)\n",
      "requests.exceptions.ConnectionError: ('Connection aborted.', RemoteDisconnected('Remote end closed connection without response'))\n",
      "C:\\Users\\user\\anaconda3\\envs\\codingNJ\\lib\\site-packages\\dart_fss\\fs\\extract.py:1403: RuntimeWarning: Unable to extract financial statements: {'rcp_no': '20210318001224', 'corp_code': '00547583', 'corp_name': '하나금융지주', 'stock_code': '086790', 'corp_cls': 'Y', 'report_nm': '사업보고서 (2020.12)', 'flr_nm': '하나금융지주', 'rcept_dt': '20210318', 'rm': '연'}.\n",
      "  warnings.warn(warnings_text, RuntimeWarning)\n",
      "Traceback (most recent call last):\n",
      "  File \"C:\\Users\\user\\anaconda3\\envs\\codingNJ\\lib\\site-packages\\urllib3\\connectionpool.py\", line 699, in urlopen\n",
      "    httplib_response = self._make_request(\n",
      "  File \"C:\\Users\\user\\anaconda3\\envs\\codingNJ\\lib\\site-packages\\urllib3\\connectionpool.py\", line 445, in _make_request\n",
      "    six.raise_from(e, None)\n",
      "  File \"<string>\", line 3, in raise_from\n",
      "  File \"C:\\Users\\user\\anaconda3\\envs\\codingNJ\\lib\\site-packages\\urllib3\\connectionpool.py\", line 440, in _make_request\n",
      "    httplib_response = conn.getresponse()\n",
      "  File \"C:\\Users\\user\\anaconda3\\envs\\codingNJ\\lib\\http\\client.py\", line 1371, in getresponse\n",
      "    response.begin()\n",
      "  File \"C:\\Users\\user\\anaconda3\\envs\\codingNJ\\lib\\http\\client.py\", line 319, in begin\n",
      "    version, status, reason = self._read_status()\n",
      "  File \"C:\\Users\\user\\anaconda3\\envs\\codingNJ\\lib\\http\\client.py\", line 288, in _read_status\n",
      "    raise RemoteDisconnected(\"Remote end closed connection without\"\n",
      "http.client.RemoteDisconnected: Remote end closed connection without response\n",
      "\n",
      "During handling of the above exception, another exception occurred:\n",
      "\n",
      "Traceback (most recent call last):\n",
      "  File \"C:\\Users\\user\\anaconda3\\envs\\codingNJ\\lib\\site-packages\\requests\\adapters.py\", line 440, in send\n",
      "    resp = conn.urlopen(\n",
      "  File \"C:\\Users\\user\\anaconda3\\envs\\codingNJ\\lib\\site-packages\\urllib3\\connectionpool.py\", line 755, in urlopen\n",
      "    retries = retries.increment(\n",
      "  File \"C:\\Users\\user\\anaconda3\\envs\\codingNJ\\lib\\site-packages\\urllib3\\util\\retry.py\", line 532, in increment\n",
      "    raise six.reraise(type(error), error, _stacktrace)\n",
      "  File \"C:\\Users\\user\\anaconda3\\envs\\codingNJ\\lib\\site-packages\\urllib3\\packages\\six.py\", line 769, in reraise\n",
      "    raise value.with_traceback(tb)\n",
      "  File \"C:\\Users\\user\\anaconda3\\envs\\codingNJ\\lib\\site-packages\\urllib3\\connectionpool.py\", line 699, in urlopen\n",
      "    httplib_response = self._make_request(\n",
      "  File \"C:\\Users\\user\\anaconda3\\envs\\codingNJ\\lib\\site-packages\\urllib3\\connectionpool.py\", line 445, in _make_request\n",
      "    six.raise_from(e, None)\n",
      "  File \"<string>\", line 3, in raise_from\n",
      "  File \"C:\\Users\\user\\anaconda3\\envs\\codingNJ\\lib\\site-packages\\urllib3\\connectionpool.py\", line 440, in _make_request\n",
      "    httplib_response = conn.getresponse()\n",
      "  File \"C:\\Users\\user\\anaconda3\\envs\\codingNJ\\lib\\http\\client.py\", line 1371, in getresponse\n",
      "    response.begin()\n",
      "  File \"C:\\Users\\user\\anaconda3\\envs\\codingNJ\\lib\\http\\client.py\", line 319, in begin\n",
      "    version, status, reason = self._read_status()\n",
      "  File \"C:\\Users\\user\\anaconda3\\envs\\codingNJ\\lib\\http\\client.py\", line 288, in _read_status\n",
      "    raise RemoteDisconnected(\"Remote end closed connection without\"\n",
      "urllib3.exceptions.ProtocolError: ('Connection aborted.', RemoteDisconnected('Remote end closed connection without response'))\n",
      "\n",
      "During handling of the above exception, another exception occurred:\n",
      "\n",
      "Traceback (most recent call last):\n",
      "  File \"C:\\Users\\user\\anaconda3\\envs\\codingNJ\\lib\\site-packages\\dart_fss\\fs\\extract.py\", line 1387, in extract\n",
      "    statements = analyze_report(report=report,\n",
      "  File \"C:\\Users\\user\\anaconda3\\envs\\codingNJ\\lib\\site-packages\\dart_fss\\fs\\extract.py\", line 1242, in analyze_report\n",
      "    xbrl = report.xbrl\n",
      "  File \"C:\\Users\\user\\anaconda3\\envs\\codingNJ\\lib\\site-packages\\dart_fss\\filings\\reports.py\", line 377, in xbrl\n",
      "    self.load_xbrl()\n",
      "  File \"C:\\Users\\user\\anaconda3\\envs\\codingNJ\\lib\\site-packages\\dart_fss\\filings\\reports.py\", line 389, in load_xbrl\n",
      "    xbrl_attached = self._get_xbrl()\n",
      "  File \"C:\\Users\\user\\anaconda3\\envs\\codingNJ\\lib\\site-packages\\dart_fss\\filings\\reports.py\", line 406, in _get_xbrl\n",
      "    attached_files = self.find_all(**query)\n",
      "  File \"C:\\Users\\user\\anaconda3\\envs\\codingNJ\\lib\\site-packages\\dart_fss\\filings\\reports.py\", line 371, in find_all\n",
      "    dataset[s] = func_set[s]()\n",
      "  File \"C:\\Users\\user\\anaconda3\\envs\\codingNJ\\lib\\site-packages\\dart_fss\\filings\\reports.py\", line 360, in attached_files\n",
      "    def attached_files(): return [x for x in self.attached_files if determinant(x.filename)]\n",
      "  File \"C:\\Users\\user\\anaconda3\\envs\\codingNJ\\lib\\site-packages\\dart_fss\\filings\\reports.py\", line 214, in attached_files\n",
      "    self.extract_attached_files()\n",
      "  File \"C:\\Users\\user\\anaconda3\\envs\\codingNJ\\lib\\site-packages\\dart_fss\\filings\\reports.py\", line 227, in extract_attached_files\n",
      "    self._get_report()\n",
      "  File \"C:\\Users\\user\\anaconda3\\envs\\codingNJ\\lib\\site-packages\\dart_fss\\filings\\reports.py\", line 109, in _get_report\n",
      "    resp = request.get(url=self._REPORT_URL_, payload=payload, referer=self._DART_URL_)\n",
      "  File \"C:\\Users\\user\\anaconda3\\envs\\codingNJ\\lib\\site-packages\\dart_fss\\utils\\request.py\", line 173, in get\n",
      "    return self.request(url=url, method='GET', payload=payload, referer=referer, stream=stream, timeout=timeout)\n",
      "  File \"C:\\Users\\user\\anaconda3\\envs\\codingNJ\\lib\\site-packages\\dart_fss\\utils\\request.py\", line 143, in request\n",
      "    resp = self.s.send(prepped, stream=stream, timeout=timeout)\n",
      "  File \"C:\\Users\\user\\anaconda3\\envs\\codingNJ\\lib\\site-packages\\requests\\sessions.py\", line 645, in send\n",
      "    r = adapter.send(request, **kwargs)\n"
     ]
    },
    {
     "name": "stderr",
     "output_type": "stream",
     "text": [
      "  File \"C:\\Users\\user\\anaconda3\\envs\\codingNJ\\lib\\site-packages\\requests\\adapters.py\", line 501, in send\n",
      "    raise ConnectionError(err, request=request)\n",
      "requests.exceptions.ConnectionError: ('Connection aborted.', RemoteDisconnected('Remote end closed connection without response'))\n",
      "C:\\Users\\user\\anaconda3\\envs\\codingNJ\\lib\\site-packages\\dart_fss\\fs\\extract.py:1403: RuntimeWarning: Unable to extract financial statements: {'rcp_no': '20210318000770', 'corp_code': '00547583', 'corp_name': '하나금융지주', 'stock_code': '086790', 'corp_cls': 'Y', 'report_nm': '[기재정정]사업보고서 (2017.12)', 'flr_nm': '하나금융지주', 'rcept_dt': '20210318', 'rm': '연'}.\n",
      "  warnings.warn(warnings_text, RuntimeWarning)\n",
      "Traceback (most recent call last):\n",
      "  File \"C:\\Users\\user\\anaconda3\\envs\\codingNJ\\lib\\site-packages\\urllib3\\connectionpool.py\", line 699, in urlopen\n",
      "    httplib_response = self._make_request(\n",
      "  File \"C:\\Users\\user\\anaconda3\\envs\\codingNJ\\lib\\site-packages\\urllib3\\connectionpool.py\", line 445, in _make_request\n",
      "    six.raise_from(e, None)\n",
      "  File \"<string>\", line 3, in raise_from\n",
      "  File \"C:\\Users\\user\\anaconda3\\envs\\codingNJ\\lib\\site-packages\\urllib3\\connectionpool.py\", line 440, in _make_request\n",
      "    httplib_response = conn.getresponse()\n",
      "  File \"C:\\Users\\user\\anaconda3\\envs\\codingNJ\\lib\\http\\client.py\", line 1371, in getresponse\n",
      "    response.begin()\n",
      "  File \"C:\\Users\\user\\anaconda3\\envs\\codingNJ\\lib\\http\\client.py\", line 319, in begin\n",
      "    version, status, reason = self._read_status()\n",
      "  File \"C:\\Users\\user\\anaconda3\\envs\\codingNJ\\lib\\http\\client.py\", line 288, in _read_status\n",
      "    raise RemoteDisconnected(\"Remote end closed connection without\"\n",
      "http.client.RemoteDisconnected: Remote end closed connection without response\n",
      "\n",
      "During handling of the above exception, another exception occurred:\n",
      "\n",
      "Traceback (most recent call last):\n",
      "  File \"C:\\Users\\user\\anaconda3\\envs\\codingNJ\\lib\\site-packages\\requests\\adapters.py\", line 440, in send\n",
      "    resp = conn.urlopen(\n",
      "  File \"C:\\Users\\user\\anaconda3\\envs\\codingNJ\\lib\\site-packages\\urllib3\\connectionpool.py\", line 755, in urlopen\n",
      "    retries = retries.increment(\n",
      "  File \"C:\\Users\\user\\anaconda3\\envs\\codingNJ\\lib\\site-packages\\urllib3\\util\\retry.py\", line 532, in increment\n",
      "    raise six.reraise(type(error), error, _stacktrace)\n",
      "  File \"C:\\Users\\user\\anaconda3\\envs\\codingNJ\\lib\\site-packages\\urllib3\\packages\\six.py\", line 769, in reraise\n",
      "    raise value.with_traceback(tb)\n",
      "  File \"C:\\Users\\user\\anaconda3\\envs\\codingNJ\\lib\\site-packages\\urllib3\\connectionpool.py\", line 699, in urlopen\n",
      "    httplib_response = self._make_request(\n",
      "  File \"C:\\Users\\user\\anaconda3\\envs\\codingNJ\\lib\\site-packages\\urllib3\\connectionpool.py\", line 445, in _make_request\n",
      "    six.raise_from(e, None)\n",
      "  File \"<string>\", line 3, in raise_from\n",
      "  File \"C:\\Users\\user\\anaconda3\\envs\\codingNJ\\lib\\site-packages\\urllib3\\connectionpool.py\", line 440, in _make_request\n",
      "    httplib_response = conn.getresponse()\n",
      "  File \"C:\\Users\\user\\anaconda3\\envs\\codingNJ\\lib\\http\\client.py\", line 1371, in getresponse\n",
      "    response.begin()\n",
      "  File \"C:\\Users\\user\\anaconda3\\envs\\codingNJ\\lib\\http\\client.py\", line 319, in begin\n",
      "    version, status, reason = self._read_status()\n",
      "  File \"C:\\Users\\user\\anaconda3\\envs\\codingNJ\\lib\\http\\client.py\", line 288, in _read_status\n",
      "    raise RemoteDisconnected(\"Remote end closed connection without\"\n",
      "urllib3.exceptions.ProtocolError: ('Connection aborted.', RemoteDisconnected('Remote end closed connection without response'))\n",
      "\n",
      "During handling of the above exception, another exception occurred:\n",
      "\n",
      "Traceback (most recent call last):\n",
      "  File \"C:\\Users\\user\\anaconda3\\envs\\codingNJ\\lib\\site-packages\\dart_fss\\fs\\extract.py\", line 1387, in extract\n",
      "    statements = analyze_report(report=report,\n",
      "  File \"C:\\Users\\user\\anaconda3\\envs\\codingNJ\\lib\\site-packages\\dart_fss\\fs\\extract.py\", line 1242, in analyze_report\n",
      "    xbrl = report.xbrl\n",
      "  File \"C:\\Users\\user\\anaconda3\\envs\\codingNJ\\lib\\site-packages\\dart_fss\\filings\\reports.py\", line 377, in xbrl\n",
      "    self.load_xbrl()\n",
      "  File \"C:\\Users\\user\\anaconda3\\envs\\codingNJ\\lib\\site-packages\\dart_fss\\filings\\reports.py\", line 389, in load_xbrl\n",
      "    xbrl_attached = self._get_xbrl()\n",
      "  File \"C:\\Users\\user\\anaconda3\\envs\\codingNJ\\lib\\site-packages\\dart_fss\\filings\\reports.py\", line 406, in _get_xbrl\n",
      "    attached_files = self.find_all(**query)\n",
      "  File \"C:\\Users\\user\\anaconda3\\envs\\codingNJ\\lib\\site-packages\\dart_fss\\filings\\reports.py\", line 371, in find_all\n",
      "    dataset[s] = func_set[s]()\n",
      "  File \"C:\\Users\\user\\anaconda3\\envs\\codingNJ\\lib\\site-packages\\dart_fss\\filings\\reports.py\", line 360, in attached_files\n",
      "    def attached_files(): return [x for x in self.attached_files if determinant(x.filename)]\n",
      "  File \"C:\\Users\\user\\anaconda3\\envs\\codingNJ\\lib\\site-packages\\dart_fss\\filings\\reports.py\", line 214, in attached_files\n",
      "    self.extract_attached_files()\n",
      "  File \"C:\\Users\\user\\anaconda3\\envs\\codingNJ\\lib\\site-packages\\dart_fss\\filings\\reports.py\", line 227, in extract_attached_files\n",
      "    self._get_report()\n",
      "  File \"C:\\Users\\user\\anaconda3\\envs\\codingNJ\\lib\\site-packages\\dart_fss\\filings\\reports.py\", line 109, in _get_report\n",
      "    resp = request.get(url=self._REPORT_URL_, payload=payload, referer=self._DART_URL_)\n",
      "  File \"C:\\Users\\user\\anaconda3\\envs\\codingNJ\\lib\\site-packages\\dart_fss\\utils\\request.py\", line 173, in get\n",
      "    return self.request(url=url, method='GET', payload=payload, referer=referer, stream=stream, timeout=timeout)\n",
      "  File \"C:\\Users\\user\\anaconda3\\envs\\codingNJ\\lib\\site-packages\\dart_fss\\utils\\request.py\", line 143, in request\n",
      "    resp = self.s.send(prepped, stream=stream, timeout=timeout)\n",
      "  File \"C:\\Users\\user\\anaconda3\\envs\\codingNJ\\lib\\site-packages\\requests\\sessions.py\", line 645, in send\n",
      "    r = adapter.send(request, **kwargs)\n",
      "  File \"C:\\Users\\user\\anaconda3\\envs\\codingNJ\\lib\\site-packages\\requests\\adapters.py\", line 501, in send\n",
      "    raise ConnectionError(err, request=request)\n",
      "requests.exceptions.ConnectionError: ('Connection aborted.', RemoteDisconnected('Remote end closed connection without response'))\n",
      "C:\\Users\\user\\anaconda3\\envs\\codingNJ\\lib\\site-packages\\dart_fss\\fs\\extract.py:1403: RuntimeWarning: Unable to extract financial statements: {'rcp_no': '20200330004307', 'corp_code': '00547583', 'corp_name': '하나금융지주', 'stock_code': '086790', 'corp_cls': 'Y', 'report_nm': '사업보고서 (2019.12)', 'flr_nm': '하나금융지주', 'rcept_dt': '20200330', 'rm': '연'}.\n",
      "  warnings.warn(warnings_text, RuntimeWarning)\n"
     ]
    },
    {
     "data": {
      "application/vnd.jupyter.widget-view+json": {
       "model_id": "2fd18af52d09490ebf4cb19e38eb6ced",
       "version_major": 2,
       "version_minor": 0
      },
      "text/plain": [
       "Annual reports:   0%|          | 0/3 [00:00<?, ?report/s]"
      ]
     },
     "metadata": {},
     "output_type": "display_data"
    },
    {
     "name": "stderr",
     "output_type": "stream",
     "text": [
      "Traceback (most recent call last):\n",
      "  File \"C:\\Users\\user\\anaconda3\\envs\\codingNJ\\lib\\site-packages\\urllib3\\connectionpool.py\", line 699, in urlopen\n",
      "    httplib_response = self._make_request(\n",
      "  File \"C:\\Users\\user\\anaconda3\\envs\\codingNJ\\lib\\site-packages\\urllib3\\connectionpool.py\", line 445, in _make_request\n",
      "    six.raise_from(e, None)\n",
      "  File \"<string>\", line 3, in raise_from\n",
      "  File \"C:\\Users\\user\\anaconda3\\envs\\codingNJ\\lib\\site-packages\\urllib3\\connectionpool.py\", line 440, in _make_request\n",
      "    httplib_response = conn.getresponse()\n",
      "  File \"C:\\Users\\user\\anaconda3\\envs\\codingNJ\\lib\\http\\client.py\", line 1371, in getresponse\n",
      "    response.begin()\n",
      "  File \"C:\\Users\\user\\anaconda3\\envs\\codingNJ\\lib\\http\\client.py\", line 319, in begin\n",
      "    version, status, reason = self._read_status()\n",
      "  File \"C:\\Users\\user\\anaconda3\\envs\\codingNJ\\lib\\http\\client.py\", line 288, in _read_status\n",
      "    raise RemoteDisconnected(\"Remote end closed connection without\"\n",
      "http.client.RemoteDisconnected: Remote end closed connection without response\n",
      "\n",
      "During handling of the above exception, another exception occurred:\n",
      "\n",
      "Traceback (most recent call last):\n",
      "  File \"C:\\Users\\user\\anaconda3\\envs\\codingNJ\\lib\\site-packages\\requests\\adapters.py\", line 440, in send\n",
      "    resp = conn.urlopen(\n",
      "  File \"C:\\Users\\user\\anaconda3\\envs\\codingNJ\\lib\\site-packages\\urllib3\\connectionpool.py\", line 755, in urlopen\n",
      "    retries = retries.increment(\n",
      "  File \"C:\\Users\\user\\anaconda3\\envs\\codingNJ\\lib\\site-packages\\urllib3\\util\\retry.py\", line 532, in increment\n",
      "    raise six.reraise(type(error), error, _stacktrace)\n",
      "  File \"C:\\Users\\user\\anaconda3\\envs\\codingNJ\\lib\\site-packages\\urllib3\\packages\\six.py\", line 769, in reraise\n",
      "    raise value.with_traceback(tb)\n",
      "  File \"C:\\Users\\user\\anaconda3\\envs\\codingNJ\\lib\\site-packages\\urllib3\\connectionpool.py\", line 699, in urlopen\n",
      "    httplib_response = self._make_request(\n",
      "  File \"C:\\Users\\user\\anaconda3\\envs\\codingNJ\\lib\\site-packages\\urllib3\\connectionpool.py\", line 445, in _make_request\n",
      "    six.raise_from(e, None)\n",
      "  File \"<string>\", line 3, in raise_from\n",
      "  File \"C:\\Users\\user\\anaconda3\\envs\\codingNJ\\lib\\site-packages\\urllib3\\connectionpool.py\", line 440, in _make_request\n",
      "    httplib_response = conn.getresponse()\n",
      "  File \"C:\\Users\\user\\anaconda3\\envs\\codingNJ\\lib\\http\\client.py\", line 1371, in getresponse\n",
      "    response.begin()\n",
      "  File \"C:\\Users\\user\\anaconda3\\envs\\codingNJ\\lib\\http\\client.py\", line 319, in begin\n",
      "    version, status, reason = self._read_status()\n",
      "  File \"C:\\Users\\user\\anaconda3\\envs\\codingNJ\\lib\\http\\client.py\", line 288, in _read_status\n",
      "    raise RemoteDisconnected(\"Remote end closed connection without\"\n",
      "urllib3.exceptions.ProtocolError: ('Connection aborted.', RemoteDisconnected('Remote end closed connection without response'))\n",
      "\n",
      "During handling of the above exception, another exception occurred:\n",
      "\n",
      "Traceback (most recent call last):\n",
      "  File \"C:\\Users\\user\\anaconda3\\envs\\codingNJ\\lib\\site-packages\\dart_fss\\fs\\extract.py\", line 1387, in extract\n",
      "    statements = analyze_report(report=report,\n",
      "  File \"C:\\Users\\user\\anaconda3\\envs\\codingNJ\\lib\\site-packages\\dart_fss\\fs\\extract.py\", line 1242, in analyze_report\n",
      "    xbrl = report.xbrl\n",
      "  File \"C:\\Users\\user\\anaconda3\\envs\\codingNJ\\lib\\site-packages\\dart_fss\\filings\\reports.py\", line 377, in xbrl\n",
      "    self.load_xbrl()\n",
      "  File \"C:\\Users\\user\\anaconda3\\envs\\codingNJ\\lib\\site-packages\\dart_fss\\filings\\reports.py\", line 389, in load_xbrl\n",
      "    xbrl_attached = self._get_xbrl()\n",
      "  File \"C:\\Users\\user\\anaconda3\\envs\\codingNJ\\lib\\site-packages\\dart_fss\\filings\\reports.py\", line 406, in _get_xbrl\n",
      "    attached_files = self.find_all(**query)\n",
      "  File \"C:\\Users\\user\\anaconda3\\envs\\codingNJ\\lib\\site-packages\\dart_fss\\filings\\reports.py\", line 371, in find_all\n",
      "    dataset[s] = func_set[s]()\n",
      "  File \"C:\\Users\\user\\anaconda3\\envs\\codingNJ\\lib\\site-packages\\dart_fss\\filings\\reports.py\", line 360, in attached_files\n",
      "    def attached_files(): return [x for x in self.attached_files if determinant(x.filename)]\n",
      "  File \"C:\\Users\\user\\anaconda3\\envs\\codingNJ\\lib\\site-packages\\dart_fss\\filings\\reports.py\", line 214, in attached_files\n",
      "    self.extract_attached_files()\n",
      "  File \"C:\\Users\\user\\anaconda3\\envs\\codingNJ\\lib\\site-packages\\dart_fss\\filings\\reports.py\", line 227, in extract_attached_files\n",
      "    self._get_report()\n",
      "  File \"C:\\Users\\user\\anaconda3\\envs\\codingNJ\\lib\\site-packages\\dart_fss\\filings\\reports.py\", line 109, in _get_report\n",
      "    resp = request.get(url=self._REPORT_URL_, payload=payload, referer=self._DART_URL_)\n",
      "  File \"C:\\Users\\user\\anaconda3\\envs\\codingNJ\\lib\\site-packages\\dart_fss\\utils\\request.py\", line 173, in get\n",
      "    return self.request(url=url, method='GET', payload=payload, referer=referer, stream=stream, timeout=timeout)\n",
      "  File \"C:\\Users\\user\\anaconda3\\envs\\codingNJ\\lib\\site-packages\\dart_fss\\utils\\request.py\", line 143, in request\n",
      "    resp = self.s.send(prepped, stream=stream, timeout=timeout)\n",
      "  File \"C:\\Users\\user\\anaconda3\\envs\\codingNJ\\lib\\site-packages\\requests\\sessions.py\", line 645, in send\n",
      "    r = adapter.send(request, **kwargs)\n",
      "  File \"C:\\Users\\user\\anaconda3\\envs\\codingNJ\\lib\\site-packages\\requests\\adapters.py\", line 501, in send\n",
      "    raise ConnectionError(err, request=request)\n",
      "requests.exceptions.ConnectionError: ('Connection aborted.', RemoteDisconnected('Remote end closed connection without response'))\n",
      "C:\\Users\\user\\anaconda3\\envs\\codingNJ\\lib\\site-packages\\dart_fss\\fs\\extract.py:1403: RuntimeWarning: Unable to extract financial statements: {'rcp_no': '20220317000665', 'corp_code': '00432102', 'corp_name': '한국금융지주', 'stock_code': '071050', 'corp_cls': 'Y', 'report_nm': '사업보고서 (2021.12)', 'flr_nm': '한국금융지주', 'rcept_dt': '20220317', 'rm': '연'}.\n",
      "  warnings.warn(warnings_text, RuntimeWarning)\n",
      "Traceback (most recent call last):\n",
      "  File \"C:\\Users\\user\\anaconda3\\envs\\codingNJ\\lib\\site-packages\\urllib3\\connectionpool.py\", line 699, in urlopen\n",
      "    httplib_response = self._make_request(\n",
      "  File \"C:\\Users\\user\\anaconda3\\envs\\codingNJ\\lib\\site-packages\\urllib3\\connectionpool.py\", line 445, in _make_request\n",
      "    six.raise_from(e, None)\n",
      "  File \"<string>\", line 3, in raise_from\n",
      "  File \"C:\\Users\\user\\anaconda3\\envs\\codingNJ\\lib\\site-packages\\urllib3\\connectionpool.py\", line 440, in _make_request\n",
      "    httplib_response = conn.getresponse()\n",
      "  File \"C:\\Users\\user\\anaconda3\\envs\\codingNJ\\lib\\http\\client.py\", line 1371, in getresponse\n",
      "    response.begin()\n",
      "  File \"C:\\Users\\user\\anaconda3\\envs\\codingNJ\\lib\\http\\client.py\", line 319, in begin\n",
      "    version, status, reason = self._read_status()\n",
      "  File \"C:\\Users\\user\\anaconda3\\envs\\codingNJ\\lib\\http\\client.py\", line 288, in _read_status\n",
      "    raise RemoteDisconnected(\"Remote end closed connection without\"\n",
      "http.client.RemoteDisconnected: Remote end closed connection without response\n",
      "\n",
      "During handling of the above exception, another exception occurred:\n",
      "\n",
      "Traceback (most recent call last):\n",
      "  File \"C:\\Users\\user\\anaconda3\\envs\\codingNJ\\lib\\site-packages\\requests\\adapters.py\", line 440, in send\n",
      "    resp = conn.urlopen(\n",
      "  File \"C:\\Users\\user\\anaconda3\\envs\\codingNJ\\lib\\site-packages\\urllib3\\connectionpool.py\", line 755, in urlopen\n",
      "    retries = retries.increment(\n",
      "  File \"C:\\Users\\user\\anaconda3\\envs\\codingNJ\\lib\\site-packages\\urllib3\\util\\retry.py\", line 532, in increment\n",
      "    raise six.reraise(type(error), error, _stacktrace)\n",
      "  File \"C:\\Users\\user\\anaconda3\\envs\\codingNJ\\lib\\site-packages\\urllib3\\packages\\six.py\", line 769, in reraise\n",
      "    raise value.with_traceback(tb)\n",
      "  File \"C:\\Users\\user\\anaconda3\\envs\\codingNJ\\lib\\site-packages\\urllib3\\connectionpool.py\", line 699, in urlopen\n",
      "    httplib_response = self._make_request(\n",
      "  File \"C:\\Users\\user\\anaconda3\\envs\\codingNJ\\lib\\site-packages\\urllib3\\connectionpool.py\", line 445, in _make_request\n",
      "    six.raise_from(e, None)\n",
      "  File \"<string>\", line 3, in raise_from\n",
      "  File \"C:\\Users\\user\\anaconda3\\envs\\codingNJ\\lib\\site-packages\\urllib3\\connectionpool.py\", line 440, in _make_request\n",
      "    httplib_response = conn.getresponse()\n",
      "  File \"C:\\Users\\user\\anaconda3\\envs\\codingNJ\\lib\\http\\client.py\", line 1371, in getresponse\n",
      "    response.begin()\n",
      "  File \"C:\\Users\\user\\anaconda3\\envs\\codingNJ\\lib\\http\\client.py\", line 319, in begin\n",
      "    version, status, reason = self._read_status()\n"
     ]
    },
    {
     "name": "stderr",
     "output_type": "stream",
     "text": [
      "  File \"C:\\Users\\user\\anaconda3\\envs\\codingNJ\\lib\\http\\client.py\", line 288, in _read_status\n",
      "    raise RemoteDisconnected(\"Remote end closed connection without\"\n",
      "urllib3.exceptions.ProtocolError: ('Connection aborted.', RemoteDisconnected('Remote end closed connection without response'))\n",
      "\n",
      "During handling of the above exception, another exception occurred:\n",
      "\n",
      "Traceback (most recent call last):\n",
      "  File \"C:\\Users\\user\\anaconda3\\envs\\codingNJ\\lib\\site-packages\\dart_fss\\fs\\extract.py\", line 1387, in extract\n",
      "    statements = analyze_report(report=report,\n",
      "  File \"C:\\Users\\user\\anaconda3\\envs\\codingNJ\\lib\\site-packages\\dart_fss\\fs\\extract.py\", line 1242, in analyze_report\n",
      "    xbrl = report.xbrl\n",
      "  File \"C:\\Users\\user\\anaconda3\\envs\\codingNJ\\lib\\site-packages\\dart_fss\\filings\\reports.py\", line 377, in xbrl\n",
      "    self.load_xbrl()\n",
      "  File \"C:\\Users\\user\\anaconda3\\envs\\codingNJ\\lib\\site-packages\\dart_fss\\filings\\reports.py\", line 389, in load_xbrl\n",
      "    xbrl_attached = self._get_xbrl()\n",
      "  File \"C:\\Users\\user\\anaconda3\\envs\\codingNJ\\lib\\site-packages\\dart_fss\\filings\\reports.py\", line 406, in _get_xbrl\n",
      "    attached_files = self.find_all(**query)\n",
      "  File \"C:\\Users\\user\\anaconda3\\envs\\codingNJ\\lib\\site-packages\\dart_fss\\filings\\reports.py\", line 371, in find_all\n",
      "    dataset[s] = func_set[s]()\n",
      "  File \"C:\\Users\\user\\anaconda3\\envs\\codingNJ\\lib\\site-packages\\dart_fss\\filings\\reports.py\", line 360, in attached_files\n",
      "    def attached_files(): return [x for x in self.attached_files if determinant(x.filename)]\n",
      "  File \"C:\\Users\\user\\anaconda3\\envs\\codingNJ\\lib\\site-packages\\dart_fss\\filings\\reports.py\", line 214, in attached_files\n",
      "    self.extract_attached_files()\n",
      "  File \"C:\\Users\\user\\anaconda3\\envs\\codingNJ\\lib\\site-packages\\dart_fss\\filings\\reports.py\", line 227, in extract_attached_files\n",
      "    self._get_report()\n",
      "  File \"C:\\Users\\user\\anaconda3\\envs\\codingNJ\\lib\\site-packages\\dart_fss\\filings\\reports.py\", line 109, in _get_report\n",
      "    resp = request.get(url=self._REPORT_URL_, payload=payload, referer=self._DART_URL_)\n",
      "  File \"C:\\Users\\user\\anaconda3\\envs\\codingNJ\\lib\\site-packages\\dart_fss\\utils\\request.py\", line 173, in get\n",
      "    return self.request(url=url, method='GET', payload=payload, referer=referer, stream=stream, timeout=timeout)\n",
      "  File \"C:\\Users\\user\\anaconda3\\envs\\codingNJ\\lib\\site-packages\\dart_fss\\utils\\request.py\", line 143, in request\n",
      "    resp = self.s.send(prepped, stream=stream, timeout=timeout)\n",
      "  File \"C:\\Users\\user\\anaconda3\\envs\\codingNJ\\lib\\site-packages\\requests\\sessions.py\", line 645, in send\n",
      "    r = adapter.send(request, **kwargs)\n",
      "  File \"C:\\Users\\user\\anaconda3\\envs\\codingNJ\\lib\\site-packages\\requests\\adapters.py\", line 501, in send\n",
      "    raise ConnectionError(err, request=request)\n",
      "requests.exceptions.ConnectionError: ('Connection aborted.', RemoteDisconnected('Remote end closed connection without response'))\n",
      "C:\\Users\\user\\anaconda3\\envs\\codingNJ\\lib\\site-packages\\dart_fss\\fs\\extract.py:1403: RuntimeWarning: Unable to extract financial statements: {'rcp_no': '20210318000657', 'corp_code': '00432102', 'corp_name': '한국금융지주', 'stock_code': '071050', 'corp_cls': 'Y', 'report_nm': '사업보고서 (2020.12)', 'flr_nm': '한국금융지주', 'rcept_dt': '20210318', 'rm': '연'}.\n",
      "  warnings.warn(warnings_text, RuntimeWarning)\n",
      "Traceback (most recent call last):\n",
      "  File \"C:\\Users\\user\\anaconda3\\envs\\codingNJ\\lib\\site-packages\\urllib3\\connectionpool.py\", line 699, in urlopen\n",
      "    httplib_response = self._make_request(\n",
      "  File \"C:\\Users\\user\\anaconda3\\envs\\codingNJ\\lib\\site-packages\\urllib3\\connectionpool.py\", line 445, in _make_request\n",
      "    six.raise_from(e, None)\n",
      "  File \"<string>\", line 3, in raise_from\n",
      "  File \"C:\\Users\\user\\anaconda3\\envs\\codingNJ\\lib\\site-packages\\urllib3\\connectionpool.py\", line 440, in _make_request\n",
      "    httplib_response = conn.getresponse()\n",
      "  File \"C:\\Users\\user\\anaconda3\\envs\\codingNJ\\lib\\http\\client.py\", line 1371, in getresponse\n",
      "    response.begin()\n",
      "  File \"C:\\Users\\user\\anaconda3\\envs\\codingNJ\\lib\\http\\client.py\", line 319, in begin\n",
      "    version, status, reason = self._read_status()\n",
      "  File \"C:\\Users\\user\\anaconda3\\envs\\codingNJ\\lib\\http\\client.py\", line 288, in _read_status\n",
      "    raise RemoteDisconnected(\"Remote end closed connection without\"\n",
      "http.client.RemoteDisconnected: Remote end closed connection without response\n",
      "\n",
      "During handling of the above exception, another exception occurred:\n",
      "\n",
      "Traceback (most recent call last):\n",
      "  File \"C:\\Users\\user\\anaconda3\\envs\\codingNJ\\lib\\site-packages\\requests\\adapters.py\", line 440, in send\n",
      "    resp = conn.urlopen(\n",
      "  File \"C:\\Users\\user\\anaconda3\\envs\\codingNJ\\lib\\site-packages\\urllib3\\connectionpool.py\", line 755, in urlopen\n",
      "    retries = retries.increment(\n",
      "  File \"C:\\Users\\user\\anaconda3\\envs\\codingNJ\\lib\\site-packages\\urllib3\\util\\retry.py\", line 532, in increment\n",
      "    raise six.reraise(type(error), error, _stacktrace)\n",
      "  File \"C:\\Users\\user\\anaconda3\\envs\\codingNJ\\lib\\site-packages\\urllib3\\packages\\six.py\", line 769, in reraise\n",
      "    raise value.with_traceback(tb)\n",
      "  File \"C:\\Users\\user\\anaconda3\\envs\\codingNJ\\lib\\site-packages\\urllib3\\connectionpool.py\", line 699, in urlopen\n",
      "    httplib_response = self._make_request(\n",
      "  File \"C:\\Users\\user\\anaconda3\\envs\\codingNJ\\lib\\site-packages\\urllib3\\connectionpool.py\", line 445, in _make_request\n",
      "    six.raise_from(e, None)\n",
      "  File \"<string>\", line 3, in raise_from\n",
      "  File \"C:\\Users\\user\\anaconda3\\envs\\codingNJ\\lib\\site-packages\\urllib3\\connectionpool.py\", line 440, in _make_request\n",
      "    httplib_response = conn.getresponse()\n",
      "  File \"C:\\Users\\user\\anaconda3\\envs\\codingNJ\\lib\\http\\client.py\", line 1371, in getresponse\n",
      "    response.begin()\n",
      "  File \"C:\\Users\\user\\anaconda3\\envs\\codingNJ\\lib\\http\\client.py\", line 319, in begin\n",
      "    version, status, reason = self._read_status()\n",
      "  File \"C:\\Users\\user\\anaconda3\\envs\\codingNJ\\lib\\http\\client.py\", line 288, in _read_status\n",
      "    raise RemoteDisconnected(\"Remote end closed connection without\"\n",
      "urllib3.exceptions.ProtocolError: ('Connection aborted.', RemoteDisconnected('Remote end closed connection without response'))\n",
      "\n",
      "During handling of the above exception, another exception occurred:\n",
      "\n",
      "Traceback (most recent call last):\n",
      "  File \"C:\\Users\\user\\anaconda3\\envs\\codingNJ\\lib\\site-packages\\dart_fss\\fs\\extract.py\", line 1387, in extract\n",
      "    statements = analyze_report(report=report,\n",
      "  File \"C:\\Users\\user\\anaconda3\\envs\\codingNJ\\lib\\site-packages\\dart_fss\\fs\\extract.py\", line 1242, in analyze_report\n",
      "    xbrl = report.xbrl\n",
      "  File \"C:\\Users\\user\\anaconda3\\envs\\codingNJ\\lib\\site-packages\\dart_fss\\filings\\reports.py\", line 377, in xbrl\n",
      "    self.load_xbrl()\n",
      "  File \"C:\\Users\\user\\anaconda3\\envs\\codingNJ\\lib\\site-packages\\dart_fss\\filings\\reports.py\", line 389, in load_xbrl\n",
      "    xbrl_attached = self._get_xbrl()\n",
      "  File \"C:\\Users\\user\\anaconda3\\envs\\codingNJ\\lib\\site-packages\\dart_fss\\filings\\reports.py\", line 406, in _get_xbrl\n",
      "    attached_files = self.find_all(**query)\n",
      "  File \"C:\\Users\\user\\anaconda3\\envs\\codingNJ\\lib\\site-packages\\dart_fss\\filings\\reports.py\", line 371, in find_all\n",
      "    dataset[s] = func_set[s]()\n",
      "  File \"C:\\Users\\user\\anaconda3\\envs\\codingNJ\\lib\\site-packages\\dart_fss\\filings\\reports.py\", line 360, in attached_files\n",
      "    def attached_files(): return [x for x in self.attached_files if determinant(x.filename)]\n",
      "  File \"C:\\Users\\user\\anaconda3\\envs\\codingNJ\\lib\\site-packages\\dart_fss\\filings\\reports.py\", line 214, in attached_files\n",
      "    self.extract_attached_files()\n",
      "  File \"C:\\Users\\user\\anaconda3\\envs\\codingNJ\\lib\\site-packages\\dart_fss\\filings\\reports.py\", line 227, in extract_attached_files\n",
      "    self._get_report()\n",
      "  File \"C:\\Users\\user\\anaconda3\\envs\\codingNJ\\lib\\site-packages\\dart_fss\\filings\\reports.py\", line 109, in _get_report\n",
      "    resp = request.get(url=self._REPORT_URL_, payload=payload, referer=self._DART_URL_)\n",
      "  File \"C:\\Users\\user\\anaconda3\\envs\\codingNJ\\lib\\site-packages\\dart_fss\\utils\\request.py\", line 173, in get\n",
      "    return self.request(url=url, method='GET', payload=payload, referer=referer, stream=stream, timeout=timeout)\n",
      "  File \"C:\\Users\\user\\anaconda3\\envs\\codingNJ\\lib\\site-packages\\dart_fss\\utils\\request.py\", line 143, in request\n",
      "    resp = self.s.send(prepped, stream=stream, timeout=timeout)\n",
      "  File \"C:\\Users\\user\\anaconda3\\envs\\codingNJ\\lib\\site-packages\\requests\\sessions.py\", line 645, in send\n",
      "    r = adapter.send(request, **kwargs)\n"
     ]
    },
    {
     "name": "stderr",
     "output_type": "stream",
     "text": [
      "  File \"C:\\Users\\user\\anaconda3\\envs\\codingNJ\\lib\\site-packages\\requests\\adapters.py\", line 501, in send\n",
      "    raise ConnectionError(err, request=request)\n",
      "requests.exceptions.ConnectionError: ('Connection aborted.', RemoteDisconnected('Remote end closed connection without response'))\n",
      "C:\\Users\\user\\anaconda3\\envs\\codingNJ\\lib\\site-packages\\dart_fss\\fs\\extract.py:1403: RuntimeWarning: Unable to extract financial statements: {'rcp_no': '20200330002949', 'corp_code': '00432102', 'corp_name': '한국금융지주', 'stock_code': '071050', 'corp_cls': 'Y', 'report_nm': '사업보고서 (2019.12)', 'flr_nm': '한국금융지주', 'rcept_dt': '20200330', 'rm': '연'}.\n",
      "  warnings.warn(warnings_text, RuntimeWarning)\n"
     ]
    },
    {
     "data": {
      "application/vnd.jupyter.widget-view+json": {
       "model_id": "0e61e534fda44151be34befd68a782c4",
       "version_major": 2,
       "version_minor": 0
      },
      "text/plain": [
       "Annual reports:   0%|          | 0/3 [00:00<?, ?report/s]"
      ]
     },
     "metadata": {},
     "output_type": "display_data"
    },
    {
     "name": "stderr",
     "output_type": "stream",
     "text": [
      "Traceback (most recent call last):\n",
      "  File \"C:\\Users\\user\\anaconda3\\envs\\codingNJ\\lib\\site-packages\\urllib3\\connectionpool.py\", line 699, in urlopen\n",
      "    httplib_response = self._make_request(\n",
      "  File \"C:\\Users\\user\\anaconda3\\envs\\codingNJ\\lib\\site-packages\\urllib3\\connectionpool.py\", line 445, in _make_request\n",
      "    six.raise_from(e, None)\n",
      "  File \"<string>\", line 3, in raise_from\n",
      "  File \"C:\\Users\\user\\anaconda3\\envs\\codingNJ\\lib\\site-packages\\urllib3\\connectionpool.py\", line 440, in _make_request\n",
      "    httplib_response = conn.getresponse()\n",
      "  File \"C:\\Users\\user\\anaconda3\\envs\\codingNJ\\lib\\http\\client.py\", line 1371, in getresponse\n",
      "    response.begin()\n",
      "  File \"C:\\Users\\user\\anaconda3\\envs\\codingNJ\\lib\\http\\client.py\", line 319, in begin\n",
      "    version, status, reason = self._read_status()\n",
      "  File \"C:\\Users\\user\\anaconda3\\envs\\codingNJ\\lib\\http\\client.py\", line 288, in _read_status\n",
      "    raise RemoteDisconnected(\"Remote end closed connection without\"\n",
      "http.client.RemoteDisconnected: Remote end closed connection without response\n",
      "\n",
      "During handling of the above exception, another exception occurred:\n",
      "\n",
      "Traceback (most recent call last):\n",
      "  File \"C:\\Users\\user\\anaconda3\\envs\\codingNJ\\lib\\site-packages\\requests\\adapters.py\", line 440, in send\n",
      "    resp = conn.urlopen(\n",
      "  File \"C:\\Users\\user\\anaconda3\\envs\\codingNJ\\lib\\site-packages\\urllib3\\connectionpool.py\", line 755, in urlopen\n",
      "    retries = retries.increment(\n",
      "  File \"C:\\Users\\user\\anaconda3\\envs\\codingNJ\\lib\\site-packages\\urllib3\\util\\retry.py\", line 532, in increment\n",
      "    raise six.reraise(type(error), error, _stacktrace)\n",
      "  File \"C:\\Users\\user\\anaconda3\\envs\\codingNJ\\lib\\site-packages\\urllib3\\packages\\six.py\", line 769, in reraise\n",
      "    raise value.with_traceback(tb)\n",
      "  File \"C:\\Users\\user\\anaconda3\\envs\\codingNJ\\lib\\site-packages\\urllib3\\connectionpool.py\", line 699, in urlopen\n",
      "    httplib_response = self._make_request(\n",
      "  File \"C:\\Users\\user\\anaconda3\\envs\\codingNJ\\lib\\site-packages\\urllib3\\connectionpool.py\", line 445, in _make_request\n",
      "    six.raise_from(e, None)\n",
      "  File \"<string>\", line 3, in raise_from\n",
      "  File \"C:\\Users\\user\\anaconda3\\envs\\codingNJ\\lib\\site-packages\\urllib3\\connectionpool.py\", line 440, in _make_request\n",
      "    httplib_response = conn.getresponse()\n",
      "  File \"C:\\Users\\user\\anaconda3\\envs\\codingNJ\\lib\\http\\client.py\", line 1371, in getresponse\n",
      "    response.begin()\n",
      "  File \"C:\\Users\\user\\anaconda3\\envs\\codingNJ\\lib\\http\\client.py\", line 319, in begin\n",
      "    version, status, reason = self._read_status()\n",
      "  File \"C:\\Users\\user\\anaconda3\\envs\\codingNJ\\lib\\http\\client.py\", line 288, in _read_status\n",
      "    raise RemoteDisconnected(\"Remote end closed connection without\"\n",
      "urllib3.exceptions.ProtocolError: ('Connection aborted.', RemoteDisconnected('Remote end closed connection without response'))\n",
      "\n",
      "During handling of the above exception, another exception occurred:\n",
      "\n",
      "Traceback (most recent call last):\n",
      "  File \"C:\\Users\\user\\anaconda3\\envs\\codingNJ\\lib\\site-packages\\dart_fss\\fs\\extract.py\", line 1387, in extract\n",
      "    statements = analyze_report(report=report,\n",
      "  File \"C:\\Users\\user\\anaconda3\\envs\\codingNJ\\lib\\site-packages\\dart_fss\\fs\\extract.py\", line 1242, in analyze_report\n",
      "    xbrl = report.xbrl\n",
      "  File \"C:\\Users\\user\\anaconda3\\envs\\codingNJ\\lib\\site-packages\\dart_fss\\filings\\reports.py\", line 377, in xbrl\n",
      "    self.load_xbrl()\n",
      "  File \"C:\\Users\\user\\anaconda3\\envs\\codingNJ\\lib\\site-packages\\dart_fss\\filings\\reports.py\", line 389, in load_xbrl\n",
      "    xbrl_attached = self._get_xbrl()\n",
      "  File \"C:\\Users\\user\\anaconda3\\envs\\codingNJ\\lib\\site-packages\\dart_fss\\filings\\reports.py\", line 406, in _get_xbrl\n",
      "    attached_files = self.find_all(**query)\n",
      "  File \"C:\\Users\\user\\anaconda3\\envs\\codingNJ\\lib\\site-packages\\dart_fss\\filings\\reports.py\", line 371, in find_all\n",
      "    dataset[s] = func_set[s]()\n",
      "  File \"C:\\Users\\user\\anaconda3\\envs\\codingNJ\\lib\\site-packages\\dart_fss\\filings\\reports.py\", line 360, in attached_files\n",
      "    def attached_files(): return [x for x in self.attached_files if determinant(x.filename)]\n",
      "  File \"C:\\Users\\user\\anaconda3\\envs\\codingNJ\\lib\\site-packages\\dart_fss\\filings\\reports.py\", line 214, in attached_files\n",
      "    self.extract_attached_files()\n",
      "  File \"C:\\Users\\user\\anaconda3\\envs\\codingNJ\\lib\\site-packages\\dart_fss\\filings\\reports.py\", line 227, in extract_attached_files\n",
      "    self._get_report()\n",
      "  File \"C:\\Users\\user\\anaconda3\\envs\\codingNJ\\lib\\site-packages\\dart_fss\\filings\\reports.py\", line 109, in _get_report\n",
      "    resp = request.get(url=self._REPORT_URL_, payload=payload, referer=self._DART_URL_)\n",
      "  File \"C:\\Users\\user\\anaconda3\\envs\\codingNJ\\lib\\site-packages\\dart_fss\\utils\\request.py\", line 173, in get\n",
      "    return self.request(url=url, method='GET', payload=payload, referer=referer, stream=stream, timeout=timeout)\n",
      "  File \"C:\\Users\\user\\anaconda3\\envs\\codingNJ\\lib\\site-packages\\dart_fss\\utils\\request.py\", line 143, in request\n",
      "    resp = self.s.send(prepped, stream=stream, timeout=timeout)\n",
      "  File \"C:\\Users\\user\\anaconda3\\envs\\codingNJ\\lib\\site-packages\\requests\\sessions.py\", line 645, in send\n",
      "    r = adapter.send(request, **kwargs)\n",
      "  File \"C:\\Users\\user\\anaconda3\\envs\\codingNJ\\lib\\site-packages\\requests\\adapters.py\", line 501, in send\n",
      "    raise ConnectionError(err, request=request)\n",
      "requests.exceptions.ConnectionError: ('Connection aborted.', RemoteDisconnected('Remote end closed connection without response'))\n",
      "C:\\Users\\user\\anaconda3\\envs\\codingNJ\\lib\\site-packages\\dart_fss\\fs\\extract.py:1403: RuntimeWarning: Unable to extract financial statements: {'rcp_no': '20220308000831', 'corp_code': '00126292', 'corp_name': '삼성카드', 'stock_code': '029780', 'corp_cls': 'Y', 'report_nm': '사업보고서 (2021.12)', 'flr_nm': '삼성카드', 'rcept_dt': '20220308', 'rm': '연'}.\n",
      "  warnings.warn(warnings_text, RuntimeWarning)\n",
      "Traceback (most recent call last):\n",
      "  File \"C:\\Users\\user\\anaconda3\\envs\\codingNJ\\lib\\site-packages\\urllib3\\connectionpool.py\", line 699, in urlopen\n",
      "    httplib_response = self._make_request(\n",
      "  File \"C:\\Users\\user\\anaconda3\\envs\\codingNJ\\lib\\site-packages\\urllib3\\connectionpool.py\", line 445, in _make_request\n",
      "    six.raise_from(e, None)\n",
      "  File \"<string>\", line 3, in raise_from\n",
      "  File \"C:\\Users\\user\\anaconda3\\envs\\codingNJ\\lib\\site-packages\\urllib3\\connectionpool.py\", line 440, in _make_request\n",
      "    httplib_response = conn.getresponse()\n",
      "  File \"C:\\Users\\user\\anaconda3\\envs\\codingNJ\\lib\\http\\client.py\", line 1371, in getresponse\n",
      "    response.begin()\n",
      "  File \"C:\\Users\\user\\anaconda3\\envs\\codingNJ\\lib\\http\\client.py\", line 319, in begin\n",
      "    version, status, reason = self._read_status()\n",
      "  File \"C:\\Users\\user\\anaconda3\\envs\\codingNJ\\lib\\http\\client.py\", line 288, in _read_status\n",
      "    raise RemoteDisconnected(\"Remote end closed connection without\"\n",
      "http.client.RemoteDisconnected: Remote end closed connection without response\n",
      "\n",
      "During handling of the above exception, another exception occurred:\n",
      "\n",
      "Traceback (most recent call last):\n",
      "  File \"C:\\Users\\user\\anaconda3\\envs\\codingNJ\\lib\\site-packages\\requests\\adapters.py\", line 440, in send\n",
      "    resp = conn.urlopen(\n",
      "  File \"C:\\Users\\user\\anaconda3\\envs\\codingNJ\\lib\\site-packages\\urllib3\\connectionpool.py\", line 755, in urlopen\n",
      "    retries = retries.increment(\n",
      "  File \"C:\\Users\\user\\anaconda3\\envs\\codingNJ\\lib\\site-packages\\urllib3\\util\\retry.py\", line 532, in increment\n",
      "    raise six.reraise(type(error), error, _stacktrace)\n",
      "  File \"C:\\Users\\user\\anaconda3\\envs\\codingNJ\\lib\\site-packages\\urllib3\\packages\\six.py\", line 769, in reraise\n",
      "    raise value.with_traceback(tb)\n",
      "  File \"C:\\Users\\user\\anaconda3\\envs\\codingNJ\\lib\\site-packages\\urllib3\\connectionpool.py\", line 699, in urlopen\n",
      "    httplib_response = self._make_request(\n",
      "  File \"C:\\Users\\user\\anaconda3\\envs\\codingNJ\\lib\\site-packages\\urllib3\\connectionpool.py\", line 445, in _make_request\n",
      "    six.raise_from(e, None)\n",
      "  File \"<string>\", line 3, in raise_from\n",
      "  File \"C:\\Users\\user\\anaconda3\\envs\\codingNJ\\lib\\site-packages\\urllib3\\connectionpool.py\", line 440, in _make_request\n",
      "    httplib_response = conn.getresponse()\n",
      "  File \"C:\\Users\\user\\anaconda3\\envs\\codingNJ\\lib\\http\\client.py\", line 1371, in getresponse\n",
      "    response.begin()\n",
      "  File \"C:\\Users\\user\\anaconda3\\envs\\codingNJ\\lib\\http\\client.py\", line 319, in begin\n",
      "    version, status, reason = self._read_status()\n",
      "  File \"C:\\Users\\user\\anaconda3\\envs\\codingNJ\\lib\\http\\client.py\", line 288, in _read_status\n",
      "    raise RemoteDisconnected(\"Remote end closed connection without\"\n"
     ]
    },
    {
     "name": "stderr",
     "output_type": "stream",
     "text": [
      "urllib3.exceptions.ProtocolError: ('Connection aborted.', RemoteDisconnected('Remote end closed connection without response'))\n",
      "\n",
      "During handling of the above exception, another exception occurred:\n",
      "\n",
      "Traceback (most recent call last):\n",
      "  File \"C:\\Users\\user\\anaconda3\\envs\\codingNJ\\lib\\site-packages\\dart_fss\\fs\\extract.py\", line 1387, in extract\n",
      "    statements = analyze_report(report=report,\n",
      "  File \"C:\\Users\\user\\anaconda3\\envs\\codingNJ\\lib\\site-packages\\dart_fss\\fs\\extract.py\", line 1242, in analyze_report\n",
      "    xbrl = report.xbrl\n",
      "  File \"C:\\Users\\user\\anaconda3\\envs\\codingNJ\\lib\\site-packages\\dart_fss\\filings\\reports.py\", line 377, in xbrl\n",
      "    self.load_xbrl()\n",
      "  File \"C:\\Users\\user\\anaconda3\\envs\\codingNJ\\lib\\site-packages\\dart_fss\\filings\\reports.py\", line 389, in load_xbrl\n",
      "    xbrl_attached = self._get_xbrl()\n",
      "  File \"C:\\Users\\user\\anaconda3\\envs\\codingNJ\\lib\\site-packages\\dart_fss\\filings\\reports.py\", line 406, in _get_xbrl\n",
      "    attached_files = self.find_all(**query)\n",
      "  File \"C:\\Users\\user\\anaconda3\\envs\\codingNJ\\lib\\site-packages\\dart_fss\\filings\\reports.py\", line 371, in find_all\n",
      "    dataset[s] = func_set[s]()\n",
      "  File \"C:\\Users\\user\\anaconda3\\envs\\codingNJ\\lib\\site-packages\\dart_fss\\filings\\reports.py\", line 360, in attached_files\n",
      "    def attached_files(): return [x for x in self.attached_files if determinant(x.filename)]\n",
      "  File \"C:\\Users\\user\\anaconda3\\envs\\codingNJ\\lib\\site-packages\\dart_fss\\filings\\reports.py\", line 214, in attached_files\n",
      "    self.extract_attached_files()\n",
      "  File \"C:\\Users\\user\\anaconda3\\envs\\codingNJ\\lib\\site-packages\\dart_fss\\filings\\reports.py\", line 227, in extract_attached_files\n",
      "    self._get_report()\n",
      "  File \"C:\\Users\\user\\anaconda3\\envs\\codingNJ\\lib\\site-packages\\dart_fss\\filings\\reports.py\", line 109, in _get_report\n",
      "    resp = request.get(url=self._REPORT_URL_, payload=payload, referer=self._DART_URL_)\n",
      "  File \"C:\\Users\\user\\anaconda3\\envs\\codingNJ\\lib\\site-packages\\dart_fss\\utils\\request.py\", line 173, in get\n",
      "    return self.request(url=url, method='GET', payload=payload, referer=referer, stream=stream, timeout=timeout)\n",
      "  File \"C:\\Users\\user\\anaconda3\\envs\\codingNJ\\lib\\site-packages\\dart_fss\\utils\\request.py\", line 143, in request\n",
      "    resp = self.s.send(prepped, stream=stream, timeout=timeout)\n",
      "  File \"C:\\Users\\user\\anaconda3\\envs\\codingNJ\\lib\\site-packages\\requests\\sessions.py\", line 645, in send\n",
      "    r = adapter.send(request, **kwargs)\n",
      "  File \"C:\\Users\\user\\anaconda3\\envs\\codingNJ\\lib\\site-packages\\requests\\adapters.py\", line 501, in send\n",
      "    raise ConnectionError(err, request=request)\n",
      "requests.exceptions.ConnectionError: ('Connection aborted.', RemoteDisconnected('Remote end closed connection without response'))\n",
      "C:\\Users\\user\\anaconda3\\envs\\codingNJ\\lib\\site-packages\\dart_fss\\fs\\extract.py:1403: RuntimeWarning: Unable to extract financial statements: {'rcp_no': '20210310000928', 'corp_code': '00126292', 'corp_name': '삼성카드', 'stock_code': '029780', 'corp_cls': 'Y', 'report_nm': '사업보고서 (2020.12)', 'flr_nm': '삼성카드', 'rcept_dt': '20210310', 'rm': '연'}.\n",
      "  warnings.warn(warnings_text, RuntimeWarning)\n",
      "Traceback (most recent call last):\n",
      "  File \"C:\\Users\\user\\anaconda3\\envs\\codingNJ\\lib\\site-packages\\urllib3\\connectionpool.py\", line 699, in urlopen\n",
      "    httplib_response = self._make_request(\n",
      "  File \"C:\\Users\\user\\anaconda3\\envs\\codingNJ\\lib\\site-packages\\urllib3\\connectionpool.py\", line 445, in _make_request\n",
      "    six.raise_from(e, None)\n",
      "  File \"<string>\", line 3, in raise_from\n",
      "  File \"C:\\Users\\user\\anaconda3\\envs\\codingNJ\\lib\\site-packages\\urllib3\\connectionpool.py\", line 440, in _make_request\n",
      "    httplib_response = conn.getresponse()\n",
      "  File \"C:\\Users\\user\\anaconda3\\envs\\codingNJ\\lib\\http\\client.py\", line 1371, in getresponse\n",
      "    response.begin()\n",
      "  File \"C:\\Users\\user\\anaconda3\\envs\\codingNJ\\lib\\http\\client.py\", line 319, in begin\n",
      "    version, status, reason = self._read_status()\n",
      "  File \"C:\\Users\\user\\anaconda3\\envs\\codingNJ\\lib\\http\\client.py\", line 288, in _read_status\n",
      "    raise RemoteDisconnected(\"Remote end closed connection without\"\n",
      "http.client.RemoteDisconnected: Remote end closed connection without response\n",
      "\n",
      "During handling of the above exception, another exception occurred:\n",
      "\n",
      "Traceback (most recent call last):\n",
      "  File \"C:\\Users\\user\\anaconda3\\envs\\codingNJ\\lib\\site-packages\\requests\\adapters.py\", line 440, in send\n",
      "    resp = conn.urlopen(\n",
      "  File \"C:\\Users\\user\\anaconda3\\envs\\codingNJ\\lib\\site-packages\\urllib3\\connectionpool.py\", line 755, in urlopen\n",
      "    retries = retries.increment(\n",
      "  File \"C:\\Users\\user\\anaconda3\\envs\\codingNJ\\lib\\site-packages\\urllib3\\util\\retry.py\", line 532, in increment\n",
      "    raise six.reraise(type(error), error, _stacktrace)\n",
      "  File \"C:\\Users\\user\\anaconda3\\envs\\codingNJ\\lib\\site-packages\\urllib3\\packages\\six.py\", line 769, in reraise\n",
      "    raise value.with_traceback(tb)\n",
      "  File \"C:\\Users\\user\\anaconda3\\envs\\codingNJ\\lib\\site-packages\\urllib3\\connectionpool.py\", line 699, in urlopen\n",
      "    httplib_response = self._make_request(\n",
      "  File \"C:\\Users\\user\\anaconda3\\envs\\codingNJ\\lib\\site-packages\\urllib3\\connectionpool.py\", line 445, in _make_request\n",
      "    six.raise_from(e, None)\n",
      "  File \"<string>\", line 3, in raise_from\n",
      "  File \"C:\\Users\\user\\anaconda3\\envs\\codingNJ\\lib\\site-packages\\urllib3\\connectionpool.py\", line 440, in _make_request\n",
      "    httplib_response = conn.getresponse()\n",
      "  File \"C:\\Users\\user\\anaconda3\\envs\\codingNJ\\lib\\http\\client.py\", line 1371, in getresponse\n",
      "    response.begin()\n",
      "  File \"C:\\Users\\user\\anaconda3\\envs\\codingNJ\\lib\\http\\client.py\", line 319, in begin\n",
      "    version, status, reason = self._read_status()\n",
      "  File \"C:\\Users\\user\\anaconda3\\envs\\codingNJ\\lib\\http\\client.py\", line 288, in _read_status\n",
      "    raise RemoteDisconnected(\"Remote end closed connection without\"\n",
      "urllib3.exceptions.ProtocolError: ('Connection aborted.', RemoteDisconnected('Remote end closed connection without response'))\n",
      "\n",
      "During handling of the above exception, another exception occurred:\n",
      "\n",
      "Traceback (most recent call last):\n",
      "  File \"C:\\Users\\user\\anaconda3\\envs\\codingNJ\\lib\\site-packages\\dart_fss\\fs\\extract.py\", line 1387, in extract\n",
      "    statements = analyze_report(report=report,\n",
      "  File \"C:\\Users\\user\\anaconda3\\envs\\codingNJ\\lib\\site-packages\\dart_fss\\fs\\extract.py\", line 1242, in analyze_report\n",
      "    xbrl = report.xbrl\n",
      "  File \"C:\\Users\\user\\anaconda3\\envs\\codingNJ\\lib\\site-packages\\dart_fss\\filings\\reports.py\", line 377, in xbrl\n",
      "    self.load_xbrl()\n",
      "  File \"C:\\Users\\user\\anaconda3\\envs\\codingNJ\\lib\\site-packages\\dart_fss\\filings\\reports.py\", line 389, in load_xbrl\n",
      "    xbrl_attached = self._get_xbrl()\n",
      "  File \"C:\\Users\\user\\anaconda3\\envs\\codingNJ\\lib\\site-packages\\dart_fss\\filings\\reports.py\", line 406, in _get_xbrl\n",
      "    attached_files = self.find_all(**query)\n",
      "  File \"C:\\Users\\user\\anaconda3\\envs\\codingNJ\\lib\\site-packages\\dart_fss\\filings\\reports.py\", line 371, in find_all\n",
      "    dataset[s] = func_set[s]()\n",
      "  File \"C:\\Users\\user\\anaconda3\\envs\\codingNJ\\lib\\site-packages\\dart_fss\\filings\\reports.py\", line 360, in attached_files\n",
      "    def attached_files(): return [x for x in self.attached_files if determinant(x.filename)]\n",
      "  File \"C:\\Users\\user\\anaconda3\\envs\\codingNJ\\lib\\site-packages\\dart_fss\\filings\\reports.py\", line 214, in attached_files\n",
      "    self.extract_attached_files()\n",
      "  File \"C:\\Users\\user\\anaconda3\\envs\\codingNJ\\lib\\site-packages\\dart_fss\\filings\\reports.py\", line 227, in extract_attached_files\n",
      "    self._get_report()\n",
      "  File \"C:\\Users\\user\\anaconda3\\envs\\codingNJ\\lib\\site-packages\\dart_fss\\filings\\reports.py\", line 109, in _get_report\n",
      "    resp = request.get(url=self._REPORT_URL_, payload=payload, referer=self._DART_URL_)\n",
      "  File \"C:\\Users\\user\\anaconda3\\envs\\codingNJ\\lib\\site-packages\\dart_fss\\utils\\request.py\", line 173, in get\n",
      "    return self.request(url=url, method='GET', payload=payload, referer=referer, stream=stream, timeout=timeout)\n",
      "  File \"C:\\Users\\user\\anaconda3\\envs\\codingNJ\\lib\\site-packages\\dart_fss\\utils\\request.py\", line 143, in request\n",
      "    resp = self.s.send(prepped, stream=stream, timeout=timeout)\n",
      "  File \"C:\\Users\\user\\anaconda3\\envs\\codingNJ\\lib\\site-packages\\requests\\sessions.py\", line 645, in send\n",
      "    r = adapter.send(request, **kwargs)\n",
      "  File \"C:\\Users\\user\\anaconda3\\envs\\codingNJ\\lib\\site-packages\\requests\\adapters.py\", line 501, in send\n",
      "    raise ConnectionError(err, request=request)\n"
     ]
    },
    {
     "name": "stderr",
     "output_type": "stream",
     "text": [
      "requests.exceptions.ConnectionError: ('Connection aborted.', RemoteDisconnected('Remote end closed connection without response'))\n",
      "C:\\Users\\user\\anaconda3\\envs\\codingNJ\\lib\\site-packages\\dart_fss\\fs\\extract.py:1403: RuntimeWarning: Unable to extract financial statements: {'rcp_no': '20200330002866', 'corp_code': '00126292', 'corp_name': '삼성카드', 'stock_code': '029780', 'corp_cls': 'Y', 'report_nm': '사업보고서 (2019.12)', 'flr_nm': '삼성카드', 'rcept_dt': '20200330', 'rm': '연'}.\n",
      "  warnings.warn(warnings_text, RuntimeWarning)\n"
     ]
    }
   ],
   "source": [
    "bs_col_df = pd.DataFrame()\n",
    "is_col_df = pd.DataFrame()\n",
    "cf_col_df = pd.DataFrame()\n",
    "\n",
    "for company in 은행_금융_카드['DART 기업코드'] : \n",
    "    \n",
    "    try : \n",
    "        fs = dart.fs.extract(corp_code= company, bgn_de='20200101', report_tp = 'annual', fs_tp=('bs', 'is', 'cis', 'cf'), separate = True)\n",
    "        bs_df = fs.show('bs', show_class = False, show_concept = True).T.reset_index()\n",
    "        # level_1은 쓸모없는 설명 열 이므로 제거 \n",
    "        bs_df.drop(['level_1'],axis=1, inplace=True)\n",
    "        bs_cols = bs_df.iloc[0]  # 0번째 행을 열이름으로 바꾼다. 이렇게 함으로써 열\n",
    "        # 새로운 bs_df\n",
    "        bs_df=pd.DataFrame(list(bs_cols),columns=[corp_dic[company]])\n",
    "\n",
    "        try : \n",
    "            # class 를 제거, ifrs 공식 용어인 concept 제거, 이후 transpose, reset_index \n",
    "            is_df = fs.show('cis', show_class = False, show_concept = True).T.reset_index()\n",
    "            # level_1은 쓸모없는 설명 열 이므로 제거 \n",
    "            is_df.drop(['level_1'],axis=1, inplace=True)\n",
    "            is_cols = is_df.iloc[0]  # 0번째 행을 열이름으로 바꾼다. 이렇게 함으로써 열\n",
    "            # 새로운 is_df\n",
    "            is_df=pd.DataFrame(list(is_cols),columns=[corp_dic[company]])\n",
    "        except : \n",
    "            # class 를 제거, ifrs 공식 용어인 concept 제거, 이후 transpose, reset_index \n",
    "            is_df = fs.show('is', show_class = False, show_concept = True).T.reset_index()\n",
    "            # level_1은 쓸모없는 설명 열 이므로 제거 \n",
    "            is_df.drop(['level_1'],axis=1, inplace=True)\n",
    "            is_cols = is_df.iloc[0]  # 0번째 행을 열이름으로 바꾼다. 이렇게 함으로써 열\n",
    "            # 새로운 is_df\n",
    "            is_df=pd.DataFrame(list(is_cols),columns=[corp_dic[company]])\n",
    "\n",
    "        # class 를 제거, ifrs 공식 용어인 concept 제거, 이후 transpose, reset_index \n",
    "        cf_df = fs.show('cf', show_class = False, show_concept = True).T.reset_index()\n",
    "        # level_1은 쓸모없는 설명 열 이므로 제거 \n",
    "        cf_df.drop(['level_1'],axis=1, inplace=True)\n",
    "        # 이렇게 전처리된 데이터 프레임에서 1번째 인덱스는 각 회계 항목의 영어이름(label_en)이다. \n",
    "        cf_cols = cf_df.iloc[0]  # 0번째 행을 열이름으로 바꾼다. 이렇게 함으로써 열 이름이 회계 세부 항목 이름으로 바뀌게 된다. \n",
    "        # 새로운 cf_df\n",
    "        cf_df=pd.DataFrame(list(cf_cols),columns=[corp_dic[company]])\n",
    "\n",
    "        bs_col_df = pd.concat([bs_col_df, bs_df],axis=1)\n",
    "        is_col_df = pd.concat([is_col_df, is_df],axis=1)\n",
    "        cf_col_df = pd.concat([cf_col_df, cf_df],axis=1)\n",
    "        \n",
    "    except : \n",
    "        pass\n",
    "    \n",
    "    \n",
    "\n",
    "bs_col_df.to_excel('은행_금융_카드사 BS.xlsx')\n",
    "is_col_df.to_excel('은행_금융_카드사 IS.xlsx')\n",
    "cf_col_df.to_excel('은행_금융_카드사 CF.xlsx')"
   ]
  },
  {
   "cell_type": "code",
   "execution_count": null,
   "id": "4375b532",
   "metadata": {},
   "outputs": [],
   "source": []
  }
 ],
 "metadata": {
  "kernelspec": {
   "display_name": "codingNJ",
   "language": "python",
   "name": "codingnj"
  },
  "language_info": {
   "codemirror_mode": {
    "name": "ipython",
    "version": 3
   },
   "file_extension": ".py",
   "mimetype": "text/x-python",
   "name": "python",
   "nbconvert_exporter": "python",
   "pygments_lexer": "ipython3",
   "version": "3.9.7"
  }
 },
 "nbformat": 4,
 "nbformat_minor": 5
}
