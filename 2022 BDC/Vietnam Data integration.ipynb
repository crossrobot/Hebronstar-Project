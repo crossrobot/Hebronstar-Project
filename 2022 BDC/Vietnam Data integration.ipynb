{
 "cells": [
  {
   "cell_type": "code",
   "execution_count": 15,
   "id": "0540a874",
   "metadata": {},
   "outputs": [],
   "source": [
    "import pandas as pd\n",
    "import os"
   ]
  },
  {
   "cell_type": "code",
   "execution_count": 19,
   "id": "80e5047c",
   "metadata": {},
   "outputs": [],
   "source": [
    "company_list1 = pd.read_excel('vietnamese_companylist[1.p~300.p].xlsx')\n",
    "company_list2 = pd.read_excel('vietnamese_companylist[301.p~508.p].xlsx')\n",
    "company_list3 = pd.read_excel('vietnamese_companylist[p.509~808].xlsx')\n",
    "company_list4 = pd.read_excel('vietnamese_companylist[p.809~1108].xlsx')\n",
    "company_list5 = pd.read_excel('vietnamese_companylist[p.1109~1308].xlsx')\n",
    "company_list6 = pd.read_excel('vietnamese_companylist[p.1309~1508].xlsx')\n",
    "company_list7 = pd.read_excel('vietnamese_companylist[p.1509~1708].xlsx')\n",
    "company_list8 = pd.read_excel('vietnamese_companylist[p.1709~1908].xlsx')\n",
    "company_list9 = pd.read_excel('vietanmese_companylist[p.1909~2108].xlsx')\n",
    "company_list10 = pd.read_excel('vietanmese_companylist[p.2109~2308].xlsx')"
   ]
  },
  {
   "cell_type": "code",
   "execution_count": 20,
   "id": "6c3c7984",
   "metadata": {},
   "outputs": [],
   "source": [
    "integrated_result = pd.concat([company_list1,company_list2,company_list3,company_list4,company_list5,company_list6,company_list7,company_list8,company_list9,company_list10])"
   ]
  },
  {
   "cell_type": "code",
   "execution_count": 21,
   "id": "f3a652cb",
   "metadata": {},
   "outputs": [],
   "source": [
    "integrated_result['영문기업명']=integrated_result['영문기업명'].apply(lambda x : x.replace('Tên Tiếng Anh:',''))\n",
    "integrated_result['대표팩스전화번호']=integrated_result['대표팩스전화번호'].apply(lambda x : x.replace('Fax:',''))\n",
    "integrated_result['대표이메일']=integrated_result['대표이메일'].apply(lambda x : x.replace('Email:',''))\n",
    "integrated_result['기업홈페이지URL']=integrated_result['기업홈페이지URL'].apply(lambda x : x.replace('Website:',''))\n",
    "integrated_result['현지언어기업주소']=integrated_result['현지언어기업주소'].apply(lambda x : x.replace('Địa chỉ:',''))\n",
    "integrated_result['현지언어주요제품내용']=integrated_result['현지언어주요제품내용'].apply(lambda x : str(x))\n",
    "integrated_result['현지언어주요제품내용']=integrated_result['현지언어주요제품내용'].apply(lambda x : x.replace('Lĩnh vực kinh doanh:',''))"
   ]
  },
  {
   "cell_type": "code",
   "execution_count": 27,
   "id": "40616015",
   "metadata": {},
   "outputs": [
    {
     "data": {
      "text/html": [
       "<div>\n",
       "<style scoped>\n",
       "    .dataframe tbody tr th:only-of-type {\n",
       "        vertical-align: middle;\n",
       "    }\n",
       "\n",
       "    .dataframe tbody tr th {\n",
       "        vertical-align: top;\n",
       "    }\n",
       "\n",
       "    .dataframe thead th {\n",
       "        text-align: right;\n",
       "    }\n",
       "</style>\n",
       "<table border=\"1\" class=\"dataframe\">\n",
       "  <thead>\n",
       "    <tr style=\"text-align: right;\">\n",
       "      <th></th>\n",
       "      <th>현지언어기업명</th>\n",
       "      <th>영문기업명</th>\n",
       "      <th>기업대표전화번호</th>\n",
       "      <th>대표팩스전화번호</th>\n",
       "      <th>대표이메일</th>\n",
       "      <th>기업홈페이지URL</th>\n",
       "      <th>현지언어기업주소</th>\n",
       "      <th>현지언어주요제품내용</th>\n",
       "    </tr>\n",
       "  </thead>\n",
       "  <tbody>\n",
       "    <tr>\n",
       "      <th>3526</th>\n",
       "      <td>Công ty TNHH SHIJAR (Việt Nam)</td>\n",
       "      <td>SHIJAR (Việt Nam) company limited</td>\n",
       "      <td>Tên Tiếng Anh:SHIJAR (Việt Nam) company limited</td>\n",
       "      <td></td>\n",
       "      <td></td>\n",
       "      <td></td>\n",
       "      <td>Nguyễn Thái Bình, Phú Hoà - Thành phố Thủ Dầu ...</td>\n",
       "      <td>Sản xuất vật liệu xây dựng từ đất sét</td>\n",
       "    </tr>\n",
       "    <tr>\n",
       "      <th>3527</th>\n",
       "      <td>Công ty TNHH Lincoware International (Việt Nam...</td>\n",
       "      <td>Lincoware International ( Vietnam ) INC</td>\n",
       "      <td>Tên Tiếng Anh:Lincoware International ( Vietna...</td>\n",
       "      <td></td>\n",
       "      <td></td>\n",
       "      <td></td>\n",
       "      <td>ấp Phú lợi - xã Phú hoà - Thành phố Thủ Dầu Mộ...</td>\n",
       "      <td>Sản xuất khác chưa được phân vào đâu</td>\n",
       "    </tr>\n",
       "    <tr>\n",
       "      <th>3528</th>\n",
       "      <td>Công Ty TNHH VISION VINA</td>\n",
       "      <td>VISION VINA corporation</td>\n",
       "      <td>Tên Tiếng Anh:VISION VINA corporation</td>\n",
       "      <td></td>\n",
       "      <td></td>\n",
       "      <td></td>\n",
       "      <td>KP An Thành, Phường Thái Hòa - Thị xã  Tân Uyê...</td>\n",
       "      <td>Sản xuất vali, túi xách và các loại tương tự, ...</td>\n",
       "    </tr>\n",
       "    <tr>\n",
       "      <th>3529</th>\n",
       "      <td>Công ty TNHH CAPTOPIA VIệT NAM</td>\n",
       "      <td>CAPTOPIA VIET NAMCo, Ltd</td>\n",
       "      <td>Tên Tiếng Anh:CAPTOPIA VIET NAMCo, Ltd</td>\n",
       "      <td></td>\n",
       "      <td></td>\n",
       "      <td></td>\n",
       "      <td>Đường 30/4 - Phú Thọ - Thành phố Thủ Dầu Một -...</td>\n",
       "      <td>May trang phục (trừ trang phục từ da lông thú)</td>\n",
       "    </tr>\n",
       "    <tr>\n",
       "      <th>3530</th>\n",
       "      <td>Công ty TNHH Sản Xuất Phụ Tùng Xe Gắn Máy YING FA</td>\n",
       "      <td>YINGFA DEVELOPING ENTERPRISE CO.,LTD</td>\n",
       "      <td>Tên Tiếng Anh:YINGFA DEVELOPING ENTERPRISE CO....</td>\n",
       "      <td></td>\n",
       "      <td></td>\n",
       "      <td></td>\n",
       "      <td>39/12 KP Bình Phước A, Phường Bình Chuẩn - TX ...</td>\n",
       "      <td>Sản xuất phụ tùng và bộ phận phụ trợ cho xe có...</td>\n",
       "    </tr>\n",
       "  </tbody>\n",
       "</table>\n",
       "</div>"
      ],
      "text/plain": [
       "                                                현지언어기업명  \\\n",
       "3526                     Công ty TNHH SHIJAR (Việt Nam)   \n",
       "3527  Công ty TNHH Lincoware International (Việt Nam...   \n",
       "3528                           Công Ty TNHH VISION VINA   \n",
       "3529                     Công ty TNHH CAPTOPIA VIệT NAM   \n",
       "3530  Công ty TNHH Sản Xuất Phụ Tùng Xe Gắn Máy YING FA   \n",
       "\n",
       "                                        영문기업명  \\\n",
       "3526        SHIJAR (Việt Nam) company limited   \n",
       "3527  Lincoware International ( Vietnam ) INC   \n",
       "3528                  VISION VINA corporation   \n",
       "3529                 CAPTOPIA VIET NAMCo, Ltd   \n",
       "3530     YINGFA DEVELOPING ENTERPRISE CO.,LTD   \n",
       "\n",
       "                                               기업대표전화번호 대표팩스전화번호 대표이메일  \\\n",
       "3526    Tên Tiếng Anh:SHIJAR (Việt Nam) company limited                  \n",
       "3527  Tên Tiếng Anh:Lincoware International ( Vietna...                  \n",
       "3528              Tên Tiếng Anh:VISION VINA corporation                  \n",
       "3529             Tên Tiếng Anh:CAPTOPIA VIET NAMCo, Ltd                  \n",
       "3530  Tên Tiếng Anh:YINGFA DEVELOPING ENTERPRISE CO....                  \n",
       "\n",
       "     기업홈페이지URL                                           현지언어기업주소  \\\n",
       "3526            Nguyễn Thái Bình, Phú Hoà - Thành phố Thủ Dầu ...   \n",
       "3527            ấp Phú lợi - xã Phú hoà - Thành phố Thủ Dầu Mộ...   \n",
       "3528            KP An Thành, Phường Thái Hòa - Thị xã  Tân Uyê...   \n",
       "3529            Đường 30/4 - Phú Thọ - Thành phố Thủ Dầu Một -...   \n",
       "3530            39/12 KP Bình Phước A, Phường Bình Chuẩn - TX ...   \n",
       "\n",
       "                                             현지언어주요제품내용  \n",
       "3526              Sản xuất vật liệu xây dựng từ đất sét  \n",
       "3527               Sản xuất khác chưa được phân vào đâu  \n",
       "3528  Sản xuất vali, túi xách và các loại tương tự, ...  \n",
       "3529     May trang phục (trừ trang phục từ da lông thú)  \n",
       "3530  Sản xuất phụ tùng và bộ phận phụ trợ cho xe có...  "
      ]
     },
     "execution_count": 27,
     "metadata": {},
     "output_type": "execute_result"
    }
   ],
   "source": [
    "integrated_result.tail()"
   ]
  },
  {
   "cell_type": "code",
   "execution_count": 11,
   "id": "2966e241",
   "metadata": {},
   "outputs": [],
   "source": [
    "신영국4 = pd.read_excel('신영국4.xlsx')"
   ]
  },
  {
   "cell_type": "code",
   "execution_count": 29,
   "id": "8b713330",
   "metadata": {},
   "outputs": [],
   "source": [
    "베트남제출 = pd.DataFrame(columns = 신영국4.columns)"
   ]
  },
  {
   "cell_type": "code",
   "execution_count": 31,
   "id": "be7b45ef",
   "metadata": {},
   "outputs": [
    {
     "data": {
      "text/plain": [
       "Index(['키값', '헤브론스타국가코드', '현지언어국가명', '영문국가명', '국가언어코드값', '현지언어언어명', '영문언어명',\n",
       "       '현지언어기업명', '영문기업명', '현지언어한줄소개내용', '현지언어기업소개내용', '영문한줄소개내용', '영문기업소개내용',\n",
       "       '현지언어대표이사명', '영문대표이사명', '기업대표전화번호', '대표팩스번호', '대표이메일', '기업홈페이지URL',\n",
       "       '페이스북URL', '인스타그램URL', '유튜브URL', '링크드인URL', '현지언어담당자명', '영문담당자명',\n",
       "       '현지언어직위명', '영문직위명', '담당자부서명', '기업담당자전화번호', '담당자이메일', '담당자팩스번호',\n",
       "       '기업담당자이동전화번호', '현지언어기업주소', '현지언어기업상세주소', '영문기업주소', '영문기업상세주소', '기업우편번호',\n",
       "       '현지언어산업군명', '영문산업군명', '현지언어주요제품내용', '영문주요제품내용', '설립일자', '기업종업원값',\n",
       "       '외감법인구분값', '매출년도값', '매출액값', '기본화폐키값', '화폐단위명', '주식시장코드', '현지언어주식시장명',\n",
       "       '영문주식시장명', '상장코드', '상장일자', '기업추가정보값', '작업구분코드', '데이터생성일자', '연계처리상태코드',\n",
       "       '연계처리일자'],\n",
       "      dtype='object')"
      ]
     },
     "execution_count": 31,
     "metadata": {},
     "output_type": "execute_result"
    }
   ],
   "source": [
    "베트남제출.columns"
   ]
  },
  {
   "cell_type": "code",
   "execution_count": 32,
   "id": "6b1545ce",
   "metadata": {},
   "outputs": [],
   "source": [
    "# 제출 포맷으로 맞추기 \n",
    "베트남제출['현지언어기업명'] = integrated_result['현지언어기업명']\n",
    "베트남제출['영문기업명'] = integrated_result['영문기업명']\n",
    "베트남제출['헤브론스타국가코드'] = 'Vietnam'\n",
    "베트남제출['영문국가명'] = 'Vietnam'\n",
    "베트남제출['현지언어기업주소'] = integrated_result['현지언어기업주소']\n",
    "베트남제출['기업홈페이지URL'] = integrated_result['기업홈페이지URL']\n",
    "베트남제출['대표팩스번호'] = integrated_result['대표팩스전화번호']\n",
    "베트남제출['현지언어주요제품내용'] = integrated_result['현지언어주요제품내용']"
   ]
  },
  {
   "cell_type": "code",
   "execution_count": 34,
   "id": "5c1703d0",
   "metadata": {},
   "outputs": [],
   "source": [
    "베트남제출['키값'] = 베트남제출.index+1"
   ]
  },
  {
   "cell_type": "code",
   "execution_count": 36,
   "id": "74724618",
   "metadata": {},
   "outputs": [],
   "source": [
    "베트남제출.to_excel('베트남제출.xlsx', index = False)"
   ]
  },
  {
   "cell_type": "code",
   "execution_count": null,
   "id": "567d2994",
   "metadata": {},
   "outputs": [],
   "source": []
  }
 ],
 "metadata": {
  "kernelspec": {
   "display_name": "codingNJ",
   "language": "python",
   "name": "codingnj"
  },
  "language_info": {
   "codemirror_mode": {
    "name": "ipython",
    "version": 3
   },
   "file_extension": ".py",
   "mimetype": "text/x-python",
   "name": "python",
   "nbconvert_exporter": "python",
   "pygments_lexer": "ipython3",
   "version": "3.9.7"
  }
 },
 "nbformat": 4,
 "nbformat_minor": 5
}
