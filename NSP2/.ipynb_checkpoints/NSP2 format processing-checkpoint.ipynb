{
 "cells": [
  {
   "cell_type": "code",
   "execution_count": 63,
   "id": "93c5ba95",
   "metadata": {},
   "outputs": [],
   "source": [
    "import pandas as pd\n",
    "import os"
   ]
  },
  {
   "cell_type": "code",
   "execution_count": 127,
   "id": "fd30c49e",
   "metadata": {},
   "outputs": [
    {
     "data": {
      "text/plain": [
       "'C:\\\\Users\\\\user\\\\codes\\\\NSP2'"
      ]
     },
     "execution_count": 127,
     "metadata": {},
     "output_type": "execute_result"
    }
   ],
   "source": [
    "os.getcwd()"
   ]
  },
  {
   "cell_type": "code",
   "execution_count": 114,
   "id": "749547f6",
   "metadata": {},
   "outputs": [],
   "source": [
    "대응표주소 = r'C:\\Users\\user\\codes\\NSP2\\대응표.xlsx'"
   ]
  },
  {
   "cell_type": "code",
   "execution_count": 115,
   "id": "a24faa7c",
   "metadata": {},
   "outputs": [],
   "source": [
    "대응표 = pd.read_excel(대응표주소, index_col = 0 )"
   ]
  },
  {
   "cell_type": "code",
   "execution_count": 116,
   "id": "642143ea",
   "metadata": {},
   "outputs": [],
   "source": [
    "processed_df = pd.DataFrame(columns = [element for element in 대응표['기준']])"
   ]
  },
  {
   "cell_type": "code",
   "execution_count": 117,
   "id": "35963665",
   "metadata": {},
   "outputs": [],
   "source": [
    "original = pd.read_excel(r'G:\\공유 드라이브\\HBS_DRN\\1_최종 클린징데이터\\해외기업 일반정보\\1_1_한국\\한국_1.xlsx')"
   ]
  },
  {
   "cell_type": "markdown",
   "id": "23cbcb89",
   "metadata": {},
   "source": [
    "기준 column들을 '대응컬럼'에서 가져온다. "
   ]
  },
  {
   "cell_type": "code",
   "execution_count": 118,
   "id": "b647903a",
   "metadata": {},
   "outputs": [],
   "source": [
    "# 대응표의 '대응컬럼'으로 먼저 채울수 있는 정보를 채워 넣는다. \n",
    "for target_col in 대응표['기준'] : \n",
    "    try : \n",
    "        processed_df[target_col] = original[대응표.loc[target_col,'대응컬럼']]\n",
    "        \n",
    "    except KeyError : \n",
    "        pass"
   ]
  },
  {
   "cell_type": "markdown",
   "id": "995ad370",
   "metadata": {},
   "source": [
    "### 비어있는 name_eng 채우기\n",
    "- 영어이름이 없는 row에서 'name'을 조회하여 copy&paste. "
   ]
  },
  {
   "cell_type": "code",
   "execution_count": 119,
   "id": "8ac3b00c",
   "metadata": {
    "scrolled": true
   },
   "outputs": [],
   "source": [
    "# 영어이름이 없는 row에서 'name'을 조회하여 copy&paste. \n",
    "processed_df.loc[processed_df['name_eng'].isna(), 'name_eng'] = processed_df.loc[processed_df['name_eng'].isna(), 'name']"
   ]
  },
  {
   "cell_type": "markdown",
   "id": "9e432557",
   "metadata": {},
   "source": [
    "### 비어있는 product 채우기 : '현지언어주요제품내용'으로 먼저 채우고, 비어있는 경우 \n",
    "1. '영문주요제품내용' 이 있으면 그것으로 채워넣기\n",
    "2. '현지언어산업군명' 이 있으면 그것으로 채워넣기\n",
    "3. '영문산업군명'이 있으면 그것으로 채워넣기 "
   ]
  },
  {
   "cell_type": "code",
   "execution_count": 120,
   "id": "c258e2be",
   "metadata": {},
   "outputs": [],
   "source": [
    "# product이 없는 row에서 '대안_영문주요제품내용'을 조회하여 copy&paste. \n",
    "processed_df.loc[processed_df['product'].isna(), 'product'] = processed_df.loc[processed_df['product'].isna(), '대안_영문주요제품내용']\n",
    "\n",
    "# product이이 없는 row에서 '대안_현지언어산업군명'을 조회하여 copy&paste. \n",
    "processed_df.loc[processed_df['product'].isna(), 'product'] = processed_df.loc[processed_df['product'].isna(), '대안_현지언어산업군명']\n",
    "\n",
    "# product이이 없는 row에서 '대안_영문산업군명'을 조회하여 copy&paste. \n",
    "processed_df.loc[processed_df['product'].isna(), 'product'] = processed_df.loc[processed_df['product'].isna(), '대안_영문산업군명']"
   ]
  },
  {
   "cell_type": "markdown",
   "id": "4158b8a5",
   "metadata": {},
   "source": [
    "### 비어있는 'ceo' 채우기 \n",
    "'현지언어대표이사명'으로 먼저 채우고, 비어있는 경우\n",
    "- '영문대표이사명' 이 있으면 그것으로 채워넣는다."
   ]
  },
  {
   "cell_type": "code",
   "execution_count": 121,
   "id": "84e0974f",
   "metadata": {
    "scrolled": true
   },
   "outputs": [],
   "source": [
    "# ceo가 없는 row에서 '영문대표이사명'을 조회하여 copy&paste. \n",
    "processed_df.loc[processed_df['ceo_name'].isna(), 'ceo_name'] = processed_df.loc[processed_df['ceo_name'].isna(), '대안_영문대표이사명']"
   ]
  },
  {
   "cell_type": "markdown",
   "id": "8fffdcb4",
   "metadata": {},
   "source": [
    "### 비어있는 address1 채우기\n",
    "'현지언어기업주소'로 먼저 채우고, 비어있는 경우 \n",
    "- 영문기업주소로 채워넣는다. "
   ]
  },
  {
   "cell_type": "code",
   "execution_count": 122,
   "id": "d1a8e3fd",
   "metadata": {},
   "outputs": [],
   "source": [
    "# 현지언어주요제품내용이 없는 row에서 '영문기업주소'을 조회하여 copy&paste. \n",
    "processed_df.loc[processed_df['address1'].isna(), 'address1'] = processed_df.loc[processed_df['address1'].isna(), '대안_영문기업주소']"
   ]
  },
  {
   "cell_type": "markdown",
   "id": "39c348d9",
   "metadata": {},
   "source": [
    "### 비어있는 address2 채우기 \n",
    "'현지언어기업상세주소'로 먼저채우고, 비어있는 경우 \n",
    "- 영문기업상세주소로 채워넣는다. "
   ]
  },
  {
   "cell_type": "code",
   "execution_count": 123,
   "id": "eca7c0a6",
   "metadata": {},
   "outputs": [],
   "source": [
    "# 현지언어주요제품내용이 없는 row에서 '영문기업주소'을 조회하여 copy&paste. \n",
    "processed_df.loc[processed_df['address2'].isna(), 'address2'] = processed_df.loc[processed_df['address2'].isna(), '대안_영문기업상세주소']"
   ]
  },
  {
   "cell_type": "code",
   "execution_count": null,
   "id": "c752d89d",
   "metadata": {},
   "outputs": [],
   "source": []
  },
  {
   "cell_type": "markdown",
   "id": "df1a1aa0",
   "metadata": {},
   "source": [
    "### 비어있는 description_short 채우기\n",
    "'현지언어기업상세주소'로 먼저채우고, 비어있는 경우 \n",
    "1. 영문기업상세주소로 채워넣는다. "
   ]
  },
  {
   "cell_type": "code",
   "execution_count": 124,
   "id": "dfe9476f",
   "metadata": {},
   "outputs": [],
   "source": [
    "processed_df.loc[processed_df['description_short'].isna(), 'description_short'] = processed_df.loc[processed_df['description_short'].isna(), 'name'] +\"은(는) \"+ processed_df.loc[processed_df['description_short'].isna(), 'nation_id'] + \"에 소재를 둔 기업입니다.  주요 판매 품목은 \" +processed_df.loc[processed_df['description_short'].isna(), 'product'] + \"입니다.\""
   ]
  },
  {
   "cell_type": "markdown",
   "id": "1c549c5c",
   "metadata": {},
   "source": [
    "### 비어있는 description 채우기\n",
    "'현지언어기업상세주소'로 먼저채우고, 비어있는 경우 \n",
    "1. 영문기업상세주소로 채워넣는다. "
   ]
  },
  {
   "cell_type": "code",
   "execution_count": 125,
   "id": "cfe7b18a",
   "metadata": {},
   "outputs": [],
   "source": [
    "processed_df.loc[processed_df['description'].isna(), 'description'] = processed_df.loc[processed_df['description'].isna(), 'name'] +\"은(는) \"+ processed_df.loc[processed_df['description'].isna(), 'nation_id'] + \"에 소재를 둔 기업입니다.  주요 판매 품목은 \" +processed_df.loc[processed_df['description'].isna(), 'product'] + \"입니다. 현재 기업의 대표는 \" + processed_df.loc[processed_df['description'].isna(), 'ceo_name'] + \"씨 이며\" + processed_df.loc[processed_df['description'].isna(), 'tel'] + \" 을 통해 연락하실 수 있습니다.\""
   ]
  },
  {
   "cell_type": "code",
   "execution_count": 126,
   "id": "1448469d",
   "metadata": {},
   "outputs": [],
   "source": [
    "processed_df.to_excel('desc3.xlsx')"
   ]
  },
  {
   "cell_type": "code",
   "execution_count": 128,
   "id": "19791785",
   "metadata": {},
   "outputs": [
    {
     "data": {
      "text/plain": [
       "0                                                       NaN\n",
       "1                                                       NaN\n",
       "2                                                       NaN\n",
       "3         금부전자통신(주)은(는) KOR에 소재를 둔 기업입니다.  주요 판매 품목은 통신공...\n",
       "4         (주)진용은(는) KOR에 소재를 둔 기업입니다.  주요 판매 품목은 토공사,석공사...\n",
       "                                ...                        \n",
       "224282                                                  NaN\n",
       "224283    (주)제일케미칼은(는) KOR에 소재를 둔 기업입니다.  주요 판매 품목은 미장방수...\n",
       "224284    (주)충북산업환경은(는) KOR에 소재를 둔 기업입니다.  주요 판매 품목은 작업환...\n",
       "224285    우림토건(주)은(는) KOR에 소재를 둔 기업입니다.  주요 판매 품목은 토공사업입...\n",
       "224286    (주)태영공조은(는) KOR에 소재를 둔 기업입니다.  주요 판매 품목은 냉난방기 ...\n",
       "Name: description, Length: 224287, dtype: object"
      ]
     },
     "execution_count": 128,
     "metadata": {},
     "output_type": "execute_result"
    }
   ],
   "source": [
    "processed_df['description']"
   ]
  },
  {
   "cell_type": "code",
   "execution_count": null,
   "id": "5911e9a4",
   "metadata": {},
   "outputs": [],
   "source": []
  }
 ],
 "metadata": {
  "kernelspec": {
   "display_name": "codingNJ",
   "language": "python",
   "name": "codingnj"
  },
  "language_info": {
   "codemirror_mode": {
    "name": "ipython",
    "version": 3
   },
   "file_extension": ".py",
   "mimetype": "text/x-python",
   "name": "python",
   "nbconvert_exporter": "python",
   "pygments_lexer": "ipython3",
   "version": "3.9.7"
  }
 },
 "nbformat": 4,
 "nbformat_minor": 5
}
