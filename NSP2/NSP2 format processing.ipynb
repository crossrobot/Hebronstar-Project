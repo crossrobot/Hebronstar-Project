{
 "cells": [
  {
   "cell_type": "code",
   "execution_count": 151,
   "id": "93c5ba95",
   "metadata": {},
   "outputs": [],
   "source": [
    "import pandas as pd\n",
    "import os"
   ]
  },
  {
   "cell_type": "code",
   "execution_count": 211,
   "id": "02ca1c9a",
   "metadata": {},
   "outputs": [
    {
     "data": {
      "text/plain": [
       "'C:\\\\Users\\\\user\\\\codes\\\\NSP2'"
      ]
     },
     "execution_count": 211,
     "metadata": {},
     "output_type": "execute_result"
    }
   ],
   "source": [
    "os.getcwd()"
   ]
  },
  {
   "cell_type": "code",
   "execution_count": 218,
   "id": "749547f6",
   "metadata": {},
   "outputs": [],
   "source": [
    "대응표주소 = r'C:\\Users\\user\\codes\\NSP2\\대응표.xlsx'"
   ]
  },
  {
   "cell_type": "code",
   "execution_count": 219,
   "id": "a24faa7c",
   "metadata": {},
   "outputs": [],
   "source": [
    "대응표 = pd.read_excel(대응표주소, index_col = 0 )"
   ]
  },
  {
   "cell_type": "code",
   "execution_count": 221,
   "id": "eecccc39",
   "metadata": {},
   "outputs": [],
   "source": [
    "original_sources= ['G:/공유 드라이브/HBS_DRN/1_최종 클린징데이터/해외기업 일반정보/2_1_말레이시아/말레이시아.xlsx',\n",
    " 'G:/공유 드라이브/HBS_DRN/1_최종 클린징데이터/해외기업 일반정보/2_2_싱가포르/싱가포르.xlsx',\n",
    " 'G:/공유 드라이브/HBS_DRN/1_최종 클린징데이터/해외기업 일반정보/2_3_태국/태국_1.xlsx',\n",
    " 'G:/공유 드라이브/HBS_DRN/1_최종 클린징데이터/해외기업 일반정보/2_4_베트남/베트남_v0.1.xlsx',\n",
    " 'G:/공유 드라이브/HBS_DRN/1_최종 클린징데이터/해외기업 일반정보/2_4_베트남/베트남_v0.1.xlsx',\n",
    " 'G:/공유 드라이브/HBS_DRN/1_최종 클린징데이터/해외기업 일반정보/2_5_인도네시아/인도네시아 .xlsx',\n",
    " 'G:/공유 드라이브/HBS_DRN/1_최종 클린징데이터/해외기업 일반정보/2_6_인도/인도.xlsx',\n",
    " 'G:/공유 드라이브/HBS_DRN/1_최종 클린징데이터/해외기업 일반정보/1_1_한국/한국_1.xlsx',\n",
    " 'G:/공유 드라이브/HBS_DRN/1_최종 클린징데이터/해외기업 일반정보/1_2_일본/일본_1.xlsx',\n",
    " 'G:/공유 드라이브/HBS_DRN/1_최종 클린징데이터/해외기업 일반정보/1_2_일본/일본_2.xlsx',\n",
    " 'G:/공유 드라이브/HBS_DRN/1_최종 클린징데이터/해외기업 일반정보/1_2_일본/일본_3.xlsx',\n",
    " 'G:/공유 드라이브/HBS_DRN/1_최종 클린징데이터/해외기업 일반정보/1_3_홍콩/홍콩_1.xlsx',\n",
    " 'G:/공유 드라이브/HBS_DRN/1_최종 클린징데이터/해외기업 일반정보/3_1_미국/미국_1.xlsx',\n",
    " 'G:/공유 드라이브/HBS_DRN/1_최종 클린징데이터/해외기업 일반정보/3_1_미국/미국_2.xlsx',\n",
    " 'G:/공유 드라이브/HBS_DRN/1_최종 클린징데이터/해외기업 일반정보/3_1_미국/미국_3.xlsx',\n",
    " 'G:/공유 드라이브/HBS_DRN/1_최종 클린징데이터/해외기업 일반정보/3_1_미국/미국_4.xlsx',\n",
    " 'G:/공유 드라이브/HBS_DRN/1_최종 클린징데이터/해외기업 일반정보/3_1_미국/미국_5.xlsx',\n",
    " 'G:/공유 드라이브/HBS_DRN/1_최종 클린징데이터/해외기업 일반정보/3_1_미국/미국_6.xlsx',\n",
    " 'G:/공유 드라이브/HBS_DRN/1_최종 클린징데이터/해외기업 일반정보/3_1_미국/미국_7.xlsx',\n",
    " 'G:/공유 드라이브/HBS_DRN/1_최종 클린징데이터/해외기업 일반정보/3_1_미국/미국_4_V2.xlsx',\n",
    " 'G:/공유 드라이브/HBS_DRN/1_최종 클린징데이터/해외기업 일반정보/3_2_캐나다/캐나다.xlsx',\n",
    " 'G:/공유 드라이브/HBS_DRN/1_최종 클린징데이터/해외기업 일반정보/3_3_콜롬비아/콜롬비아1.xlsx',\n",
    " 'G:/공유 드라이브/HBS_DRN/1_최종 클린징데이터/해외기업 일반정보/3_3_콜롬비아/콜롬비아2.xlsx',\n",
    " 'G:/공유 드라이브/HBS_DRN/1_최종 클린징데이터/해외기업 일반정보/3_3_콜롬비아/콜롬비아3.xlsx',\n",
    " 'G:/공유 드라이브/HBS_DRN/1_최종 클린징데이터/해외기업 일반정보/3_4_멕시코/멕시코.xlsx',\n",
    " 'G:/공유 드라이브/HBS_DRN/1_최종 클린징데이터/해외기업 일반정보/4_1_네덜란드/네덜란드.xlsx',\n",
    " 'G:/공유 드라이브/HBS_DRN/1_최종 클린징데이터/해외기업 일반정보/4_2_독일/독일.xlsx',\n",
    " 'G:/공유 드라이브/HBS_DRN/1_최종 클린징데이터/해외기업 일반정보/4_3_이탈리아/이탈리아_1.xlsx',\n",
    " 'G:/공유 드라이브/HBS_DRN/1_최종 클린징데이터/해외기업 일반정보/4_3_이탈리아/이탈리아_2.xlsx',\n",
    " 'G:/공유 드라이브/HBS_DRN/1_최종 클린징데이터/해외기업 일반정보/4_4_프랑스/프랑스1.xlsx',\n",
    " 'G:/공유 드라이브/HBS_DRN/1_최종 클린징데이터/해외기업 일반정보/4_4_프랑스/프랑스2.xlsx',\n",
    " 'G:/공유 드라이브/HBS_DRN/1_최종 클린징데이터/해외기업 일반정보/4_5_영국/영국1.xlsx',\n",
    " 'G:/공유 드라이브/HBS_DRN/1_최종 클린징데이터/해외기업 일반정보/4_5_영국/영국2.xlsx',\n",
    " 'G:/공유 드라이브/HBS_DRN/1_최종 클린징데이터/해외기업 일반정보/4_5_영국/영국3.xlsx',\n",
    " 'G:/공유 드라이브/HBS_DRN/1_최종 클린징데이터/해외기업 일반정보/4_6_호주/호주.xlsx',\n",
    " 'G:/공유 드라이브/HBS_DRN/1_최종 클린징데이터/해외기업 일반정보/4_7_스위스/스위스.xlsx',\n",
    " 'G:/공유 드라이브/HBS_DRN/1_최종 클린징데이터/해외기업 일반정보/4_8_스페인/스페인.xlsx']"
   ]
  },
  {
   "cell_type": "code",
   "execution_count": 222,
   "id": "53b59fc7",
   "metadata": {},
   "outputs": [],
   "source": [
    "save_address= ['말레이시아.xlsx',\n",
    " '싱가포르.xlsx',\n",
    " '태국_1.xlsx',\n",
    " '베트남_v0.1.xlsx',\n",
    " '베트남_v0.1.xlsx',\n",
    " '인도네시아 .xlsx',\n",
    " '인도.xlsx',\n",
    " '한국_1.xlsx',\n",
    " '일본_1.xlsx',\n",
    " '일본_2.xlsx',\n",
    " '일본_3.xlsx',\n",
    " '홍콩_1.xlsx',\n",
    " '미국_1.xlsx',\n",
    " '미국_2.xlsx',\n",
    " '미국_3.xlsx',\n",
    " '미국_4.xlsx',\n",
    " '미국_5.xlsx',\n",
    " '미국_6.xlsx',\n",
    " '미국_7.xlsx',\n",
    " '미국_4_V2.xlsx',\n",
    " '캐나다.xlsx',\n",
    " '콜롬비아1.xlsx',\n",
    " '콜롬비아2.xlsx',\n",
    " '콜롬비아3.xlsx',\n",
    " '멕시코.xlsx',\n",
    " '네덜란드.xlsx',\n",
    " '독일.xlsx',\n",
    " '이탈리아_1.xlsx',\n",
    " '이탈리아_2.xlsx',\n",
    " '프랑스1.xlsx',\n",
    " '프랑스2.xlsx',\n",
    " '영국1.xlsx',\n",
    " '영국2.xlsx',\n",
    " '영국3.xlsx',\n",
    " '호주.xlsx',\n",
    " '스위스.xlsx',\n",
    " '스페인.xlsx']"
   ]
  },
  {
   "cell_type": "code",
   "execution_count": 272,
   "id": "642143ea",
   "metadata": {},
   "outputs": [],
   "source": [
    "processed_df = pd.DataFrame(columns = [element for element in 대응표['기준']])"
   ]
  },
  {
   "cell_type": "code",
   "execution_count": 223,
   "id": "495bfc22",
   "metadata": {},
   "outputs": [],
   "source": [
    "original = pd.read_excel('G:/공유 드라이브/HBS_DRN/1_최종 클린징데이터/해외기업 일반정보/2_1_말레이시아/말레이시아.xlsx')"
   ]
  },
  {
   "cell_type": "markdown",
   "id": "23cbcb89",
   "metadata": {},
   "source": [
    "기준 column들을 '대응컬럼'에서 가져온다. "
   ]
  },
  {
   "cell_type": "code",
   "execution_count": 273,
   "id": "b647903a",
   "metadata": {},
   "outputs": [],
   "source": [
    "# 대응표의 '대응컬럼'으로 먼저 채울수 있는 정보를 채워 넣는다. \n",
    "for target_col in 대응표['기준'] : \n",
    "    try : \n",
    "        processed_df[target_col] = original[대응표.loc[target_col,'대응컬럼']]\n",
    "        \n",
    "    except KeyError : \n",
    "        pass"
   ]
  },
  {
   "cell_type": "markdown",
   "id": "995ad370",
   "metadata": {},
   "source": [
    "### 비어있는 name_eng 채우기\n",
    "- 영어이름이 없는 row에서 'name'을 조회하여 copy&paste. "
   ]
  },
  {
   "cell_type": "code",
   "execution_count": 274,
   "id": "8ac3b00c",
   "metadata": {
    "scrolled": true
   },
   "outputs": [],
   "source": [
    "# 영어이름이 없는 row에서 'name'을 조회하여 copy&paste. \n",
    "processed_df.loc[processed_df['name_eng'].isna(), 'name_eng'] = processed_df.loc[processed_df['name_eng'].isna(), 'name']"
   ]
  },
  {
   "cell_type": "markdown",
   "id": "9e432557",
   "metadata": {},
   "source": [
    "### 비어있는 product 채우기 : '현지언어주요제품내용'으로 먼저 채우고, 비어있는 경우 \n",
    "1. '영문주요제품내용' 이 있으면 그것으로 채워넣기\n",
    "2. '현지언어산업군명' 이 있으면 그것으로 채워넣기\n",
    "3. '영문산업군명'이 있으면 그것으로 채워넣기 "
   ]
  },
  {
   "cell_type": "code",
   "execution_count": 275,
   "id": "c258e2be",
   "metadata": {},
   "outputs": [],
   "source": [
    "# product이 없는 row에서 '대안_영문주요제품내용'을 조회하여 copy&paste. \n",
    "processed_df.loc[processed_df['product'].isna(), 'product'] = processed_df.loc[processed_df['product'].isna(), '대안_영문주요제품내용']\n",
    "\n",
    "# product이이 없는 row에서 '대안_현지언어산업군명'을 조회하여 copy&paste. \n",
    "processed_df.loc[processed_df['product'].isna(), 'product'] = processed_df.loc[processed_df['product'].isna(), '대안_현지언어산업군명']\n",
    "\n",
    "# product이이 없는 row에서 '대안_영문산업군명'을 조회하여 copy&paste. \n",
    "processed_df.loc[processed_df['product'].isna(), 'product'] = processed_df.loc[processed_df['product'].isna(), '대안_영문산업군명']"
   ]
  },
  {
   "cell_type": "markdown",
   "id": "4158b8a5",
   "metadata": {},
   "source": [
    "### 비어있는 'ceo' 채우기 \n",
    "'현지언어대표이사명'으로 먼저 채우고, 비어있는 경우\n",
    "- '영문대표이사명' 이 있으면 그것으로 채워넣는다."
   ]
  },
  {
   "cell_type": "code",
   "execution_count": 276,
   "id": "84e0974f",
   "metadata": {
    "scrolled": true
   },
   "outputs": [],
   "source": [
    "# ceo가 없는 row에서 '영문대표이사명'을 조회하여 copy&paste. \n",
    "processed_df.loc[processed_df['ceo_name'].isna(), 'ceo_name'] = processed_df.loc[processed_df['ceo_name'].isna(), '대안_영문대표이사명']"
   ]
  },
  {
   "cell_type": "markdown",
   "id": "8fffdcb4",
   "metadata": {},
   "source": [
    "### 비어있는 address1 채우기\n",
    "'현지언어기업주소'로 먼저 채우고, 비어있는 경우 \n",
    "- 영문기업주소로 채워넣는다. "
   ]
  },
  {
   "cell_type": "code",
   "execution_count": 277,
   "id": "d1a8e3fd",
   "metadata": {},
   "outputs": [],
   "source": [
    "# 현지언어주요제품내용이 없는 row에서 '영문기업주소'을 조회하여 copy&paste. \n",
    "processed_df.loc[processed_df['address1'].isna(), 'address1'] = processed_df.loc[processed_df['address1'].isna(), '대안_영문기업주소']"
   ]
  },
  {
   "cell_type": "markdown",
   "id": "39c348d9",
   "metadata": {},
   "source": [
    "### 비어있는 address2 채우기 \n",
    "'현지언어기업상세주소'로 먼저채우고, 비어있는 경우 \n",
    "- 영문기업상세주소로 채워넣는다. "
   ]
  },
  {
   "cell_type": "code",
   "execution_count": 278,
   "id": "eca7c0a6",
   "metadata": {},
   "outputs": [],
   "source": [
    "# 현지언어주요제품내용이 없는 row에서 '영문기업주소'을 조회하여 copy&paste. \n",
    "processed_df.loc[processed_df['address2'].isna(), 'address2'] = processed_df.loc[processed_df['address2'].isna(), '대안_영문기업상세주소']"
   ]
  },
  {
   "cell_type": "markdown",
   "id": "e49e46c8",
   "metadata": {},
   "source": [
    "### 국가코드 바꾸기\n",
    "국가코드 생성을 위한 딕셔너리 생성"
   ]
  },
  {
   "cell_type": "code",
   "execution_count": 279,
   "id": "ad435eb3",
   "metadata": {},
   "outputs": [],
   "source": [
    "nation_dictionary1 = {\"KOR\" : \"대한민국\", \"JPN\" : \"일본\",\"HKG\" : \"홍콩\", \"MYS\" : \"말레이시아\", \"SGP\" : \"싱가포르\", \"THA\" : '태국', \"VNM\" : \"베트남\", \"IDN\" : \"인도네시아\" ,\"IND\" : \"인도\", \"USA\" : \"미국\", \"CAN\" : \"캐나다\",\n",
    "             \"COL\" : \"콜롬비아\", \"MEX\" : \"멕시코\", \"NLD\" : \"네덜란드\", \"DEU\" : \"독일\", \"ITA\" : \"이탈리아\", \"GBR\" : \"영국\", \"AUS\" : \"호주\", \"CHE\" : \"스위스\", \"ESP\" : \"스페인\" }"
   ]
  },
  {
   "cell_type": "code",
   "execution_count": 286,
   "id": "4d317c4e",
   "metadata": {},
   "outputs": [
    {
     "data": {
      "text/plain": [
       "{'KOR': '대한민국',\n",
       " 'JPN': '일본',\n",
       " 'HKG': '홍콩',\n",
       " 'MYS': '말레이시아',\n",
       " 'SGP': '싱가포르',\n",
       " 'THA': '태국',\n",
       " 'VNM': '베트남',\n",
       " 'IDN': '인도네시아',\n",
       " 'IND': '인도',\n",
       " 'USA': '미국',\n",
       " 'CAN': '캐나다',\n",
       " 'COL': '콜롬비아',\n",
       " 'MEX': '멕시코',\n",
       " 'NLD': '네덜란드',\n",
       " 'DEU': '독일',\n",
       " 'ITA': '이탈리아',\n",
       " 'GBR': '영국',\n",
       " 'AUS': '호주',\n",
       " 'CHE': '스위스',\n",
       " 'ESP': '스페인'}"
      ]
     },
     "execution_count": 286,
     "metadata": {},
     "output_type": "execute_result"
    }
   ],
   "source": [
    "nation_dictionary1"
   ]
  },
  {
   "cell_type": "code",
   "execution_count": null,
   "id": "ed344618",
   "metadata": {},
   "outputs": [],
   "source": []
  },
  {
   "cell_type": "code",
   "execution_count": 280,
   "id": "9481f3b1",
   "metadata": {},
   "outputs": [],
   "source": [
    "processed_df['대안_nation_id'] = processed_df['nation_id'].apply(lambda x : nation_dictionary[x])"
   ]
  },
  {
   "cell_type": "markdown",
   "id": "df1a1aa0",
   "metadata": {},
   "source": [
    "### 비어있는 description_short 채우기\n",
    "description_short의 로직은 chris가 제안한대로, \n",
    "description_short가 없는 경우 {회사이름} 은(는) {국가명} 에 소재를 둔 기업입니다. 주요 판매품목은 {product} 입니다. "
   ]
  },
  {
   "cell_type": "code",
   "execution_count": 265,
   "id": "45bdae4c",
   "metadata": {},
   "outputs": [],
   "source": [
    "processed_df.loc[processed_df['description_short'].isna(), 'description_short'] = str(processed_df.loc[processed_df['description_short'].isna(), 'name']) +\"은(는)\"#+ processed_df.loc[processed_df['description_short'].isna(), '대안_nation_id'] #+ \"에 소재를 둔 기업입니다.  주요 판매 품목은 \" +processed_df.loc[processed_df['description_short'].isna(), 'product'] + \"입니다.\""
   ]
  },
  {
   "cell_type": "code",
   "execution_count": 285,
   "id": "f0664994",
   "metadata": {},
   "outputs": [
    {
     "ename": "SyntaxError",
     "evalue": "unmatched ')' (Temp/ipykernel_10368/1899037473.py, line 1)",
     "output_type": "error",
     "traceback": [
      "\u001b[1;36m  File \u001b[1;32m\"C:\\Users\\user\\AppData\\Local\\Temp/ipykernel_10368/1899037473.py\"\u001b[1;36m, line \u001b[1;32m1\u001b[0m\n\u001b[1;33m    processed_df.loc[processed_df['description_short'].isna(), 'name']) +\"은(는)\"\u001b[0m\n\u001b[1;37m                                                                      ^\u001b[0m\n\u001b[1;31mSyntaxError\u001b[0m\u001b[1;31m:\u001b[0m unmatched ')'\n"
     ]
    }
   ],
   "source": [
    "processed_df.loc[processed_df['description_short'].isna(), 'name']) +\"은(는)\""
   ]
  },
  {
   "cell_type": "markdown",
   "id": "2bfb85c2",
   "metadata": {},
   "source": [
    "### 비어있는 description 채우기\n",
    "description의 로직은 chris가 제안한대로, \n",
    "description가 없는 경우 {회사이름} 은(는) {국가명} 에 소재를 둔 기업입니다. 주요 판매품목은 {product} 입니다.현재 기업의 대표는 {ceo_name} 씨 이며 {tel}을 통해 연락하실 수 있습니다."
   ]
  },
  {
   "cell_type": "code",
   "execution_count": 179,
   "id": "cfe7b18a",
   "metadata": {},
   "outputs": [],
   "source": [
    "processed_df.loc[processed_df['description'].isna(), 'description'] = processed_df.loc[processed_df['description'].isna(), 'name'] +\"은(는) \"+ processed_df.loc[processed_df['description'].isna(), '대안_nation_id'] + \"에 소재를 둔 기업입니다.  주요 판매 품목은 \" +processed_df.loc[processed_df['description'].isna(), 'product'] + \"입니다. 현재 기업의 대표는 \" + processed_df.loc[processed_df['description'].isna(), 'ceo_name'] + \" 씨 이며\" + processed_df.loc[processed_df['description'].isna(), 'tel'] + \" 을 통해 연락하실 수 있습니다.\""
   ]
  },
  {
   "cell_type": "markdown",
   "id": "befdc270",
   "metadata": {},
   "source": [
    "위의 코드를 실행하면, tel이 없는 기업의 경우 description cell이 비워져서 나오게 된다. 이럴경우, descrioption_short를 copy&paste한다."
   ]
  },
  {
   "cell_type": "code",
   "execution_count": 180,
   "id": "71a61b51",
   "metadata": {},
   "outputs": [],
   "source": [
    "processed_df.loc[processed_df['description'].isna(), 'description'] = processed_df.loc[processed_df['description'].isna(), 'description_short']"
   ]
  },
  {
   "cell_type": "markdown",
   "id": "affe5f82",
   "metadata": {},
   "source": [
    "### 국가코드 바꾸기"
   ]
  },
  {
   "cell_type": "markdown",
   "id": "e57c2c43",
   "metadata": {},
   "source": [
    "국가코드 생성을 위한 딕셔너리 생성"
   ]
  },
  {
   "cell_type": "code",
   "execution_count": 181,
   "id": "f9c07d62",
   "metadata": {},
   "outputs": [],
   "source": [
    "nation_dictionary = {\"KOR\" : 1, \"JPN\" : 2,\"HKG\" : 3, \"MYS\" : 4, \"SGP\" : 5, \"THA\" : 6, \"VNM\" : 7, \"IDN\" :8 ,\"IND\" : 9, \"USA\" : 10, \"CAN\" : 11,\n",
    "             \"COL\" : 12, \"MEX\" : 13, \"NLD\" : 14, \"DEU\" : 15, \"ITA\" : 16, \"GBR\" : 17, \"AUS\" : 18, \"CHE\" : 19, \"ESP\" : 20 }"
   ]
  },
  {
   "cell_type": "code",
   "execution_count": 182,
   "id": "19990ab0",
   "metadata": {},
   "outputs": [],
   "source": [
    "processed_df['nation_id'] = processed_df['nation_id'].apply(lambda x : nation_dictionary[x])"
   ]
  },
  {
   "cell_type": "markdown",
   "id": "77b8cf98",
   "metadata": {},
   "source": [
    "### 기타 전처리들 "
   ]
  },
  {
   "cell_type": "code",
   "execution_count": 186,
   "id": "ba8ed8cc",
   "metadata": {},
   "outputs": [],
   "source": [
    "# 필요없는 열들 제거\n",
    "processed_df = processed_df.drop(['대안_영문한줄소개내용','대안_영문기업소개내용',\"대안_영문주요제품내용\",\"대안_영문대표이사명\",\"대안_영문산업군명\",\"대안_현지언어산업군명\",\"대안_영문기업주소\",\"대안_영문기업상세주소\", \"대안_nation_id\"],axis=1)\n",
    "#  industry_code 1로 채우기 \n",
    "processed_df['industry_id'] = 1\n",
    "# 생성날짜 채워 넣기. \n",
    "processed_df['created_at'] = '2022-05-20 00:10:00'\n",
    "processed_df['updated_at'] = '2022-05-20 00:10:00'"
   ]
  },
  {
   "cell_type": "markdown",
   "id": "0b7f2e20",
   "metadata": {},
   "source": [
    "### 저장"
   ]
  },
  {
   "cell_type": "code",
   "execution_count": 189,
   "id": "5d93703b",
   "metadata": {},
   "outputs": [],
   "source": [
    "processed_df.to_excel('')"
   ]
  },
  {
   "cell_type": "code",
   "execution_count": null,
   "id": "3cfdedab",
   "metadata": {},
   "outputs": [],
   "source": []
  },
  {
   "cell_type": "code",
   "execution_count": 192,
   "id": "6ad22977",
   "metadata": {},
   "outputs": [],
   "source": []
  },
  {
   "cell_type": "code",
   "execution_count": null,
   "id": "43b02d1d",
   "metadata": {},
   "outputs": [],
   "source": []
  }
 ],
 "metadata": {
  "kernelspec": {
   "display_name": "codingNJ",
   "language": "python",
   "name": "codingnj"
  },
  "language_info": {
   "codemirror_mode": {
    "name": "ipython",
    "version": 3
   },
   "file_extension": ".py",
   "mimetype": "text/x-python",
   "name": "python",
   "nbconvert_exporter": "python",
   "pygments_lexer": "ipython3",
   "version": "3.9.7"
  }
 },
 "nbformat": 4,
 "nbformat_minor": 5
}
