{
 "cells": [
  {
   "cell_type": "code",
   "execution_count": 1,
   "id": "0c928de0",
   "metadata": {},
   "outputs": [],
   "source": [
    "import numpy \n",
    "import pandas as pd\n",
    "import os \n",
    "import glob\n",
    "from tqdm import tqdm"
   ]
  },
  {
   "cell_type": "markdown",
   "id": "371e882f",
   "metadata": {},
   "source": [
    "# Task1 : 데이터 셋 200,000 건 씩 나누기"
   ]
  },
  {
   "cell_type": "code",
   "execution_count": 3,
   "id": "6d6d5f31",
   "metadata": {},
   "outputs": [
    {
     "data": {
      "text/plain": [
       "['G:\\\\공유 드라이브\\\\BDC\\\\태국일반정보추가\\\\원본\\\\Thailand_company_list_bangkok150.xlsx',\n",
       " 'G:\\\\공유 드라이브\\\\BDC\\\\태국일반정보추가\\\\원본\\\\Thailand_company_list_bangkok300.xlsx',\n",
       " 'G:\\\\공유 드라이브\\\\BDC\\\\태국일반정보추가\\\\원본\\\\Thailand_company_list_bangkok450.xlsx',\n",
       " 'G:\\\\공유 드라이브\\\\BDC\\\\태국일반정보추가\\\\원본\\\\Thailand_company_list_bangkok600.xlsx',\n",
       " 'G:\\\\공유 드라이브\\\\BDC\\\\태국일반정보추가\\\\원본\\\\Thailand_company_list_bangkok750.xlsx',\n",
       " 'G:\\\\공유 드라이브\\\\BDC\\\\태국일반정보추가\\\\원본\\\\Thailand_company_list_bangkok900.xlsx',\n",
       " 'G:\\\\공유 드라이브\\\\BDC\\\\태국일반정보추가\\\\원본\\\\Thailand_company_list_bangkok1050.xlsx',\n",
       " 'G:\\\\공유 드라이브\\\\BDC\\\\태국일반정보추가\\\\원본\\\\Thailand_company_list_bangkok1200.xlsx',\n",
       " 'G:\\\\공유 드라이브\\\\BDC\\\\태국일반정보추가\\\\원본\\\\Thailand_company_list_bangkok1350.xlsx',\n",
       " 'G:\\\\공유 드라이브\\\\BDC\\\\태국일반정보추가\\\\원본\\\\Thailand_company_list_bangkok1500.xlsx',\n",
       " 'G:\\\\공유 드라이브\\\\BDC\\\\태국일반정보추가\\\\원본\\\\Thailand_company_list_bangkok1650.xlsx',\n",
       " 'G:\\\\공유 드라이브\\\\BDC\\\\태국일반정보추가\\\\원본\\\\Thailand_company_list_bangkok1800.xlsx',\n",
       " 'G:\\\\공유 드라이브\\\\BDC\\\\태국일반정보추가\\\\원본\\\\Thailand_company_list_bangkok1950.xlsx',\n",
       " 'G:\\\\공유 드라이브\\\\BDC\\\\태국일반정보추가\\\\원본\\\\Thailand_company_list_bangkok2100.xlsx',\n",
       " 'G:\\\\공유 드라이브\\\\BDC\\\\태국일반정보추가\\\\원본\\\\Thailand_company_list_bangkok2250.xlsx',\n",
       " 'G:\\\\공유 드라이브\\\\BDC\\\\태국일반정보추가\\\\원본\\\\Thailand_company_list_bangkok2400.xlsx']"
      ]
     },
     "execution_count": 3,
     "metadata": {},
     "output_type": "execute_result"
    }
   ],
   "source": [
    "glob.glob('G:\\\\공유 드라이브\\\\BDC\\\\태국일반정보추가\\\\원본\\\\*.xlsx')"
   ]
  },
  {
   "cell_type": "code",
   "execution_count": 4,
   "id": "45c3f219",
   "metadata": {},
   "outputs": [],
   "source": [
    "os.chdir('G:\\\\공유 드라이브\\\\BDC\\\\태국일반정보추가\\\\원본')"
   ]
  },
  {
   "cell_type": "code",
   "execution_count": 5,
   "id": "ed1a15e0",
   "metadata": {},
   "outputs": [
    {
     "data": {
      "text/plain": [
       "['Thailand_company_list_bangkok150.xlsx',\n",
       " 'Thailand_company_list_bangkok300.xlsx',\n",
       " 'Thailand_company_list_bangkok450.xlsx',\n",
       " 'Thailand_company_list_bangkok600.xlsx',\n",
       " 'Thailand_company_list_bangkok750.xlsx',\n",
       " 'Thailand_company_list_bangkok900.xlsx',\n",
       " 'Thailand_company_list_bangkok1050.xlsx',\n",
       " 'Thailand_company_list_bangkok1200.xlsx',\n",
       " 'Thailand_company_list_bangkok1350.xlsx',\n",
       " 'Thailand_company_list_bangkok1500.xlsx',\n",
       " 'Thailand_company_list_bangkok1650.xlsx',\n",
       " 'Thailand_company_list_bangkok1800.xlsx',\n",
       " 'Thailand_company_list_bangkok1950.xlsx',\n",
       " 'Thailand_company_list_bangkok2100.xlsx',\n",
       " 'Thailand_company_list_bangkok2250.xlsx',\n",
       " 'Thailand_company_list_bangkok2400.xlsx']"
      ]
     },
     "execution_count": 5,
     "metadata": {},
     "output_type": "execute_result"
    }
   ],
   "source": [
    "os.listdir()"
   ]
  },
  {
   "cell_type": "code",
   "execution_count": 6,
   "id": "803e0485",
   "metadata": {},
   "outputs": [
    {
     "name": "stderr",
     "output_type": "stream",
     "text": [
      "100%|██████████████████████████████████████████████████████████████████████████████████| 16/16 [00:10<00:00,  1.52it/s]\n"
     ]
    }
   ],
   "source": [
    "residual_df = pd.DataFrame()\n",
    "\n",
    "for file in tqdm(os.listdir()) : \n",
    "    \n",
    "    #df1은 가지고 오는 데이터\n",
    "    df1 = pd.read_excel(file) \n",
    "    \n",
    "    len_data = len(df1)\n",
    "    \n",
    "    if len_data > 200000 : \n",
    "        \n",
    "        # 데이터 길이 계산 \n",
    "        몫, 나머지 = divmod(len_data, 200000)\n",
    "        \n",
    "        for i in tqdm(range(몫)) : \n",
    "            df200000 = df1.iloc[200000*i:200000*(i+1)]\n",
    "            df200000.to_excel('G:\\\\공유 드라이브\\\\BDC\\\\태국일반정보추가\\\\전처리\\\\'+str(file)[:-5]+'_'+str(i)+'.xlsx', index = False)\n",
    "            \n",
    "        residual_df = residual_df.append(df1.iloc[200000*몫: ], ignore_index=True) \n",
    "        \n",
    "        # 램 용량 확보를 위해 \n",
    "        del df1\n",
    "        del df200000\n",
    "        \n",
    "        len_residual = len(residual_df)\n",
    "            \n",
    "        if len_residual > 200000 : \n",
    "            # residual_df 길이 계산 \n",
    "            몫_resid, 나머지_resid = divmod(len_residual, 200000)\n",
    "\n",
    "            # residual이 많은 경우, 저장해야 한다. \n",
    "\n",
    "            for j in tqdm(range(몫_resid)) : \n",
    "                df200000_resid = residual_df.iloc[200000*j:200000*(j+1)]\n",
    "                df200000_resid.to_excel('G:\\\\공유 드라이브\\\\BDC\\\\태국일반정보추가\\\\전처리\\\\'+str(file)[:-5]+'_'+'resid'+'.xlsx', index = False)\n",
    "\n",
    "            residual_df.drop(range(몫_resid*200000), inplace = True)\n",
    "                \n",
    "                \n",
    "            \n",
    "\n",
    "    if len_data < 200000 : \n",
    "        residual_df = residual_df.append(df1, ignore_index = True)\n",
    "            \n",
    "            "
   ]
  },
  {
   "cell_type": "code",
   "execution_count": 12,
   "id": "e71d2f3f",
   "metadata": {},
   "outputs": [
    {
     "name": "stderr",
     "output_type": "stream",
     "text": [
      "100%|████████████████████████████████████████████████████████████████████████████████████| 1/1 [00:58<00:00, 58.34s/it]\n"
     ]
    }
   ],
   "source": [
    "len_residual = len(residual_df)\n",
    "\n",
    "if len_residual > 200000 : \n",
    "            # residual_df 길이 계산 \n",
    "            몫_resid, 나머지_resid = divmod(len_residual, 200000)\n",
    "\n",
    "            # residual이 많은 경우, 저장해야 한다. \n",
    "\n",
    "            for j in tqdm(range(몫_resid)) : \n",
    "                df200000_resid = residual_df.iloc[200000*j:200000*(j+1)]\n",
    "                df200000_resid.to_excel('G:\\\\공유 드라이브\\\\BDC\\\\말레이시아기업일반정보추가\\\\전처리\\\\'+str(file)[:-5]+'_'+'resid'+'.xlsx', index = False)\n",
    "\n",
    "            residual_df.drop(range(몫_resid*200000), inplace = True)"
   ]
  },
  {
   "cell_type": "code",
   "execution_count": 7,
   "id": "39959c74",
   "metadata": {},
   "outputs": [],
   "source": [
    "residual_df.to_excel('G:\\\\공유 드라이브\\\\BDC\\\\태국일반정보추가\\\\전처리\\\\'+'통합'+'.xlsx', index = False)"
   ]
  },
  {
   "cell_type": "markdown",
   "id": "c03f67c9",
   "metadata": {},
   "source": [
    "# Task2 데이터 형식 맞추기, 세부사항 검토\n",
    "\n",
    "채워야할 내용 \n",
    "- 헤브론스타국가코드 varchar(3) : 'MYS'\n",
    "- 현지언어국가명 varchar(40) : 'Malaysia'\n",
    "\n",
    "\n",
    "검수해야할 내용 \n",
    "- 영문기업소개내용 varchar(400)\n",
    "- 기업대표전화번화 varchar(40)\n",
    "- 대표이메일 varchar(40)\n",
    "- 영문기업명 varchar(100)   한자가 들어가 있는지는 어떻게 알지?\n",
    "- 기업홈페이지url varchar(700)\n",
    "- 영문산업군명 varchar(100) \n",
    "- 영문기업상세주소 varchar(200)\n",
    "- 영문기업주소 varchar(200) : 시, 도/주, 국가 기업 상세주소에서 분리하여 넣기 \n",
    "- 우편번호 varchar(12) : 영문기업상세주소에서 추출하여 채워넣기 \n",
    "\n",
    "지워야할 내용 \n",
    "- 담당자이메일주소\n",
    "- 담당자명 \n"
   ]
  },
  {
   "cell_type": "code",
   "execution_count": 207,
   "id": "af8cc62b",
   "metadata": {},
   "outputs": [],
   "source": [
    "testdf1 = pd.read_excel('G:\\\\공유 드라이브\\\\BDC\\\\말레이시아기업일반정보추가\\\\전처리(데이터스플릿)\\\\말레이시아통합_200_0.xlsx')"
   ]
  },
  {
   "cell_type": "code",
   "execution_count": 208,
   "id": "39e4235f",
   "metadata": {},
   "outputs": [],
   "source": [
    "# 채워야할 내용 채우기 \n",
    "testdf1['헤브론스타국가코드'] = 'MYS'\n",
    "testdf1['영문국가명'] = 'Malaysia'"
   ]
  },
  {
   "cell_type": "code",
   "execution_count": 209,
   "id": "d9ffe1e4",
   "metadata": {},
   "outputs": [
    {
     "data": {
      "text/plain": [
       "0         Suite D21, 2nd Floor, Block D, Plaza Pekelilin...\n",
       "1         22 Jalan 2/109E, Desa Business Park, Taman Des...\n",
       "2         Wisma Lim Kim Chuan, Lot 50A, Section 92A, 3 1...\n",
       "3         Unit No 50-2-1, Level 2 Wisma UOA Damansara, N...\n",
       "4          Bukit Bintang, Jelan Bedara 12/B3, , 50200, K...\n",
       "                                ...                        \n",
       "199995    41, Lor. Burung Tekukur 5, Taman Bukit Maluri,...\n",
       "199996    20-1B, Jalan Pandan 2/1, Pandan Jaya, WP Kuala...\n",
       "199997    36-1, Jalan Manis 3, Taman Segar, Cheras, WP K...\n",
       "199998    Ste 801-802, 8Th Floor, Wis. Hamzah Kwong Hing...\n",
       "199999    10-1B, Jalan Pandan 2/1, Pandan Jaya, WP Kuala...\n",
       "Name: 영문기업상세주소, Length: 200000, dtype: object"
      ]
     },
     "execution_count": 209,
     "metadata": {},
     "output_type": "execute_result"
    }
   ],
   "source": [
    "testdf1['영문기업상세주소']"
   ]
  },
  {
   "cell_type": "code",
   "execution_count": 210,
   "id": "446fc3e3",
   "metadata": {},
   "outputs": [
    {
     "name": "stderr",
     "output_type": "stream",
     "text": [
      "C:\\Users\\user\\AppData\\Local\\Temp/ipykernel_14280/2098656625.py:5: FutureWarning: The default value of regex will change from True to False in a future version.\n",
      "  testdf1['영문기업상세주소'] = testdf1['영문기업상세주소'].str.replace(r'\\d\\d\\d\\d\\d|\\d\\d\\d\\d\\d,', '')\n"
     ]
    }
   ],
   "source": [
    "# 우편번호 추출 : 숫자가연속으로 5번이상 쓰여진것만 추출 \n",
    "testdf1['기업우편번호'] = testdf1['영문기업상세주소'].str.extract(r'(\\d\\d\\d\\d\\d)')\n",
    "\n",
    "# 우편번호 추출후 상세주소에서 우편번호 제거\n",
    "testdf1['영문기업상세주소'] = testdf1['영문기업상세주소'].str.replace(r'\\d\\d\\d\\d\\d|\\d\\d\\d\\d\\d,', '')"
   ]
  },
  {
   "cell_type": "code",
   "execution_count": 211,
   "id": "5bab04de",
   "metadata": {},
   "outputs": [],
   "source": [
    "# 우편번호 추출로 생성되는 의미없는 쉼표들 제거 \n",
    "testdf1['영문기업상세주소'] = testdf1['영문기업상세주소'].str.replace(', ,' , ',')"
   ]
  },
  {
   "cell_type": "code",
   "execution_count": 212,
   "id": "cb86dd54",
   "metadata": {},
   "outputs": [],
   "source": [
    "# 영문기업상세주소에서 영문기업주소만 추출\n",
    "# 알고리즘 : 쉼표로 구분된 주소에서 끝 세 요소 들을 영문기업주소로 넣음. (도시, 국가, 주)\n",
    "# 값이 잘 들어가는 케이스가 대부분이지만, 안들어가는 경우가 있을 수 없음. \n",
    "\n",
    "testdf1['영문기업주소'] = testdf1['영문기업상세주소'].str.split(\",\").str[-3:]"
   ]
  },
  {
   "cell_type": "code",
   "execution_count": 213,
   "id": "1a771c0a",
   "metadata": {
    "scrolled": true
   },
   "outputs": [],
   "source": [
    "# 영문기업상세주소에서 영문기업주소 요소를 제거. \n",
    "testdf1['영문기업상세주소'] = testdf1['영문기업상세주소'].str.split(\",\").str[:-3]"
   ]
  },
  {
   "cell_type": "code",
   "execution_count": 214,
   "id": "24570f60",
   "metadata": {},
   "outputs": [
    {
     "name": "stderr",
     "output_type": "stream",
     "text": [
      "C:\\Users\\user\\AppData\\Local\\Temp/ipykernel_14280/3088374968.py:3: FutureWarning: The default value of regex will change from True to False in a future version. In addition, single character regular expressions will *not* be treated as literal strings when regex=True.\n",
      "  testdf1['영문기업상세주소']=testdf1['영문기업상세주소'].str.replace('[', '')\n",
      "C:\\Users\\user\\AppData\\Local\\Temp/ipykernel_14280/3088374968.py:4: FutureWarning: The default value of regex will change from True to False in a future version. In addition, single character regular expressions will *not* be treated as literal strings when regex=True.\n",
      "  testdf1['영문기업상세주소']=testdf1['영문기업상세주소'].str.replace(']', '')\n"
     ]
    }
   ],
   "source": [
    "# 리스트로 들어간 영문기업상세주소를 문자로 변환 \n",
    "testdf1['영문기업상세주소']=testdf1['영문기업상세주소'].map(lambda x : str(x))\n",
    "testdf1['영문기업상세주소']=testdf1['영문기업상세주소'].str.replace('[', '')\n",
    "testdf1['영문기업상세주소']=testdf1['영문기업상세주소'].str.replace(']', '')\n",
    "testdf1['영문기업상세주소'] = testdf1['영문기업상세주소'].str.replace(\"'\",\"\")"
   ]
  },
  {
   "cell_type": "code",
   "execution_count": 215,
   "id": "9a97ea46",
   "metadata": {},
   "outputs": [
    {
     "name": "stderr",
     "output_type": "stream",
     "text": [
      "C:\\Users\\user\\AppData\\Local\\Temp/ipykernel_14280/166794711.py:3: FutureWarning: The default value of regex will change from True to False in a future version. In addition, single character regular expressions will *not* be treated as literal strings when regex=True.\n",
      "  testdf1['영문기업주소']=testdf1['영문기업주소'].str.replace('[', '')\n",
      "C:\\Users\\user\\AppData\\Local\\Temp/ipykernel_14280/166794711.py:4: FutureWarning: The default value of regex will change from True to False in a future version. In addition, single character regular expressions will *not* be treated as literal strings when regex=True.\n",
      "  testdf1['영문기업주소']=testdf1['영문기업주소'].str.replace(']', '')\n"
     ]
    }
   ],
   "source": [
    "# 리스트로 들어간 영문기업주소를 문자로 변환 \n",
    "testdf1['영문기업주소']=testdf1['영문기업주소'].map(lambda x : str(x))\n",
    "testdf1['영문기업주소']=testdf1['영문기업주소'].str.replace('[', '')\n",
    "testdf1['영문기업주소']=testdf1['영문기업주소'].str.replace(']', '')\n",
    "testdf1['영문기업주소'] = testdf1['영문기업주소'].str.replace(\"'\",\"\")"
   ]
  },
  {
   "cell_type": "code",
   "execution_count": 216,
   "id": "ebc2498c",
   "metadata": {},
   "outputs": [
    {
     "data": {
      "text/plain": [
       "0             Kuala Lumpur,  Wilayah Persekutuan,  Malaysia\n",
       "1             Malaysia,  Kuala Lumpur,  Wilayah Persekutuan\n",
       "2          Wilayah Persekutuan  Malaysia,  Kuala Lumpur,...\n",
       "3            Kuala Lumpur,  Wilayah Persekutuan,  Malaysia \n",
       "4                               ,  Kuala Lumpur,  Malaysia \n",
       "                                ...                        \n",
       "199995            WP Kuala Lumpur,  Kuala Lumpur,  Malaysia\n",
       "199996            WP Kuala Lumpur,  Kuala Lumpur,  Malaysia\n",
       "199997            WP Kuala Lumpur,  Kuala Lumpur,  Malaysia\n",
       "199998            WP Kuala Lumpur,  Kuala Lumpur,  Malaysia\n",
       "199999            WP Kuala Lumpur,  Kuala Lumpur,  Malaysia\n",
       "Name: 영문기업주소, Length: 200000, dtype: object"
      ]
     },
     "execution_count": 216,
     "metadata": {},
     "output_type": "execute_result"
    }
   ],
   "source": [
    "testdf1['영문기업주소']"
   ]
  },
  {
   "cell_type": "markdown",
   "id": "a7c016cc",
   "metadata": {},
   "source": [
    "# Task3 :데이터 검수 "
   ]
  },
  {
   "cell_type": "code",
   "execution_count": 217,
   "id": "9777652d",
   "metadata": {},
   "outputs": [
    {
     "name": "stderr",
     "output_type": "stream",
     "text": [
      "C:\\Users\\user\\AppData\\Local\\Temp/ipykernel_14280/3020516999.py:6: FutureWarning: The default value of regex will change from True to False in a future version. In addition, single character regular expressions will *not* be treated as literal strings when regex=True.\n",
      "  testdf1['영문산업군명']=testdf1['영문산업군명'].str.replace('[', '')\n",
      "C:\\Users\\user\\AppData\\Local\\Temp/ipykernel_14280/3020516999.py:7: FutureWarning: The default value of regex will change from True to False in a future version. In addition, single character regular expressions will *not* be treated as literal strings when regex=True.\n",
      "  testdf1['영문산업군명']=testdf1['영문산업군명'].str.replace(']', '')\n"
     ]
    }
   ],
   "source": [
    "# 영문산업군명이 너무 길기 때문에, /로 나뉜 것들 중 앞의 두개 만을 산업군명으로 가져옴 \n",
    "testdf1['영문산업군명'] = testdf1['영문산업군명'].str.split(\"/\").str[:2]\n",
    "\n",
    "# 리스트로 들어간 영문산업군명을 문자로 변환 \n",
    "testdf1['영문산업군명']=testdf1['영문산업군명'].map(lambda x : str(x))\n",
    "testdf1['영문산업군명']=testdf1['영문산업군명'].str.replace('[', '')\n",
    "testdf1['영문산업군명']=testdf1['영문산업군명'].str.replace(']', '')\n",
    "testdf1['영문산업군명'] = testdf1['영문산업군명'].str.replace(\"'\",\"\")"
   ]
  },
  {
   "cell_type": "code",
   "execution_count": 218,
   "id": "07e36be4",
   "metadata": {},
   "outputs": [],
   "source": [
    "# 그리고 \n",
    "for i in range(len(testdf1)) : \n",
    "     if 100 < len(testdf1.loc[i,'영문산업군명']) : \n",
    "            testdf1.loc[i,'영문산업군명'] = testdf1.loc[i,'영문산업군명'].split(\",\")[0]\n",
    "            testdf1.loc[i,'영문산업군명'] = testdf1.loc[i,'영문산업군명'].replace('[', '')\n",
    "            testdf1.loc[i,'영문산업군명'] = testdf1.loc[i,'영문산업군명'].replace(']', '')\n",
    "            testdf1.loc[i,'영문산업군명'] = testdf1.loc[i,'영문산업군명'].replace(\"'\",\"\")"
   ]
  },
  {
   "cell_type": "code",
   "execution_count": 180,
   "id": "7815c761",
   "metadata": {
    "scrolled": true
   },
   "outputs": [
    {
     "data": {
      "text/plain": [
       "0         Manufacturing & IndustryManufacturing & Indust...\n",
       "1         ServicesServices ,  General Office ServicesSer...\n",
       "2                     ServicesServices ,  General Business \n",
       "3         Finances & InsuranceFinances & Insurance ,  Fi...\n",
       "4         Computers & InternetComputers & Internet ,  We...\n",
       "                                ...                        \n",
       "199995    Tradesmen & ConstructionTradesmen & Constructi...\n",
       "199996    Transport & MotoringTransport & Motoring ,  Ve...\n",
       "199997                ShoppingShopping ,  Electrical Goods \n",
       "199998                ShoppingShopping ,  Electrical Goods \n",
       "199999                ShoppingShopping ,  Electrical Goods \n",
       "Name: 영문산업군명, Length: 200000, dtype: object"
      ]
     },
     "execution_count": 180,
     "metadata": {},
     "output_type": "execute_result"
    }
   ],
   "source": [
    "testdf1['영문산업군명']"
   ]
  },
  {
   "cell_type": "code",
   "execution_count": 229,
   "id": "c019af3e",
   "metadata": {},
   "outputs": [
    {
     "data": {
      "text/plain": [
       "0                  Infrastructure Builders Sdn Bhd\n",
       "1                                 Infostar Sdn Bhd\n",
       "2                  INTERACTIVE PUBLICATION SDN BHD\n",
       "3          Intelligent Money Sdn. Bhd. (iMoney.my)\n",
       "4                         IT LEVEL (Createaweb.my)\n",
       "                            ...                   \n",
       "199995            TAN CHIN CHOO HOLDINGS SDN. BHD.\n",
       "199996    TANAIRCON ENGINEERING (SUBANG) SDN. BHD.\n",
       "199997                     TANIA TRADING SDN. BHD.\n",
       "199998                   TANDING SENTOSA SDN. BHD.\n",
       "199999          TANJUNG REKA DEVELOPMENT SDN. BHD.\n",
       "Name: 영문기업명, Length: 200000, dtype: object"
      ]
     },
     "execution_count": 229,
     "metadata": {},
     "output_type": "execute_result"
    }
   ],
   "source": [
    "testdf1['영문기업명']"
   ]
  },
  {
   "cell_type": "markdown",
   "id": "56983025",
   "metadata": {},
   "source": [
    "# Task4 : Task1,2,3 과정 통합 및 자동화 "
   ]
  },
  {
   "cell_type": "code",
   "execution_count": 9,
   "id": "8546094c",
   "metadata": {},
   "outputs": [],
   "source": [
    "# 파일들을 가져올 디렉토리 \n",
    "os.chdir('G:\\\\공유 드라이브\\\\BDC\\\\태국일반정보추가\\\\전처리')"
   ]
  },
  {
   "cell_type": "code",
   "execution_count": 10,
   "id": "ed6b84f6",
   "metadata": {
    "scrolled": false
   },
   "outputs": [
    {
     "name": "stderr",
     "output_type": "stream",
     "text": [
      "  0%|                                                                                            | 0/1 [00:00<?, ?it/s]C:\\Users\\user\\AppData\\Local\\Temp/ipykernel_19280/4108999873.py:12: FutureWarning: The default value of regex will change from True to False in a future version.\n",
      "  df['영문기업상세주소'] = df['영문기업상세주소'].str.replace(r'\\d\\d\\d\\d\\d|\\d\\d\\d\\d\\d,', '')\n",
      "C:\\Users\\user\\AppData\\Local\\Temp/ipykernel_19280/4108999873.py:29: FutureWarning: The default value of regex will change from True to False in a future version. In addition, single character regular expressions will *not* be treated as literal strings when regex=True.\n",
      "  df['영문기업상세주소']=df['영문기업상세주소'].str.replace('[', '')\n",
      "C:\\Users\\user\\AppData\\Local\\Temp/ipykernel_19280/4108999873.py:30: FutureWarning: The default value of regex will change from True to False in a future version. In addition, single character regular expressions will *not* be treated as literal strings when regex=True.\n",
      "  df['영문기업상세주소']=df['영문기업상세주소'].str.replace(']', '')\n",
      "C:\\Users\\user\\AppData\\Local\\Temp/ipykernel_19280/4108999873.py:35: FutureWarning: The default value of regex will change from True to False in a future version. In addition, single character regular expressions will *not* be treated as literal strings when regex=True.\n",
      "  df['영문기업주소']=df['영문기업주소'].str.replace('[', '')\n",
      "C:\\Users\\user\\AppData\\Local\\Temp/ipykernel_19280/4108999873.py:36: FutureWarning: The default value of regex will change from True to False in a future version. In addition, single character regular expressions will *not* be treated as literal strings when regex=True.\n",
      "  df['영문기업주소']=df['영문기업주소'].str.replace(']', '')\n",
      "C:\\Users\\user\\AppData\\Local\\Temp/ipykernel_19280/4108999873.py:44: FutureWarning: The default value of regex will change from True to False in a future version. In addition, single character regular expressions will *not* be treated as literal strings when regex=True.\n",
      "  df['영문산업군명']=df['영문산업군명'].str.replace('[', '')\n",
      "C:\\Users\\user\\AppData\\Local\\Temp/ipykernel_19280/4108999873.py:45: FutureWarning: The default value of regex will change from True to False in a future version. In addition, single character regular expressions will *not* be treated as literal strings when regex=True.\n",
      "  df['영문산업군명']=df['영문산업군명'].str.replace(']', '')\n"
     ]
    },
    {
     "name": "stdout",
     "output_type": "stream",
     "text": [
      "기업명에러 발생, 기업명 null값 1147th row, 파일 이름 : 통합.xlsx\n",
      "기업명에러 발생, 기업명 null값 30231th row, 파일 이름 : 통합.xlsx\n",
      "기업명에러 발생, 기업명 null값 30675th row, 파일 이름 : 통합.xlsx\n",
      "기업명에러 발생, 기업명 null값 50177th row, 파일 이름 : 통합.xlsx\n",
      "기업명에러 발생, 기업명 null값 50192th row, 파일 이름 : 통합.xlsx\n",
      "기업명에러 발생, 기업명 null값 54088th row, 파일 이름 : 통합.xlsx\n",
      "기업명에러 발생, 기업명 null값 68430th row, 파일 이름 : 통합.xlsx\n"
     ]
    },
    {
     "name": "stderr",
     "output_type": "stream",
     "text": [
      "100%|████████████████████████████████████████████████████████████████████████████████████| 1/1 [00:40<00:00, 40.85s/it]\n"
     ]
    }
   ],
   "source": [
    "for file in tqdm(os.listdir()) : \n",
    "    df = pd.read_excel(file)\n",
    "    \n",
    "    # 채워야할 내용 채우기 \n",
    "    df['헤브론스타국가코드'] = 'THA'\n",
    "    df['영문국가명'] = 'Thailand'\n",
    "    \n",
    "    # 우편번호 추출 : 숫자가연속으로 5번이상 쓰여진것만 추출 \n",
    "    df['기업우편번호'] = df['영문기업상세주소'].str.extract(r'(\\d\\d\\d\\d\\d)')\n",
    "\n",
    "    # 우편번호 추출후 상세주소에서 우편번호 제거\n",
    "    df['영문기업상세주소'] = df['영문기업상세주소'].str.replace(r'\\d\\d\\d\\d\\d|\\d\\d\\d\\d\\d,', '')\n",
    "    \n",
    "    # 우편번호 추출로 생성되는 의미없는 쉼표들 제거 \n",
    "    df['영문기업상세주소'] = df['영문기업상세주소'].str.replace(', ,' , ',')\n",
    "    \n",
    "    # 영문기업상세주소에서 영문기업주소만 추출\n",
    "    # 알고리즘 : 쉼표로 구분된 주소에서 끝 세 요소 들을 영문기업주소로 넣음. (도시, 국가, 주)\n",
    "    # 값이 잘 들어가는 케이스가 대부분이지만, 안들어가는 경우가 있을 수 없음. \n",
    "\n",
    "    df['영문기업주소'] = df['영문기업상세주소'].str.split(\",\").str[-3:]\n",
    "    \n",
    "    # 영문기업상세주소에서 중복되는영문기업주소 요소를 제거. \n",
    "    df['영문기업상세주소'] = df['영문기업상세주소'].str.split(\",\").str[:-3]\n",
    "    \n",
    "    \n",
    "    # 리스트로 들어간 영문기업상세주소를 문자로 변환 \n",
    "    df['영문기업상세주소']=df['영문기업상세주소'].map(lambda x : str(x))\n",
    "    df['영문기업상세주소']=df['영문기업상세주소'].str.replace('[', '')\n",
    "    df['영문기업상세주소']=df['영문기업상세주소'].str.replace(']', '')\n",
    "    df['영문기업상세주소'] = df['영문기업상세주소'].str.replace(\"'\",\"\")\n",
    "    \n",
    "    # 리스트로 들어간 영문기업주소를 문자로 변환 \n",
    "    df['영문기업주소']=df['영문기업주소'].map(lambda x : str(x))\n",
    "    df['영문기업주소']=df['영문기업주소'].str.replace('[', '')\n",
    "    df['영문기업주소']=df['영문기업주소'].str.replace(']', '')\n",
    "    df['영문기업주소'] = df['영문기업주소'].str.replace(\"'\",\"\")\n",
    "    \n",
    "    # 영문산업군명이 너무 길기 때문에, /로 나뉜 것들 중 앞의 두개 만을 산업군명으로 가져옴 \n",
    "    df['영문산업군명'] = df['영문산업군명'].str.split(\"/\").str[:2]\n",
    "\n",
    "    # 리스트로 들어간 영문산업군명을 문자로 변환 \n",
    "    df['영문산업군명']=df['영문산업군명'].map(lambda x : str(x))\n",
    "    df['영문산업군명']=df['영문산업군명'].str.replace('[', '')\n",
    "    df['영문산업군명']=df['영문산업군명'].str.replace(']', '')\n",
    "    df['영문산업군명'] = df['영문산업군명'].str.replace(\"'\",\"\")\n",
    "    \n",
    "    \n",
    "    # 영문산업군명의 길이는 varchar(100) 이기 때문에, 특별히 검수를 하고 조건에 맞지 않는 데이터는 조금 더 잘라낸다. \n",
    "    for i in range(len(df)) : \n",
    "         if 100 < len(df.loc[i,'영문산업군명']) : \n",
    "            df.loc[i,'영문산업군명'] = df.loc[i,'영문산업군명'].split(\",\")[0]\n",
    "            df.loc[i,'영문산업군명'] = df.loc[i,'영문산업군명'].replace('[', '')\n",
    "            df.loc[i,'영문산업군명'] = df.loc[i,'영문산업군명'].replace(']', '')\n",
    "            df.loc[i,'영문산업군명'] = df.loc[i,'영문산업군명'].replace(\"'\",\"\")\n",
    "            \n",
    "    # 영문기업명 100자 초과 여부 확인, 검수. \n",
    "    for i in range(len(df)) : \n",
    "        try :\n",
    "            if 100 < len(df.loc[i,'영문기업명']) :  \n",
    "                df.loc[i,'영문기업명'] = df.loc[i,'영문기업명'][:100]\n",
    "                print(f'기업명초과에러 발생 {i}th row, 파일 이름 : {file}')\n",
    "                \n",
    "        except : \n",
    "            print(f'기업명에러 발생, 기업명 null값 {i}th row, 파일 이름 : {file}')\n",
    "            continue \n",
    "\n",
    "                \n",
    "    df.to_excel('G:\\\\공유 드라이브\\\\BDC\\\\태국일반정보추가\\\\전처리\\\\'+str(file)[:-5] + '_processed.xlsx', index = False)\n",
    "    "
   ]
  },
  {
   "cell_type": "markdown",
   "id": "d37ab744",
   "metadata": {},
   "source": [
    "완성된 데이터들 중에서 기업명이 없는 케이스들이 발견되어, 이를 제거한다. "
   ]
  },
  {
   "cell_type": "code",
   "execution_count": 270,
   "id": "bf35d4ed",
   "metadata": {},
   "outputs": [],
   "source": [
    "wrong_datasets = ['G:\\\\공유 드라이브\\\\BDC\\\\말레이시아기업일반정보추가\\\\전처리(검수완료)말레이시아통합_200_0_processed.xlsx',\n",
    "                 'G:\\\\공유 드라이브\\\\BDC\\\\말레이시아기업일반정보추가\\\\전처리(검수완료)말레이시아통합_3200_1_processed.xlsx']\n",
    "for dataset in wrong_datasets : \n",
    "    nulldata = pd.read_excel(dataset)\n",
    "    nulldata=nulldata.dropna(subset=['영문기업명'])\n",
    "    nulldata.to_excel(dataset, index = False)"
   ]
  },
  {
   "cell_type": "code",
   "execution_count": 271,
   "id": "62fb8643",
   "metadata": {},
   "outputs": [
    {
     "data": {
      "text/plain": [
       "Index(['키값', '헤브론스타국가코드', '현지언어국가명', '영문국가명', '국가언어코드값', '현지언어언어명', '영문언어명',\n",
       "       '현지언어기업명', '영문기업명', '현지언어한줄소개내용', '현지언어기업소개내용', '영문한줄소개내용', '영문기업소개내용',\n",
       "       '현지언어대표이사명', '영문대표이사명', '기업대표전화번호', '대표팩스번호', '대표이메일', '기업홈페이지URL',\n",
       "       '페이스북URL', '인스타그램URL', '유튜브URL', '링크드인URL', '현지언어담당자명', '영문담당자명',\n",
       "       '현지언어직위명', '영문직위명', '담당자부서명', '기업담당자전화번호', '담당자이메일', '담당자팩스번호',\n",
       "       '기업담당자이동전화번호', '현지언어기업주소', '현지언어기업상세주소', '영문기업주소', '영문기업상세주소', '기업우편번호',\n",
       "       '현지언어산업군명', '영문산업군명', '현지언어주요제품내용', '영문주요제품내용', '설립일자', '기업종업원값',\n",
       "       '외감법인구분값', '매출년도값', '매출액값', '기본화폐키값', '화폐단위명', '주식시장코드', '현지언어주식시장명',\n",
       "       '영문주식시장명', '상장코드', '상장일자', '기업추가정보값', '작업구분코드', '데이터생성일자', '연계처리상태코드',\n",
       "       '연계처리일자'],\n",
       "      dtype='object')"
      ]
     },
     "execution_count": 271,
     "metadata": {},
     "output_type": "execute_result"
    }
   ],
   "source": [
    "nulldata.columns"
   ]
  },
  {
   "cell_type": "markdown",
   "id": "2d0080a0",
   "metadata": {},
   "source": [
    "추가적으로, 개인정보를 제거한다. 개인정보에 해당하는 칼럼은 '영문담당자명' 이다. "
   ]
  },
  {
   "cell_type": "code",
   "execution_count": 274,
   "id": "56432135",
   "metadata": {},
   "outputs": [],
   "source": [
    "os.chdir('G:\\\\공유 드라이브\\\\BDC\\\\말레이시아기업일반정보추가\\\\전처리최종(검수완료)')"
   ]
  },
  {
   "cell_type": "code",
   "execution_count": 278,
   "id": "502eaa67",
   "metadata": {},
   "outputs": [
    {
     "data": {
      "text/plain": [
       "nan"
      ]
     },
     "execution_count": 278,
     "metadata": {},
     "output_type": "execute_result"
    }
   ],
   "source": [
    "import numpy as np\n",
    "np.nan"
   ]
  },
  {
   "cell_type": "code",
   "execution_count": 281,
   "id": "a73b873a",
   "metadata": {},
   "outputs": [
    {
     "data": {
      "text/plain": [
       "'전처리(검수완료)말레이시아통합_200_0_processed.xlsx'"
      ]
     },
     "execution_count": 281,
     "metadata": {},
     "output_type": "execute_result"
    }
   ],
   "source": [
    "file"
   ]
  },
  {
   "cell_type": "code",
   "execution_count": null,
   "id": "8b996154",
   "metadata": {},
   "outputs": [
    {
     "name": "stderr",
     "output_type": "stream",
     "text": [
      " 15%|███████████▊                                                                    | 13/88 [18:00<1:43:34, 82.86s/it]"
     ]
    }
   ],
   "source": [
    "# 영문담당자명을 null값으로 변경ㅎ\n",
    "for file in tqdm(os.listdir()) : \n",
    "    dataset = pd.read_excel(file)\n",
    "    dataset['영문담당자명'] = np.nan\n",
    "    dataset.to_excel('G:\\\\공유 드라이브\\\\BDC\\\\말레이시아기업일반정보추가\\\\전처리최종(검수완료,개인정보제거)\\\\'+'전처리최종(검수완료,개인정보제거)'+str(file)[10:], index = False)"
   ]
  },
  {
   "cell_type": "code",
   "execution_count": 269,
   "id": "be914f54",
   "metadata": {},
   "outputs": [
    {
     "data": {
      "text/plain": [
       "199994"
      ]
     },
     "execution_count": 269,
     "metadata": {},
     "output_type": "execute_result"
    }
   ],
   "source": [
    "len(nulldata)"
   ]
  },
  {
   "cell_type": "code",
   "execution_count": 1,
   "id": "efe5019f",
   "metadata": {},
   "outputs": [
    {
     "data": {
      "text/plain": [
       "68250"
      ]
     },
     "execution_count": 1,
     "metadata": {},
     "output_type": "execute_result"
    }
   ],
   "source": [
    "455 * 150"
   ]
  },
  {
   "cell_type": "code",
   "execution_count": null,
   "id": "0a6395d6",
   "metadata": {},
   "outputs": [],
   "source": []
  }
 ],
 "metadata": {
  "kernelspec": {
   "display_name": "codingNJ",
   "language": "python",
   "name": "codingnj"
  },
  "language_info": {
   "codemirror_mode": {
    "name": "ipython",
    "version": 3
   },
   "file_extension": ".py",
   "mimetype": "text/x-python",
   "name": "python",
   "nbconvert_exporter": "python",
   "pygments_lexer": "ipython3",
   "version": "3.9.7"
  }
 },
 "nbformat": 4,
 "nbformat_minor": 5
}
