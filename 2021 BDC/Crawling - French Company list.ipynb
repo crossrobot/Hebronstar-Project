{
 "cells": [
  {
   "cell_type": "markdown",
   "id": "639eb5b6",
   "metadata": {},
   "source": [
    "# Part1 Data Preprocessing  "
   ]
  },
  {
   "cell_type": "code",
   "execution_count": 1,
   "id": "8d33f0e8",
   "metadata": {},
   "outputs": [],
   "source": [
    "import pandas as pd\n",
    "import os"
   ]
  },
  {
   "cell_type": "markdown",
   "id": "b4263039",
   "metadata": {},
   "source": [
    "# Part2 Crawling additional info"
   ]
  },
  {
   "cell_type": "code",
   "execution_count": 2,
   "id": "70e2b6a3",
   "metadata": {},
   "outputs": [],
   "source": [
    "import selenium\n",
    "import bs4\n",
    "import pandas as pd\n",
    "from selenium.webdriver.common.keys import Keys\n",
    "from selenium import webdriver\n",
    "from bs4 import BeautifulSoup\n",
    "import time\n",
    "import html5lib\n",
    "from tqdm import tqdm"
   ]
  },
  {
   "cell_type": "code",
   "execution_count": 3,
   "id": "77066054",
   "metadata": {},
   "outputs": [],
   "source": [
    "# 시험해볼 SIERET을 유효하게 만들어줌\n",
    "def validate_siret(siret_list) : \n",
    "    valid_sirets = []\n",
    "    for siret in siret_list : \n",
    "        if not len(str(siret)) == 14 : \n",
    "            # 코드 길이가 9가 아니면 그만큼 앞에 0을 붙여준다\n",
    "            for _ in range(9-len(str(siret))) : \n",
    "                siret='0'+str(siret)\n",
    "                \n",
    "        valid_sirets.append(siret)\n",
    "                     \n",
    "    return valid_sirets"
   ]
  },
  {
   "cell_type": "code",
   "execution_count": 4,
   "id": "67c97c0c",
   "metadata": {
    "scrolled": true
   },
   "outputs": [],
   "source": [
    "## 원하는 정보를 크롤링하여 결과값으로 데이터 프레임을 반환하는 함수 info_crawler\n",
    "## bs4 사용 \n",
    "\n",
    "def info_cralwer(siret_list) :\n",
    "    \n",
    "    path = \"C:\\\\Users\\\\user\\\\chromedriver.exe\"\n",
    "    driver = webdriver.Chrome(path)\n",
    "\n",
    "    # 크롬 웹 드라이버 객체 생성.\n",
    "    # 크롬드라이버로 크롬을 조작.\n",
    "\n",
    "    # 기업 정보를 조회할 프랑스 웹사이트 \n",
    "    driver.get(\"https://annuaire-entreprises.data.gouv.fr/etablissement/24630071900118\")\n",
    "    #드라이버 객체에서 원하는 url로 이동.\n",
    "\n",
    "    ###############################################################\n",
    "    ######################## 기본 동작  ###########################\n",
    "    driver.refresh() # 새로 고침\n",
    "    # driver.quit() # 브라우저 종료\n",
    "    \n",
    "    \n",
    "    \n",
    "    기업명리스트 = []\n",
    "    주소리스트 = []\n",
    "    활동여부리스트 = []\n",
    "    주요활동_APE리스트 = []\n",
    "    법적기업형태리스트_Nature_juridique = []\n",
    "    직원수리스트_Tranche_deffectif_salarié = []\n",
    "    설립일리스트_Date_de_création = []\n",
    "\n",
    "    \n",
    "    for siret in siret_list : \n",
    "        try : \n",
    "            elem = driver.find_element_by_css_selector('#search-input-input')\n",
    "            elem.send_keys(siret)\n",
    "            elem.send_keys(Keys.RETURN)   # 엔터를 쳐서 입력\n",
    "            elem = driver.find_element_by_css_selector('#page-layout > main > div > div.jsx-c751a9f3669be72c.header-section > div.jsx-c751a9f3669be72c.title > h1 > a')\n",
    "\n",
    "            # bs4를 사용하기 위해, 현재 띄워놓은 창의 html 소스 코드 가져오기\n",
    "            req = driver.page_source\n",
    "\n",
    "            soup= BeautifulSoup(req, 'html.parser')\n",
    "\n",
    "            elem = driver.find_element_by_xpath('//*[@id=\"page-layout\"]/main/div/div[1]/div[1]/div/span[2]/span')\n",
    "            활동여부 = elem.text\n",
    "\n",
    "            if not soup.find_all('p')[3].text[22:27] == 'fermé' : \n",
    "            #if 활동여부 == 'en activité' :\n",
    "            # 만약 공백이 하나도 없다면 \n",
    "            #if not soup.find_all('i', 'jsx-63456455') : \n",
    "                # 업체명 \n",
    "                기업명 = soup.find_all('a')[5].text\n",
    "                info = soup.find_all('td')\n",
    "                \n",
    "                gap = 0 \n",
    "                if len(info) > 20 : \n",
    "                    gap = len(info)-20\n",
    "                \n",
    "                주요활동 = info[7+gap].text.replace('\\xa0copier\\xa0copié!','')\n",
    "                법적기업형태 = info[9+gap].text.replace('\\xa0copier\\xa0copié!','')     # Nature juridique\n",
    "                직원수 = info[11+gap].text.replace('\\xa0copier\\xa0copié!','')       # Tranche effectif salarié de l’entité\n",
    "                설립일 = info[13+gap].text.replace('\\xa0copier\\xa0copié!','')           # Date de créatio\n",
    "                \n",
    "                주소 = info[19+gap].text.replace('\\xa0copier\\xa0copié!','') \n",
    "\n",
    "                기업명리스트.append(기업명)\n",
    "                주소리스트.append(주소)\n",
    "                활동여부리스트.append(활동여부)\n",
    "                주요활동_APE리스트.append(주요활동)\n",
    "                법적기업형태리스트_Nature_juridique.append(법적기업형태)\n",
    "                직원수리스트_Tranche_deffectif_salarié.append(직원수)\n",
    "                설립일리스트_Date_de_création.append(설립일)\n",
    "\n",
    "            else :\n",
    "                next \n",
    "        \n",
    "        except : next      \n",
    "            \n",
    "            \n",
    "    result_df = pd.DataFrame(columns = ['키값', '헤브론스타국가코드', '현지언어국가명', '영문국가명', '국가언어코드값', '현지언어언어명', '영문언어명',\n",
    "       '현지언어기업명', '영문기업명', '현지언어한줄소개내용', '현지언어기업소개내용', '영문한줄소개내용', '영문기업소개내용',\n",
    "       '현지언어대표이사명', '영문대표이사명', '기업대표전화번호', '대표팩스번호', '대표이메일', '기업홈페이지URL',\n",
    "       '페이스북URL', '인스타그램URL', '유튜브URL', '링크드인URL', '현지언어담당자명', '영문담당자명',\n",
    "       '현지언어직위명', '영문직위명', '담당자부서명', '기업담당자전화번호', '담당자이메일', '담당자팩스번호',\n",
    "       '기업담당자이동전화번호', '현지언어기업주소', '현지언어기업상세주소', '영문기업주소', '영문기업상세주소', '기업우편번호',\n",
    "       '현지언어산업군명', '영문산업군명', '현지언어주요제품내용', '영문주요제품내용', '설립일자', '기업종업원값',\n",
    "       '외감법인구분값', '매출년도값', '매출액값', '기본화폐키값', '화폐단위명', '주식시장코드', '현지언어주식시장명',\n",
    "       '영문주식시장명', '상장코드', '상장일자', '기업추가정보값', '작업구분코드', '데이터생성일자', '연계처리상태코드',\n",
    "       '연계처리일자'])\n",
    "\n",
    " \n",
    "    result_df['영문국가명'] = 'FRANCE'\n",
    "  \n",
    "    result_df['현지언어기업명'] = 기업명리스트\n",
    "    \n",
    "    result_df['현지언어기업상세주소'] = 주소리스트\n",
    "   \n",
    "    result_df['현지언어산업군명'] = 주요활동_APE리스트\n",
    "    result_df['현지언어주요제품내용'] \n",
    "    result_df['설립일자'] = 설립일리스트_Date_de_création\n",
    "    result_df['기업종업원값'] \n",
    "    result_df['외감법인구분값'] = 법적기업형태리스트_Nature_juridique\n",
    "    result_df['매출년도값']\n",
    "    result_df['매출액값'] \n",
    "    result_df['기본화폐키값']\n",
    "    result_df['화폐단위명']\n",
    "    result_df['주식시장코드']\n",
    "    result_df['현지언어주식시장명']\n",
    "    result_df['영문주식시장명']\n",
    "    result_df['상장코드']\n",
    "    result_df['상장일자'] \n",
    "    result_df['기업추가정보값']\n",
    "    result_df['작업구분코드']\n",
    "    result_df['데이터생성일자']\n",
    "    result_df['연계처리상태코드']\n",
    "    result_df['연계처리일자']\n",
    "    \n",
    "    return result_df"
   ]
  },
  {
   "cell_type": "code",
   "execution_count": 5,
   "id": "1824d9dc",
   "metadata": {},
   "outputs": [],
   "source": [
    "path = \"C:\\\\Users\\\\user\\\\chromedriver.exe\"\n",
    "driver = webdriver.Chrome(path)\n",
    "\n",
    "# 크롬 웹 드라이버 객체 생성.\n",
    "# 크롬드라이버로 크롬을 조작.\n",
    "\n",
    "# 기업 정보를 조회할 프랑스 웹사이트 \n",
    "driver.get(\"https://annuaire-entreprises.data.gouv.fr/etablissement/24630071900118\")\n",
    "#드라이버 객체에서 원하는 url로 이동.\n",
    "\n",
    "###############################################################\n",
    "######################## 기본 동작  ###########################\n",
    "driver.refresh() # 새로 고침\n",
    "# driver.quit() # 브라우저 종료\n",
    "\n",
    "\n",
    "\n",
    "기업명리스트 = []\n",
    "주소리스트 = []\n",
    "활동여부리스트 = []\n",
    "주요활동_APE리스트 = []\n",
    "법적기업형태리스트_Nature_juridique = []\n",
    "직원수리스트_Tranche_deffectif_salarié = []\n",
    "설립일리스트_Date_de_création = []"
   ]
  },
  {
   "cell_type": "code",
   "execution_count": 6,
   "id": "cebfaa91",
   "metadata": {},
   "outputs": [
    {
     "name": "stdout",
     "output_type": "stream",
     "text": [
      "엑셀파일이 담겨있는 폴더 주소를 정확히 입력해 주세요 : C:\\Users\\user\\fra-doc\\3~6\n",
      "아래 함수를 실행할 모든 준비가 완료되었습니다. 소요시간 : 3일\n"
     ]
    }
   ],
   "source": [
    "# 기본정보가 있는 폴더 주소를 전달한다./ \n",
    "os.chdir(input('엑셀파일이 담겨있는 폴더 주소를 정확히 입력해 주세요 : '))\n",
    "file_list = os.listdir()\n",
    "print('아래 함수를 실행할 모든 준비가 완료되었습니다. 소요시간 : 3일')"
   ]
  },
  {
   "cell_type": "code",
   "execution_count": null,
   "id": "ca0cb60e",
   "metadata": {
    "scrolled": true
   },
   "outputs": [
    {
     "name": "stderr",
     "output_type": "stream",
     "text": [
      " 75%|█████████████████████████████████████████████████████████                   | 3/4 [25:21:09<8:04:15, 29055.91s/it]"
     ]
    }
   ],
   "source": [
    "\n",
    "for file_name in tqdm(file_list[2:]) : \n",
    "    \n",
    "    file = pd.read_excel(file_name)\n",
    "    original_siret = file['siret']\n",
    "    \n",
    "    # validate_siret : siret 리스트를 유효하게 바꿔주는 함수 \n",
    "    valid_siret = validate_siret(original_siret) \n",
    "    \n",
    "    # info_cralwer : siret 리스트를 넣으면 해당 기업정보를 크롤링  \n",
    "    result_df = info_cralwer(valid_siret) \n",
    "     \n",
    "    new_file_name = file_name[:-4] + '_crawled.xlsx'\n",
    "    result_df.to_excel(new_file_name, index = False)\n",
    "\n",
    "    "
   ]
  },
  {
   "cell_type": "code",
   "execution_count": 4,
   "id": "6a6980af",
   "metadata": {},
   "outputs": [
    {
     "data": {
      "text/plain": [
       "24.576000000000004"
      ]
     },
     "execution_count": 4,
     "metadata": {},
     "output_type": "execute_result"
    }
   ],
   "source": [
    "# 엑셀 파일 한 건당 예상소요시간 \n",
    "((65536*1.35)/60)/60"
   ]
  },
  {
   "cell_type": "code",
   "execution_count": 61,
   "id": "f7b9b14a",
   "metadata": {},
   "outputs": [],
   "source": [
    "valid_siret_list = validate_siret(file['siret'])"
   ]
  },
  {
   "cell_type": "code",
   "execution_count": 19,
   "id": "24a13d2c",
   "metadata": {},
   "outputs": [],
   "source": [
    "os.chdir('C:\\\\Users\\\\user')"
   ]
  },
  {
   "cell_type": "code",
   "execution_count": 21,
   "id": "8cff2fed",
   "metadata": {},
   "outputs": [],
   "source": [
    "프랑스1 = pd.read_excel('프랑스1.xlsx')"
   ]
  },
  {
   "cell_type": "code",
   "execution_count": 25,
   "id": "31055592",
   "metadata": {},
   "outputs": [
    {
     "data": {
      "text/plain": [
       "Index(['키값', '헤브론스타국가코드', '현지언어국가명', '영문국가명', '국가언어코드값', '현지언어언어명', '영문언어명',\n",
       "       '현지언어기업명', '영문기업명', '현지언어한줄소개내용', '현지언어기업소개내용', '영문한줄소개내용', '영문기업소개내용',\n",
       "       '현지언어대표이사명', '영문대표이사명', '기업대표전화번호', '대표팩스번호', '대표이메일', '기업홈페이지URL',\n",
       "       '페이스북URL', '인스타그램URL', '유튜브URL', '링크드인URL', '현지언어담당자명', '영문담당자명',\n",
       "       '현지언어직위명', '영문직위명', '담당자부서명', '기업담당자전화번호', '담당자이메일', '담당자팩스번호',\n",
       "       '기업담당자이동전화번호', '현지언어기업주소', '현지언어기업상세주소', '영문기업주소', '영문기업상세주소', '기업우편번호',\n",
       "       '현지언어산업군명', '영문산업군명', '현지언어주요제품내용', '영문주요제품내용', '설립일자', '기업종업원값',\n",
       "       '외감법인구분값', '매출년도값', '매출액값', '기본화폐키값', '화폐단위명', '주식시장코드', '현지언어주식시장명',\n",
       "       '영문주식시장명', '상장코드', '상장일자', '기업추가정보값', '작업구분코드', '데이터생성일자', '연계처리상태코드',\n",
       "       '연계처리일자'],\n",
       "      dtype='object')"
      ]
     },
     "execution_count": 25,
     "metadata": {},
     "output_type": "execute_result"
    }
   ],
   "source": [
    "프랑스1.columns"
   ]
  },
  {
   "cell_type": "code",
   "execution_count": 16,
   "id": "8c26b3fc",
   "metadata": {},
   "outputs": [],
   "source": [
    "# test code : 추출이 안 된 케이스 \n",
    "\n",
    "path = \"C:\\\\Users\\\\user\\\\chromedriver.exe\"\n",
    "driver = webdriver.Chrome(path)\n",
    "\n",
    "# 크롬 웹 드라이버 객체 생성.\n",
    "# 크롬드라이버로 크롬을 조작.\n",
    "\n",
    "# 기업 정보를 조회할 프랑스 웹사이트 \n",
    "driver.get(\"https://annuaire-entreprises.data.gouv.fr/etablissement/30401225500069\")\n",
    "#드라이버 객체에서 원하는 url로 이동.\n",
    "\n",
    "###############################################################\n",
    "######################## 기본 동작  ###########################\n",
    "driver.refresh() # 새로 고침\n",
    "# driver.quit() # 브라우저 종료\n",
    "\n",
    "\n",
    "\n",
    "기업명리스트 = []\n",
    "주소리스트 = []\n",
    "활동여부리스트 = []\n",
    "주요활동_APE리스트 = []\n",
    "법적기업형태리스트_Nature_juridique = []\n",
    "직원수리스트_Tranche_deffectif_salarié = []\n",
    "설립일리스트_Date_de_création = []\n",
    "\n",
    "siret = 30401225500069\n",
    "\n",
    "elem = driver.find_element_by_css_selector('#search-input-input')\n",
    "elem.send_keys(siret)\n",
    "elem.send_keys(Keys.RETURN)   # 엔터를 쳐서 입력\n",
    "elem = driver.find_element_by_css_selector('#page-layout > main > div > div.jsx-c751a9f3669be72c.header-section > div.jsx-c751a9f3669be72c.title > h1 > a')\n",
    "\n",
    "# bs4를 사용하기 위해, 현재 띄워놓은 창의 html 소스 코드 가져오기\n",
    "req = driver.page_source\n",
    "\n",
    "soup= BeautifulSoup(req, 'html.parser')\n",
    "\n",
    "elem = driver.find_element_by_xpath('//*[@id=\"page-layout\"]/main/div/div[1]/div[1]/div/span[2]/span')\n",
    "활동여부 = elem.text\n",
    "\n",
    "\n",
    "\n",
    "if not soup.find_all('p')[3].text[22:27] == 'fermé' : \n",
    "#if 활동여부 == 'en activité' :\n",
    "# 만약 공백이 하나도 없다면 \n",
    "#if not soup.find_all('i', 'jsx-63456455') : \n",
    "    # 업체명 \n",
    "    기업명 = soup.find_all('a')[5].text\n",
    "    info = soup.find_all('td')\n",
    "    \n",
    "    # 아래 if 문은 만약 페이지 구성이 달라지는 경우, 올바르게 정보를 추출할 수 있도록 추가한 구문. \n",
    "    # 예를들어 siret 30401265100051, 30401225500069 의 경우 페이지 구성이 약간 달라진다. \n",
    "    if len(info) > 20 : \n",
    "        gap = len(info)-20\n",
    "    \n",
    "    \n",
    "    주요활동 = info[7].text.replace('\\xa0copier\\xa0copié!','')\n",
    "    법적기업형태 = info[9].text.replace('\\xa0copier\\xa0copié!','')     # Nature juridique\n",
    "    직원수 = info[11].text.replace('\\xa0copier\\xa0copié!','')       # Tranche effectif salarié de l’entité\n",
    "    설립일 = info[13].text.replace('\\xa0copier\\xa0copié!','')           # Date de créatio\n",
    "\n",
    "    주소 = info[19].text.replace('\\xa0copier\\xa0copié!','') \n",
    "\n",
    "    기업명리스트.append(기업명)\n",
    "    주소리스트.append(주소)\n",
    "    활동여부리스트.append(활동여부)\n",
    "    주요활동_APE리스트.append(주요활동)\n",
    "    법적기업형태리스트_Nature_juridique.append(법적기업형태)\n",
    "    직원수리스트_Tranche_deffectif_salarié.append(직원수)\n",
    "    설립일리스트_Date_de_création.append(설립일)\n",
    "\n"
   ]
  },
  {
   "cell_type": "code",
   "execution_count": 17,
   "id": "d2a9c023",
   "metadata": {},
   "outputs": [
    {
     "name": "stdout",
     "output_type": "stream",
     "text": [
      "Euro corse voyages\n",
      "Avis de situation\n",
      "en activité\n",
      "FR00 304 012 255\n",
      "49.39B - Autres transports routiers de voyageurs\n",
      "Société à responsabilité limitée (sans autre indication)\n",
      "Unité non employeuse (pas de salarié au cours de l'année de référence et pas d'effectif au 31/12)\n"
     ]
    }
   ],
   "source": [
    "print(기업명)\n",
    "print(주소)\n",
    "print(활동여부)\n",
    "print(주요활동)\n",
    "print(법적기업형태)\n",
    "print(직원수)\n",
    "print(설립일)"
   ]
  },
  {
   "cell_type": "code",
   "execution_count": 21,
   "id": "84b25f0a",
   "metadata": {},
   "outputs": [
    {
     "data": {
      "text/plain": [
       "22"
      ]
     },
     "execution_count": 21,
     "metadata": {},
     "output_type": "execute_result"
    }
   ],
   "source": [
    "len(info )"
   ]
  },
  {
   "cell_type": "code",
   "execution_count": 22,
   "id": "91fee8ad",
   "metadata": {},
   "outputs": [],
   "source": [
    "# test code : 추출이 잘 된 케이스 \n",
    "\n",
    "path = \"C:\\\\Users\\\\user\\\\chromedriver.exe\"\n",
    "driver = webdriver.Chrome(path)\n",
    "\n",
    "# 크롬 웹 드라이버 객체 생성.\n",
    "# 크롬드라이버로 크롬을 조작.\n",
    "\n",
    "# 기업 정보를 조회할 프랑스 웹사이트 \n",
    "driver.get(\"https://annuaire-entreprises.data.gouv.fr/etablissement/30401225500069\")\n",
    "#드라이버 객체에서 원하는 url로 이동.\n",
    "\n",
    "###############################################################\n",
    "######################## 기본 동작  ###########################\n",
    "driver.refresh() # 새로 고침\n",
    "# driver.quit() # 브라우저 종료\n",
    "\n",
    "\n",
    "\n",
    "기업명리스트 = []\n",
    "주소리스트 = []\n",
    "활동여부리스트 = []\n",
    "주요활동_APE리스트 = []\n",
    "법적기업형태리스트_Nature_juridique = []\n",
    "직원수리스트_Tranche_deffectif_salarié = []\n",
    "설립일리스트_Date_de_création = []\n",
    "\n",
    "siret = 30401225500044\n",
    "\n",
    "elem = driver.find_element_by_css_selector('#search-input-input')\n",
    "elem.send_keys(siret)\n",
    "elem.send_keys(Keys.RETURN)   # 엔터를 쳐서 입력\n",
    "elem = driver.find_element_by_css_selector('#page-layout > main > div > div.jsx-c751a9f3669be72c.header-section > div.jsx-c751a9f3669be72c.title > h1 > a')\n",
    "\n",
    "# bs4를 사용하기 위해, 현재 띄워놓은 창의 html 소스 코드 가져오기\n",
    "req = driver.page_source\n",
    "\n",
    "soup= BeautifulSoup(req, 'html.parser')\n",
    "\n",
    "elem = driver.find_element_by_xpath('//*[@id=\"page-layout\"]/main/div/div[1]/div[1]/div/span[2]/span')\n",
    "활동여부 = elem.text\n",
    "\n",
    "\n",
    "\n",
    "if not soup.find_all('p')[3].text[22:27] == 'fermé' : \n",
    "#if 활동여부 == 'en activité' :\n",
    "# 만약 공백이 하나도 없다면 \n",
    "#if not soup.find_all('i', 'jsx-63456455') : \n",
    "    # 업체명 \n",
    "    기업명 = soup.find_all('a')[5].text\n",
    "    info = soup.find_all('td')\n",
    "    주요활동 = info[7].text.replace('\\xa0copier\\xa0copié!','')\n",
    "    법적기업형태 = info[9].text.replace('\\xa0copier\\xa0copié!','')     # Nature juridique\n",
    "    직원수 = info[11].text.replace('\\xa0copier\\xa0copié!','')       # Tranche effectif salarié de l’entité\n",
    "    설립일 = info[13].text.replace('\\xa0copier\\xa0copié!','')           # Date de créatio\n",
    "\n",
    "    주소 = info[19].text.replace('\\xa0copier\\xa0copié!','') \n",
    "\n",
    "    기업명리스트.append(기업명)\n",
    "    주소리스트.append(주소)\n",
    "    활동여부리스트.append(활동여부)\n",
    "    주요활동_APE리스트.append(주요활동)\n",
    "    법적기업형태리스트_Nature_juridique.append(법적기업형태)\n",
    "    직원수리스트_Tranche_deffectif_salarié.append(직원수)\n",
    "    설립일리스트_Date_de_création.append(설립일)\n"
   ]
  },
  {
   "cell_type": "code",
   "execution_count": 23,
   "id": "071e28f3",
   "metadata": {},
   "outputs": [
    {
     "data": {
      "text/plain": [
       "20"
      ]
     },
     "execution_count": 23,
     "metadata": {},
     "output_type": "execute_result"
    }
   ],
   "source": [
    "len(info)"
   ]
  },
  {
   "cell_type": "code",
   "execution_count": 35,
   "id": "237da16d",
   "metadata": {},
   "outputs": [
    {
     "name": "stdout",
     "output_type": "stream",
     "text": [
      "Euro corse voyages\n",
      "1 rue jose luccioni, 20200 Bastia\n",
      "en activité\n",
      "49.39B - Autres transports routiers de voyageurs\n",
      "Société à responsabilité limitée (sans autre indication)\n",
      "Unité non employeuse (pas de salarié au cours de l'année de référence et pas d'effectif au 31/12)\n",
      "30/11/2007\n"
     ]
    }
   ],
   "source": [
    "print(기업명)\n",
    "print(주소)\n",
    "print(활동여부)\n",
    "print(주요활동)\n",
    "print(법적기업형태)\n",
    "print(직원수)\n",
    "print(설립일)"
   ]
  },
  {
   "cell_type": "code",
   "execution_count": 34,
   "id": "fd2b409d",
   "metadata": {},
   "outputs": [],
   "source": [
    "# 추출 잘 안됀 케이스 : siret 위에 두 줄이 추가돼있음 \n",
    "\n",
    "\n",
    "\n",
    "# test code : 추출이 잘 된 케이스 \n",
    "\n",
    "path = \"C:\\\\Users\\\\user\\\\chromedriver.exe\"\n",
    "driver = webdriver.Chrome(path)\n",
    "\n",
    "# 크롬 웹 드라이버 객체 생성.\n",
    "# 크롬드라이버로 크롬을 조작.\n",
    "\n",
    "# 기업 정보를 조회할 프랑스 웹사이트 \n",
    "driver.get(\"https://annuaire-entreprises.data.gouv.fr/etablissement/30401225500069\")\n",
    "#드라이버 객체에서 원하는 url로 이동.\n",
    "\n",
    "###############################################################\n",
    "######################## 기본 동작  ###########################\n",
    "driver.refresh() # 새로 고침\n",
    "# driver.quit() # 브라우저 종료\n",
    "\n",
    "\n",
    "\n",
    "기업명리스트 = []\n",
    "주소리스트 = []\n",
    "활동여부리스트 = []\n",
    "주요활동_APE리스트 = []\n",
    "법적기업형태리스트_Nature_juridique = []\n",
    "직원수리스트_Tranche_deffectif_salarié = []\n",
    "설립일리스트_Date_de_création = []\n",
    "\n",
    "siret = 30401225500069\n",
    "\n",
    "elem = driver.find_element_by_css_selector('#search-input-input')\n",
    "elem.send_keys(siret)\n",
    "elem.send_keys(Keys.RETURN)   # 엔터를 쳐서 입력\n",
    "elem = driver.find_element_by_css_selector('#page-layout > main > div > div.jsx-c751a9f3669be72c.header-section > div.jsx-c751a9f3669be72c.title > h1 > a')\n",
    "\n",
    "# bs4를 사용하기 위해, 현재 띄워놓은 창의 html 소스 코드 가져오기\n",
    "req = driver.page_source\n",
    "\n",
    "soup= BeautifulSoup(req, 'html.parser')\n",
    "\n",
    "elem = driver.find_element_by_xpath('//*[@id=\"page-layout\"]/main/div/div[1]/div[1]/div/span[2]/span')\n",
    "활동여부 = elem.text\n",
    "\n",
    "\n",
    "\n",
    "if not soup.find_all('p')[3].text[22:27] == 'fermé' : \n",
    "#if 활동여부 == 'en activité' :\n",
    "# 만약 공백이 하나도 없다면 \n",
    "#if not soup.find_all('i', 'jsx-63456455') : \n",
    "    # 업체명 \n",
    "    기업명 = soup.find_all('a')[5].text\n",
    "    info = soup.find_all('td')\n",
    "    \n",
    "    # 해당 if 문은 만약 페이지 구성이 달라지는 경우, 올바르게 정보를 추출할 수 있도록 추가한 구문. \n",
    "    # for example, when siret 30401265100051, 30401225500069\n",
    "    if len(info) > 20 : \n",
    "        gap = len(info)-20\n",
    "    \n",
    "    주요활동 = info[7+gap].text.replace('\\xa0copier\\xa0copié!','')\n",
    "    법적기업형태 = info[9+gap].text.replace('\\xa0copier\\xa0copié!','')     # Nature juridique\n",
    "    직원수 = info[11+gap].text.replace('\\xa0copier\\xa0copié!','')       # Tranche effectif salarié de l’entité\n",
    "    설립일 = info[13+gap].text.replace('\\xa0copier\\xa0copié!','')           # Date de créatio\n",
    "\n",
    "    주소 = info[19+gap].text.replace('\\xa0copier\\xa0copié!','') \n",
    "\n",
    "    기업명리스트.append(기업명)\n",
    "    주소리스트.append(주소)\n",
    "    활동여부리스트.append(활동여부)\n",
    "    주요활동_APE리스트.append(주요활동)\n",
    "    법적기업형태리스트_Nature_juridique.append(법적기업형태)\n",
    "    직원수리스트_Tranche_deffectif_salarié.append(직원수)\n",
    "    설립일리스트_Date_de_création.append(설립일)\n"
   ]
  },
  {
   "cell_type": "code",
   "execution_count": null,
   "id": "783c364d",
   "metadata": {},
   "outputs": [],
   "source": []
  }
 ],
 "metadata": {
  "kernelspec": {
   "display_name": "codingNJ",
   "language": "python",
   "name": "codingnj"
  },
  "language_info": {
   "codemirror_mode": {
    "name": "ipython",
    "version": 3
   },
   "file_extension": ".py",
   "mimetype": "text/x-python",
   "name": "python",
   "nbconvert_exporter": "python",
   "pygments_lexer": "ipython3",
   "version": "3.9.7"
  }
 },
 "nbformat": 4,
 "nbformat_minor": 5
}
