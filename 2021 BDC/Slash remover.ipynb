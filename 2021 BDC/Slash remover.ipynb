{
 "cells": [
  {
   "cell_type": "code",
   "execution_count": 1,
   "id": "c4835f9b",
   "metadata": {},
   "outputs": [],
   "source": [
    "import os\n",
    "import pandas as pd"
   ]
  },
  {
   "cell_type": "code",
   "execution_count": 14,
   "id": "302e62ec",
   "metadata": {},
   "outputs": [],
   "source": [
    "테스트 = pd.read_excel('신영국6.xlsx')"
   ]
  },
  {
   "cell_type": "code",
   "execution_count": 18,
   "id": "60231951",
   "metadata": {},
   "outputs": [
    {
     "data": {
      "text/plain": [
       "0         28062012\n",
       "1         12052011\n",
       "2         26112001\n",
       "3         30072010\n",
       "4         14042014\n",
       "            ...   \n",
       "199995    01092008\n",
       "199996    02112015\n",
       "199997    05072012\n",
       "199998    26052021\n",
       "199999    18032021\n",
       "Name: 설립일자, Length: 200000, dtype: object"
      ]
     },
     "execution_count": 18,
     "metadata": {},
     "output_type": "execute_result"
    }
   ],
   "source": [
    " = 테스트['설립일자'].apply(lambda x : x.replace('/',''))"
   ]
  },
  {
   "cell_type": "code",
   "execution_count": 5,
   "id": "705f63d2",
   "metadata": {},
   "outputs": [
    {
     "data": {
      "text/plain": [
       "['.conda',\n",
       " '.ipynb_checkpoints',\n",
       " '.ipython',\n",
       " '.jupyter',\n",
       " '3D Objects',\n",
       " 'anaconda3',\n",
       " 'AppData',\n",
       " 'Application Data',\n",
       " 'Britain excel sheet split.ipynb',\n",
       " 'chromedriver.exe',\n",
       " 'Contacts',\n",
       " 'Cookies',\n",
       " 'Crawling - French Company list.ipynb',\n",
       " 'Crawling-Korea Stock Market News.ipynb',\n",
       " 'Crawling-Vietnamese Companylists.ipynb',\n",
       " 'Desktop',\n",
       " 'Documents',\n",
       " 'Downloads',\n",
       " 'Favorites',\n",
       " 'Links',\n",
       " 'Local Settings',\n",
       " 'MicrosoftEdgeBackups',\n",
       " 'Music',\n",
       " 'My Documents',\n",
       " 'NetHood',\n",
       " 'NTUSER.DAT',\n",
       " 'ntuser.dat.LOG1',\n",
       " 'ntuser.dat.LOG2',\n",
       " 'NTUSER.DAT{53b39e88-18c4-11ea-a811-000d3aa4692b}.TM.blf',\n",
       " 'NTUSER.DAT{53b39e88-18c4-11ea-a811-000d3aa4692b}.TMContainer00000000000000000001.regtrans-ms',\n",
       " 'NTUSER.DAT{53b39e88-18c4-11ea-a811-000d3aa4692b}.TMContainer00000000000000000002.regtrans-ms',\n",
       " 'ntuser.ini',\n",
       " 'OneDrive',\n",
       " 'Pictures',\n",
       " 'PrintHood',\n",
       " 'Recent',\n",
       " 'Saved Games',\n",
       " 'Searches',\n",
       " 'SendTo',\n",
       " 'Slash remover.ipynb',\n",
       " 'Templates',\n",
       " 'Videos',\n",
       " 'Vietnam Data integration.ipynb',\n",
       " '데이터클렌징_재무정보_한국_V01_20220106.xlsx',\n",
       " '베트남 크롤링',\n",
       " '시작 메뉴',\n",
       " '신영국10.xlsx',\n",
       " '신영국11.xlsx',\n",
       " '신영국12.xlsx',\n",
       " '신영국13.xlsx',\n",
       " '신영국14.xlsx',\n",
       " '신영국15.xlsx',\n",
       " '신영국16.xlsx',\n",
       " '신영국17.xlsx',\n",
       " '신영국18.xlsx',\n",
       " '신영국19.xlsx',\n",
       " '신영국20.xlsx',\n",
       " '신영국21.xlsx',\n",
       " '신영국22.xlsx',\n",
       " '신영국23.xlsx',\n",
       " '신영국24.xlsx',\n",
       " '신영국25.xlsx',\n",
       " '신영국26.xlsx',\n",
       " '신영국27.xlsx',\n",
       " '신영국28.xlsx',\n",
       " '신영국29.xlsx',\n",
       " '신영국6.xlsx',\n",
       " '신영국7.xlsx',\n",
       " '신영국8.xlsx',\n",
       " '신영국9.xlsx',\n",
       " '한꺼번에 마일리지 결과조회(Final).ipynb']"
      ]
     },
     "execution_count": 5,
     "metadata": {},
     "output_type": "execute_result"
    }
   ],
   "source": [
    "os.listdir()"
   ]
  },
  {
   "cell_type": "code",
   "execution_count": 6,
   "id": "f1f6cc82",
   "metadata": {},
   "outputs": [
    {
     "data": {
      "text/plain": [
       "45"
      ]
     },
     "execution_count": 6,
     "metadata": {},
     "output_type": "execute_result"
    }
   ],
   "source": [
    "70-25"
   ]
  },
  {
   "cell_type": "code",
   "execution_count": 12,
   "id": "037ddd43",
   "metadata": {},
   "outputs": [],
   "source": [
    "file_list = os.listdir()[46:70]"
   ]
  },
  {
   "cell_type": "code",
   "execution_count": 13,
   "id": "8273754f",
   "metadata": {},
   "outputs": [
    {
     "data": {
      "text/plain": [
       "'신영국10.xlsx'"
      ]
     },
     "execution_count": 13,
     "metadata": {},
     "output_type": "execute_result"
    }
   ],
   "source": [
    "file_list[0]"
   ]
  },
  {
   "cell_type": "code",
   "execution_count": 19,
   "id": "44ad5381",
   "metadata": {},
   "outputs": [],
   "source": [
    "for file in file_list : \n",
    "    to_preprocess = pd.read_excel(file)\n",
    "    to_preprocess['설립일자'] = to_preprocess['설립일자'].apply(lambda x : x.replace('/','')) \n",
    "    to_preprocess.to_excel(file)"
   ]
  },
  {
   "cell_type": "code",
   "execution_count": null,
   "id": "185da2c1",
   "metadata": {},
   "outputs": [],
   "source": []
  }
 ],
 "metadata": {
  "kernelspec": {
   "display_name": "codingNJ",
   "language": "python",
   "name": "codingnj"
  },
  "language_info": {
   "codemirror_mode": {
    "name": "ipython",
    "version": 3
   },
   "file_extension": ".py",
   "mimetype": "text/x-python",
   "name": "python",
   "nbconvert_exporter": "python",
   "pygments_lexer": "ipython3",
   "version": "3.9.7"
  }
 },
 "nbformat": 4,
 "nbformat_minor": 5
}
