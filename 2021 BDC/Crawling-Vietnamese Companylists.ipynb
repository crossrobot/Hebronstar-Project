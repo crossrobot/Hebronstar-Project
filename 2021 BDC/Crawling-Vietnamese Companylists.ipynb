{
 "cells": [
  {
   "cell_type": "markdown",
   "id": "0f3d1a17",
   "metadata": {},
   "source": [
    "# Part1 Crawling"
   ]
  },
  {
   "cell_type": "code",
   "execution_count": 1,
   "id": "80e7d6a9",
   "metadata": {},
   "outputs": [],
   "source": [
    "import selenium\n",
    "import bs4\n",
    "import pandas as pd\n",
    "from selenium.webdriver.common.keys import Keys\n",
    "from selenium import webdriver\n",
    "from bs4 import BeautifulSoup\n",
    "import time\n",
    "import html5lib\n",
    "import requests\n",
    "import math\n",
    "\n",
    "path = \"C:\\\\Users\\\\user\\\\chromedriver.exe\"\n",
    "driver = webdriver.Chrome(path)\n",
    "# 크롬 웹 드라이버 객체 생성.\n",
    "# 크롬드라이버로 크롬을 조작.\n",
    "\n",
    "driver.get(\"https://thongtindoanhnghiep.vcci.com.vn/nganh-nghe/104/cong-nghiep-che-bien-che-tao\")\n",
    "#드라이버 객체에서 원하는 url로 이동.\n",
    "\n",
    "###############################################################\n",
    "######################## 기본 동작  ###########################\n",
    "driver.refresh() # 새로 고침\n",
    "# driver.quit() # 브라우저 종료"
   ]
  },
  {
   "cell_type": "code",
   "execution_count": 2,
   "id": "315f9b87",
   "metadata": {},
   "outputs": [],
   "source": [
    "# 필요한 함수 \n",
    "def get_html(url):\n",
    "   _html = \"\"\n",
    "   resp = requests.get(url)\n",
    "   if resp.status_code == 200:\n",
    "      _html = resp.text\n",
    "   return _html"
   ]
  },
  {
   "cell_type": "code",
   "execution_count": 3,
   "id": "dfc4f113",
   "metadata": {},
   "outputs": [],
   "source": [
    "현지언어기업명리스트=[]\n",
    "영문기업명리스트=[]\n",
    "기업대표전화번호리스트=[]\n",
    "대표팩스번호리스트=[]\n",
    "대표이메일리스트=[]\n",
    "기업홈페이지URL리스트=[]\n",
    "현지언어기업주소리스트=[]\n",
    "현지언어주요제품내용리스트 = []"
   ]
  },
  {
   "cell_type": "code",
   "execution_count": 1,
   "id": "844914a0",
   "metadata": {},
   "outputs": [
    {
     "data": {
      "text/plain": [
       "0"
      ]
     },
     "execution_count": 1,
     "metadata": {},
     "output_type": "execute_result"
    }
   ],
   "source": [
    "150 % 1"
   ]
  },
  {
   "cell_type": "code",
   "execution_count": 10,
   "id": "69797a5c",
   "metadata": {},
   "outputs": [
    {
     "data": {
      "text/plain": [
       "42160"
      ]
     },
     "execution_count": 10,
     "metadata": {},
     "output_type": "execute_result"
    }
   ],
   "source": [
    "43540-69*20"
   ]
  },
  {
   "cell_type": "code",
   "execution_count": 11,
   "id": "edec1351",
   "metadata": {},
   "outputs": [
    {
     "data": {
      "text/plain": [
       "'https://thongtindoanhnghiep.vcci.com.vn/nganh-nghe/104/cong-nghiep-che-bien-che-tao/43540'"
      ]
     },
     "execution_count": 11,
     "metadata": {},
     "output_type": "execute_result"
    }
   ],
   "source": [
    "front_page_link"
   ]
  },
  {
   "cell_type": "code",
   "execution_count": null,
   "id": "698f9360",
   "metadata": {
    "scrolled": true
   },
   "outputs": [],
   "source": [
    "# 첫 프론트 페이지 (page1909부터)\n",
    "front_page_link = 'https://thongtindoanhnghiep.vcci.com.vn/nganh-nghe/104/cong-nghiep-che-bien-che-tao/42160'\n",
    "\n",
    " \n",
    "for iter_num in range(1000) : \n",
    "    driver.get(front_page_link)\n",
    "\n",
    "    #  page_source : 현재 활성창의 소스코드를 갖고옴\n",
    "    req = driver.page_source\n",
    "\n",
    "    # 프론트 페이지 안에 보이는 모든 기업들의 상세 설명 페이지 링크 갖고오기 \n",
    "    frontpage_soup = BeautifulSoup(req, 'html.parser')\n",
    "    div_items = frontpage_soup.find_all(\"div\", {\"class\" : \"item-home\"})\n",
    "\n",
    "    # hrefs : 프론트 페이지에 있는 모든 상세페이지 링크들\n",
    "    # [div.find(\"a\")...] 이 코드는 div_items에 있는 것을 div로 뽑고\n",
    "    # div 안에 있는 a 태그를 찾아서 거기에 있는 href 속성을 뽑아내서 다시 list로 만들라는 뜻\n",
    "    hrefs = [div.find(\"a\")['href'] for div in div_items]\n",
    "\n",
    "    ['현지언어기업명','영문기업명','기업대표전화번호','대표팩스번호','대표이메일','기업홈페이지URL','현지언어기업주소']\n",
    "\n",
    "    for link in hrefs : \n",
    "        try : \n",
    "            driver.get(link)\n",
    "            # 현재 활성창의 페이지 갖고오기 \n",
    "            req = driver.page_source\n",
    "            soup = BeautifulSoup(req, 'html.parser')\n",
    "            tbodytext = soup.find_all('tbody')[0].text\n",
    "\n",
    "\n",
    "            현지언어기업명 = soup.find('h1').text\n",
    "            영문기업명 = tbodytext.split('\\n')[1]\n",
    "            기업대표전화번호 = tbodytext.split('\\n')[10]\n",
    "            대표팩스번호 = tbodytext.split('\\n')[13]\n",
    "            대표이메일 = tbodytext.split('\\n')[16]\n",
    "            기업홈페이지URL = tbodytext.split('\\n')[19]\n",
    "            현지언어기업주소 = tbodytext.split('\\n')[7]\n",
    "            현지언어주요제품내용 = tbodytext.split('\\n')[22]\n",
    "\n",
    "\n",
    "            현지언어기업명리스트.append(현지언어기업명)\n",
    "            영문기업명리스트.append(영문기업명)\n",
    "            기업대표전화번호리스트.append(영문기업명)\n",
    "            대표팩스번호리스트.append(대표팩스번호)\n",
    "            대표이메일리스트.append(대표이메일)\n",
    "            기업홈페이지URL리스트.append(기업홈페이지URL)\n",
    "            현지언어기업주소리스트.append(현지언어기업주소)\n",
    "            현지언어주요제품내용리스트.append(현지언어주요제품내용)\n",
    "            \n",
    "        except : pass\n",
    "    \n",
    "    # 프론트 페이지로 이동\n",
    "    driver.get(front_page_link)\n",
    "    time.sleep(2)\n",
    "    \n",
    "    # 다음 프론트 페이지로 이동\n",
    "    pagelinks = frontpage_soup.find('div', {'class' : 'pagenavi'})\n",
    "    front_page_link = pagelinks.find_all('a')[-2]['href']\n",
    "    \n",
    "    time.sleep(2)\n",
    "    \n",
    "    \n",
    "    if (iter_num+1)%50 == 0 : \n",
    "        print(\"It's alive. Don't kill it! \")\n",
    "    \n",
    "    # 페이지가 300페이지를 초과할 때마다 데이터를 저장.\n",
    "    if (iter_num+1)%200 ==0  : \n",
    "        dict = {\n",
    "            '현지언어기업명' : 현지언어기업명리스트,\n",
    "            '영문기업명' : 영문기업명리스트,\n",
    "            '기업대표전화번호' : 기업대표전화번호리스트,\n",
    "            '대표팩스전화번호' : 대표팩스번호리스트,\n",
    "            '대표이메일' : 대표이메일리스트,\n",
    "            '기업홈페이지URL' : 기업홈페이지URL리스트,\n",
    "            '현지언어기업주소' : 현지언어기업주소리스트,\n",
    "            '현지언어주요제품내용' : 현지언어주요제품내용리스트\n",
    "        }\n",
    "        \n",
    "        result_df = pd.DataFrame(dict)\n",
    "        save_name = 'vietanmese_companylist'+str(iter_num+1)+'.xlsx'\n",
    "        result_df.to_excel(save_name, index=False)\n",
    "        print(f\"it's working well, now it has just exceeded {iter_num+1} page\")\n",
    "        \n",
    "        # reset\n",
    "        현지언어기업명리스트=[]\n",
    "        영문기업명리스트=[]\n",
    "        기업대표전화번호리스트=[]\n",
    "        대표팩스번호리스트=[]\n",
    "        대표이메일리스트=[]\n",
    "        기업홈페이지URL리스트=[]\n",
    "        현지언어기업주소리스트=[]\n",
    "        현지언어주요제품내용리스트=[]"
   ]
  },
  {
   "cell_type": "code",
   "execution_count": 7,
   "id": "a84cb547",
   "metadata": {},
   "outputs": [
    {
     "data": {
      "text/plain": [
       "'\\nTên Tiếng Anh:\\n\\n\\nMã số thuế:1300234995-001\\n\\n\\nĐịa chỉ:144C, khu phố 3, Nguyễn Văn Tư - Phường 7 - Thành phố Bến Tre - Bến Tre\\n\\n\\nĐiện thoại:\\n\\n\\nFax:\\n\\n\\nEmail:\\n\\n\\nWebsite:\\n\\n\\nLĩnh vực kinh doanh:Chế biến và bảo quản rau quả\\n\\n\\nTình trạng:Đang hoạt động\\n\\n'"
      ]
     },
     "execution_count": 7,
     "metadata": {},
     "output_type": "execute_result"
    }
   ],
   "source": [
    "tbodytext"
   ]
  },
  {
   "cell_type": "markdown",
   "id": "f54c490d",
   "metadata": {},
   "source": [
    "# Part 3 Data Integration "
   ]
  },
  {
   "cell_type": "code",
   "execution_count": 42,
   "id": "2351af0c",
   "metadata": {},
   "outputs": [],
   "source": [
    "company_list1 = pd.read_excel('vietnamese_companylist[1.p~300.p].xlsx')\n",
    "company_list2 = pd.read_excel('vietnamese_companylist[301.p~508.p].xlsx')\n",
    "company_list3 = pd.read_excel('vietnamese_companylist[p.509~808].xlsx')\n",
    "company_list4 = pd.read_excel('vietnamese_companylist[p.809~1108].xlsx')\n",
    "company_list5 = pd.read_excel('vietnamese_companylist[p.1109~1308].xlsx')\n",
    "company_list6 = pd.read_excel('vietnamese_companylist[p.1309~1508].xlsx')\n",
    "company_list7 = pd.read_excel('vietnamese_companylist[p.1509~1708].xlsx')\n",
    "company_list8 = pd.read_excel('vietnamese_companylist[p.1709~1908].xlsx')"
   ]
  },
  {
   "cell_type": "code",
   "execution_count": 49,
   "id": "b6fe6906",
   "metadata": {},
   "outputs": [],
   "source": [
    "integrated_result = pd.concat([company_list1,company_list2,company_list3,company_list4,company_list5,company_list6,company_list7,company_list8])"
   ]
  },
  {
   "cell_type": "code",
   "execution_count": 52,
   "id": "3654fa39",
   "metadata": {},
   "outputs": [],
   "source": [
    "integrated_result['영문기업명']=integrated_result['영문기업명'].apply(lambda x : x.replace('Tên Tiếng Anh:',''))\n",
    "integrated_result['대표팩스전화번호']=integrated_result['대표팩스전화번호'].apply(lambda x : x.replace('Fax:',''))\n",
    "integrated_result['대표이메일']=integrated_result['대표이메일'].apply(lambda x : x.replace('Email:',''))\n",
    "integrated_result['기업홈페이지URL']=integrated_result['기업홈페이지URL'].apply(lambda x : x.replace('Website:',''))\n",
    "integrated_result['현지언어기업주소']=integrated_result['현지언어기업주소'].apply(lambda x : x.replace('Địa chỉ:',''))\n",
    "integrated_result['현지언어주요제품내용']=integrated_result['현지언어주요제품내용'].apply(lambda x : str(x))\n",
    "integrated_result['현지언어주요제품내용']=integrated_result['현지언어주요제품내용'].apply(lambda x : x.replace('Lĩnh vực kinh doanh:',''))"
   ]
  },
  {
   "cell_type": "code",
   "execution_count": 53,
   "id": "365a7954",
   "metadata": {
    "scrolled": true
   },
   "outputs": [
    {
     "data": {
      "text/html": [
       "<div>\n",
       "<style scoped>\n",
       "    .dataframe tbody tr th:only-of-type {\n",
       "        vertical-align: middle;\n",
       "    }\n",
       "\n",
       "    .dataframe tbody tr th {\n",
       "        vertical-align: top;\n",
       "    }\n",
       "\n",
       "    .dataframe thead th {\n",
       "        text-align: right;\n",
       "    }\n",
       "</style>\n",
       "<table border=\"1\" class=\"dataframe\">\n",
       "  <thead>\n",
       "    <tr style=\"text-align: right;\">\n",
       "      <th></th>\n",
       "      <th>현지언어기업명</th>\n",
       "      <th>영문기업명</th>\n",
       "      <th>기업대표전화번호</th>\n",
       "      <th>대표팩스전화번호</th>\n",
       "      <th>대표이메일</th>\n",
       "      <th>기업홈페이지URL</th>\n",
       "      <th>현지언어기업주소</th>\n",
       "      <th>현지언어주요제품내용</th>\n",
       "    </tr>\n",
       "  </thead>\n",
       "  <tbody>\n",
       "    <tr>\n",
       "      <th>0</th>\n",
       "      <td>Công Ty TNHH Yusheng Việt Nam</td>\n",
       "      <td>Yusheng Vietnam Company Limited</td>\n",
       "      <td>Tên Tiếng Anh:Yusheng Vietnam Company Limited</td>\n",
       "      <td></td>\n",
       "      <td></td>\n",
       "      <td></td>\n",
       "      <td>LE-04.36, Tầng 4, Block E, Lexington Residence...</td>\n",
       "      <td>nan</td>\n",
       "    </tr>\n",
       "    <tr>\n",
       "      <th>1</th>\n",
       "      <td>Công Ty TNHH Inox Cn</td>\n",
       "      <td>Inox Cn Company Limited</td>\n",
       "      <td>Tên Tiếng Anh:Inox Cn Company Limited</td>\n",
       "      <td></td>\n",
       "      <td></td>\n",
       "      <td></td>\n",
       "      <td>26/41/2/15 Võ Văn Vân, Phường Tân Tạo, Quận Bì...</td>\n",
       "      <td>nan</td>\n",
       "    </tr>\n",
       "    <tr>\n",
       "      <th>2</th>\n",
       "      <td>Công Ty TNHH Thiết Kế In Ấn Gia Nguyễn</td>\n",
       "      <td></td>\n",
       "      <td>Tên Tiếng Anh:</td>\n",
       "      <td></td>\n",
       "      <td></td>\n",
       "      <td></td>\n",
       "      <td>17 đường số 9, Phường Bình Hưng Hòa A, Quận Bì...</td>\n",
       "      <td>nan</td>\n",
       "    </tr>\n",
       "    <tr>\n",
       "      <th>3</th>\n",
       "      <td>Công Ty TNHH 3p Tech</td>\n",
       "      <td></td>\n",
       "      <td>Tên Tiếng Anh:</td>\n",
       "      <td></td>\n",
       "      <td></td>\n",
       "      <td></td>\n",
       "      <td>Phòng 701 lô 14, tòa thương mại Cát Tường Eco,...</td>\n",
       "      <td>nan</td>\n",
       "    </tr>\n",
       "    <tr>\n",
       "      <th>4</th>\n",
       "      <td>Công Ty TNHH Xây Dựng Và Thương Mại Triều Thiện</td>\n",
       "      <td>Trieu Thien Trading And Construction Company L...</td>\n",
       "      <td>Tên Tiếng Anh:Trieu Thien Trading And Construc...</td>\n",
       "      <td></td>\n",
       "      <td></td>\n",
       "      <td></td>\n",
       "      <td>Lô A19 Khu tái định cư khách sạn Sầm Sơn, Đườn...</td>\n",
       "      <td>nan</td>\n",
       "    </tr>\n",
       "  </tbody>\n",
       "</table>\n",
       "</div>"
      ],
      "text/plain": [
       "                                           현지언어기업명  \\\n",
       "0                    Công Ty TNHH Yusheng Việt Nam   \n",
       "1                             Công Ty TNHH Inox Cn   \n",
       "2           Công Ty TNHH Thiết Kế In Ấn Gia Nguyễn   \n",
       "3                             Công Ty TNHH 3p Tech   \n",
       "4  Công Ty TNHH Xây Dựng Và Thương Mại Triều Thiện   \n",
       "\n",
       "                                               영문기업명  \\\n",
       "0                    Yusheng Vietnam Company Limited   \n",
       "1                            Inox Cn Company Limited   \n",
       "2                                                      \n",
       "3                                                      \n",
       "4  Trieu Thien Trading And Construction Company L...   \n",
       "\n",
       "                                            기업대표전화번호 대표팩스전화번호 대표이메일 기업홈페이지URL  \\\n",
       "0      Tên Tiếng Anh:Yusheng Vietnam Company Limited                            \n",
       "1              Tên Tiếng Anh:Inox Cn Company Limited                            \n",
       "2                                     Tên Tiếng Anh:                            \n",
       "3                                     Tên Tiếng Anh:                            \n",
       "4  Tên Tiếng Anh:Trieu Thien Trading And Construc...                            \n",
       "\n",
       "                                            현지언어기업주소 현지언어주요제품내용  \n",
       "0  LE-04.36, Tầng 4, Block E, Lexington Residence...        nan  \n",
       "1  26/41/2/15 Võ Văn Vân, Phường Tân Tạo, Quận Bì...        nan  \n",
       "2  17 đường số 9, Phường Bình Hưng Hòa A, Quận Bì...        nan  \n",
       "3  Phòng 701 lô 14, tòa thương mại Cát Tường Eco,...        nan  \n",
       "4  Lô A19 Khu tái định cư khách sạn Sầm Sơn, Đườn...        nan  "
      ]
     },
     "execution_count": 53,
     "metadata": {},
     "output_type": "execute_result"
    }
   ],
   "source": [
    "integrated_result.head()"
   ]
  },
  {
   "cell_type": "code",
   "execution_count": 54,
   "id": "fe90d677",
   "metadata": {
    "scrolled": true
   },
   "outputs": [
    {
     "data": {
      "text/html": [
       "<div>\n",
       "<style scoped>\n",
       "    .dataframe tbody tr th:only-of-type {\n",
       "        vertical-align: middle;\n",
       "    }\n",
       "\n",
       "    .dataframe tbody tr th {\n",
       "        vertical-align: top;\n",
       "    }\n",
       "\n",
       "    .dataframe thead th {\n",
       "        text-align: right;\n",
       "    }\n",
       "</style>\n",
       "<table border=\"1\" class=\"dataframe\">\n",
       "  <thead>\n",
       "    <tr style=\"text-align: right;\">\n",
       "      <th></th>\n",
       "      <th>현지언어기업명</th>\n",
       "      <th>영문기업명</th>\n",
       "      <th>기업대표전화번호</th>\n",
       "      <th>대표팩스전화번호</th>\n",
       "      <th>대표이메일</th>\n",
       "      <th>기업홈페이지URL</th>\n",
       "      <th>현지언어기업주소</th>\n",
       "      <th>현지언어주요제품내용</th>\n",
       "    </tr>\n",
       "  </thead>\n",
       "  <tbody>\n",
       "    <tr>\n",
       "      <th>3995</th>\n",
       "      <td>Công Ty TNHH Thương Mại Sản Xuất Dnv</td>\n",
       "      <td>Dnv Production Trading Company Limited</td>\n",
       "      <td>Tên Tiếng Anh:Dnv Production Trading Company L...</td>\n",
       "      <td></td>\n",
       "      <td></td>\n",
       "      <td></td>\n",
       "      <td>1633 Tỉnh Lộ 10, Khu phố 5, Phường Tân Tạo A, ...</td>\n",
       "      <td>Gia công cơ khí; xử lý và tráng phủ kim loại</td>\n",
       "    </tr>\n",
       "    <tr>\n",
       "      <th>3996</th>\n",
       "      <td>Công Ty TNHH Sản Xuất Thương Mại Phạm Hùng</td>\n",
       "      <td>Pham Hung Trade Produce Limited Liability Company</td>\n",
       "      <td>Tên Tiếng Anh:Pham Hung Trade Produce Limited ...</td>\n",
       "      <td></td>\n",
       "      <td></td>\n",
       "      <td></td>\n",
       "      <td>KV Thới Ngươn B, Phường Phước Thới, Quận Ô Môn...</td>\n",
       "      <td>Sản xuất sản phẩm từ plastic</td>\n",
       "    </tr>\n",
       "    <tr>\n",
       "      <th>3997</th>\n",
       "      <td>Công Ty TNHH Thái Hà Lạng Sơn</td>\n",
       "      <td>Công Ty TNHH Thái Hà Lạng Sơn</td>\n",
       "      <td>Tên Tiếng Anh:Công Ty TNHH Thái Hà Lạng Sơn</td>\n",
       "      <td></td>\n",
       "      <td></td>\n",
       "      <td></td>\n",
       "      <td>Số 8, lô LK.CS5, khu đô thị Phú Lộc IV, Phường...</td>\n",
       "      <td>Chế biến và bảo quản rau quả</td>\n",
       "    </tr>\n",
       "    <tr>\n",
       "      <th>3998</th>\n",
       "      <td>Công Ty TNHH Tổng Hợp Bắc Hoàng Gia</td>\n",
       "      <td>Bac Hoang Gia General Company Limited</td>\n",
       "      <td>Tên Tiếng Anh:Bac Hoang Gia General Company Li...</td>\n",
       "      <td></td>\n",
       "      <td></td>\n",
       "      <td></td>\n",
       "      <td>Số 23, ngách 32/84/57 Đỗ Đức Dục, Phường Mễ Tr...</td>\n",
       "      <td>Gia công cơ khí; xử lý và tráng phủ kim loại</td>\n",
       "    </tr>\n",
       "    <tr>\n",
       "      <th>3999</th>\n",
       "      <td>Công Ty TNHH May An Nam</td>\n",
       "      <td>May An Nam Company Limited</td>\n",
       "      <td>Tên Tiếng Anh:May An Nam Company Limited</td>\n",
       "      <td></td>\n",
       "      <td></td>\n",
       "      <td></td>\n",
       "      <td>Số nhà 33, ngõ 27, đường Tây Mỗ, TDP Phú Thứ, ...</td>\n",
       "      <td>May trang phục (trừ trang phục từ da lông thú)</td>\n",
       "    </tr>\n",
       "  </tbody>\n",
       "</table>\n",
       "</div>"
      ],
      "text/plain": [
       "                                         현지언어기업명  \\\n",
       "3995        Công Ty TNHH Thương Mại Sản Xuất Dnv   \n",
       "3996  Công Ty TNHH Sản Xuất Thương Mại Phạm Hùng   \n",
       "3997               Công Ty TNHH Thái Hà Lạng Sơn   \n",
       "3998         Công Ty TNHH Tổng Hợp Bắc Hoàng Gia   \n",
       "3999                     Công Ty TNHH May An Nam   \n",
       "\n",
       "                                                  영문기업명  \\\n",
       "3995             Dnv Production Trading Company Limited   \n",
       "3996  Pham Hung Trade Produce Limited Liability Company   \n",
       "3997                      Công Ty TNHH Thái Hà Lạng Sơn   \n",
       "3998              Bac Hoang Gia General Company Limited   \n",
       "3999                         May An Nam Company Limited   \n",
       "\n",
       "                                               기업대표전화번호 대표팩스전화번호 대표이메일  \\\n",
       "3995  Tên Tiếng Anh:Dnv Production Trading Company L...                  \n",
       "3996  Tên Tiếng Anh:Pham Hung Trade Produce Limited ...                  \n",
       "3997        Tên Tiếng Anh:Công Ty TNHH Thái Hà Lạng Sơn                  \n",
       "3998  Tên Tiếng Anh:Bac Hoang Gia General Company Li...                  \n",
       "3999           Tên Tiếng Anh:May An Nam Company Limited                  \n",
       "\n",
       "     기업홈페이지URL                                           현지언어기업주소  \\\n",
       "3995            1633 Tỉnh Lộ 10, Khu phố 5, Phường Tân Tạo A, ...   \n",
       "3996            KV Thới Ngươn B, Phường Phước Thới, Quận Ô Môn...   \n",
       "3997            Số 8, lô LK.CS5, khu đô thị Phú Lộc IV, Phường...   \n",
       "3998            Số 23, ngách 32/84/57 Đỗ Đức Dục, Phường Mễ Tr...   \n",
       "3999            Số nhà 33, ngõ 27, đường Tây Mỗ, TDP Phú Thứ, ...   \n",
       "\n",
       "                                          현지언어주요제품내용  \n",
       "3995    Gia công cơ khí; xử lý và tráng phủ kim loại  \n",
       "3996                    Sản xuất sản phẩm từ plastic  \n",
       "3997                    Chế biến và bảo quản rau quả  \n",
       "3998    Gia công cơ khí; xử lý và tráng phủ kim loại  \n",
       "3999  May trang phục (trừ trang phục từ da lông thú)  "
      ]
     },
     "execution_count": 54,
     "metadata": {},
     "output_type": "execute_result"
    }
   ],
   "source": [
    "integrated_result.tail()"
   ]
  },
  {
   "cell_type": "code",
   "execution_count": 55,
   "id": "31394567",
   "metadata": {},
   "outputs": [],
   "source": [
    "integrated_result.to_excel('integrated_vietnamese_companylist.xlsx', encoding = 'utf8')"
   ]
  },
  {
   "cell_type": "code",
   "execution_count": 4,
   "id": "8509f99c",
   "metadata": {},
   "outputs": [],
   "source": [
    "# 한 페이지당 탐색 시간 14초\n",
    "# 한 페이지당 수록 기업 개수 20개 \n",
    "\n",
    "def 소요시간계산기(데이터수) : \n",
    "    페이지수 = 데이터수 / 20 \n",
    "\n",
    "    # Scenario 1 \n",
    "    print(f\"{데이터수}개 기업 크롤링 시 예상소요시간 : {14*페이지수/60/60} 시간\")\n",
    "    print(f\"필요한 페이지수 : {페이지수}\")\n",
    "\n"
   ]
  },
  {
   "cell_type": "code",
   "execution_count": 5,
   "id": "f0403a12",
   "metadata": {},
   "outputs": [
    {
     "name": "stdout",
     "output_type": "stream",
     "text": [
      "16000개 기업 크롤링 시 예상소요시간 : 3.111111111111111 시간\n",
      "필요한 페이지수 : 800.0\n"
     ]
    }
   ],
   "source": [
    "소요시간계산기(16000)"
   ]
  },
  {
   "cell_type": "code",
   "execution_count": 2,
   "id": "4db0a3c3",
   "metadata": {},
   "outputs": [
    {
     "data": {
      "text/plain": [
       "16000"
      ]
     },
     "execution_count": 2,
     "metadata": {},
     "output_type": "execute_result"
    }
   ],
   "source": [
    "800*20"
   ]
  },
  {
   "cell_type": "code",
   "execution_count": null,
   "id": "fc7df10d",
   "metadata": {},
   "outputs": [],
   "source": []
  }
 ],
 "metadata": {
  "kernelspec": {
   "display_name": "codingNJ",
   "language": "python",
   "name": "codingnj"
  },
  "language_info": {
   "codemirror_mode": {
    "name": "ipython",
    "version": 3
   },
   "file_extension": ".py",
   "mimetype": "text/x-python",
   "name": "python",
   "nbconvert_exporter": "python",
   "pygments_lexer": "ipython3",
   "version": "3.9.7"
  }
 },
 "nbformat": 4,
 "nbformat_minor": 5
}
