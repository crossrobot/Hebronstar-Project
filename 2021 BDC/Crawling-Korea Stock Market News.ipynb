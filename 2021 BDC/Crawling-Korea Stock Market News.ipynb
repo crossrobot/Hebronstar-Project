{
 "cells": [
  {
   "cell_type": "code",
   "execution_count": 17,
   "id": "a19ad273",
   "metadata": {},
   "outputs": [],
   "source": [
    "import pandas as pd\n",
    "import os"
   ]
  },
  {
   "cell_type": "code",
   "execution_count": 18,
   "id": "29bf869d",
   "metadata": {},
   "outputs": [],
   "source": [
    "한국재무정보 = pd.read_excel('데이터클렌징_재무정보_한국_V01_20220106.xlsx')"
   ]
  },
  {
   "cell_type": "code",
   "execution_count": 19,
   "id": "25de3a8f",
   "metadata": {},
   "outputs": [
    {
     "data": {
      "text/plain": [
       "'안녕하세요'"
      ]
     },
     "execution_count": 19,
     "metadata": {},
     "output_type": "execute_result"
    }
   ],
   "source": [
    "'0'*0 + '안녕하세요'"
   ]
  },
  {
   "cell_type": "code",
   "execution_count": 20,
   "id": "516e6285",
   "metadata": {},
   "outputs": [],
   "source": [
    "한국재무정보['상장코드'] = 한국재무정보['상장코드'].apply(lambda x : (6-len(str(x)))*'0'+str(x))"
   ]
  },
  {
   "cell_type": "markdown",
   "id": "a59b3e59",
   "metadata": {},
   "source": [
    "# Part1 Crawling Module \n",
    "\n",
    "referemce : \n",
    "\n",
    "https://jenn1won.tistory.com/20"
   ]
  },
  {
   "cell_type": "code",
   "execution_count": 21,
   "id": "cd69c7e6",
   "metadata": {},
   "outputs": [],
   "source": [
    "import pandas as pd \n",
    "from selenium import webdriver \n",
    "from selenium.webdriver.common.keys import Keys \n",
    "from selenium.common.exceptions import NoSuchElementException \n",
    "import time \n",
    "import re \n",
    "from tqdm import tqdm \n",
    "import selenium\n",
    "import bs4\n",
    "from selenium import webdriver\n",
    "from bs4 import BeautifulSoup\n",
    "import html5lib\n",
    "import requests\n",
    "import math"
   ]
  },
  {
   "cell_type": "code",
   "execution_count": 22,
   "id": "c8807f78",
   "metadata": {},
   "outputs": [],
   "source": [
    "# 하나의 페이지에서 뉴스 20개 긁어오기 \n",
    "def get_naver_news_urls(fund, search, source): \n",
    "    # source(html)를 입력으로 \n",
    "    results = [] \n",
    "    soup = BeautifulSoup(source, 'html.parser') \n",
    "    title_list = soup.find_all(attrs={'class':'articleSubject'}) \n",
    "    press_list = soup.find_all(attrs={'class' : 'press'})\n",
    "    date_list = soup.find_all(attrs={'class' : 'wdate'})\n",
    "    \n",
    "    for index,li in enumerate(title_list): \n",
    "        title = 'NA' \n",
    "        naver_url = 'NA' \n",
    "        fund = fund \n",
    "        search = search \n",
    "        title = li.text.strip() \n",
    "        url = 'https://finance.naver.com'+li.find('a').get('href') \n",
    "        press = press_list[index].text\n",
    "        date = date_list[index].text.strip()[0:10]\n",
    "        date = date.replace('-','')\n",
    "        results.append([fund, search, title, url,press,date]) \n",
    "    \n",
    "    return results"
   ]
  },
  {
   "cell_type": "code",
   "execution_count": 23,
   "id": "a43159ed",
   "metadata": {},
   "outputs": [],
   "source": [
    "def get_1(fund, search): \n",
    "    page1_results = [] \n",
    "    total_results = [] \n",
    "    driver.get('https://finance.naver.com/news/')  \n",
    "    search = search\n",
    "    driver.find_element_by_xpath('//*[@id=\"newsMainTop\"]/div/div[2]/form/div/input').click()           #검색창클릭\n",
    "    driver.find_element_by_xpath('//*[@id=\"newsMainTop\"]/div/div[2]/form/div/input').send_keys(search) #종목입력 \n",
    "    driver.find_element_by_xpath('//*[@id=\"newsMainTop\"]/div/div[2]/form/div/a/input').click()         #검색클릭\n",
    "    time.sleep(0.5) \n",
    "    \n",
    "    myurl = driver.current_url \n",
    "    try : \n",
    "        for page in range(1,5) : \n",
    "            # 100개 #print(str(page)+'크롤링 시작') \n",
    "            source=driver.page_source \n",
    "            page1_results = get_naver_news_urls(fund,search,source) \n",
    "            # print(results, len(results)) \n",
    "            total_results.extend(page1_results) \n",
    "            \n",
    "            # 다음 페이지 \n",
    "            url = myurl+'&page='+str(page+1) \n",
    "            driver.get(url) \n",
    "            time.sleep(0.5) \n",
    "            \n",
    "    except NoSuchElementException: \n",
    "        next                 \n",
    "    \n",
    "    return total_results"
   ]
  },
  {
   "cell_type": "markdown",
   "id": "f54c490d",
   "metadata": {},
   "source": [
    "# Part 2 Crawling"
   ]
  },
  {
   "cell_type": "code",
   "execution_count": 24,
   "id": "c8eb43d7",
   "metadata": {
    "scrolled": true
   },
   "outputs": [],
   "source": [
    "path = \"C:\\\\Users\\\\user\\\\chromedriver.exe\"\n",
    "driver = webdriver.Chrome(path)\n",
    "# 크롬 웹 드라이버 객체 생성.\n",
    "# 크롬드라이버로 크롬을 조작.\n",
    "\n",
    "driver.get(\"https://finance.naver.com\")\n",
    "#드라이버 객체에서 원하는 url로 이동."
   ]
  },
  {
   "cell_type": "code",
   "execution_count": 25,
   "id": "fc7df10d",
   "metadata": {
    "scrolled": false
   },
   "outputs": [
    {
     "name": "stderr",
     "output_type": "stream",
     "text": [
      "100%|████████████████████████████████████████████████████████████████████████████| 2267/2267 [3:13:37<00:00,  5.12s/it]\n"
     ]
    }
   ],
   "source": [
    "company_news_all = pd.DataFrame(columns = ['현지언어기업명','상장코드','제목','이벤트URL','정보제공자','이벤트 행사 날짜'])\n",
    "\n",
    "for iter_num, company_code in enumerate(tqdm(한국재무정보['상장코드'])) : \n",
    "    fund = 한국재무정보['현지언어기업명'][iter_num]\n",
    "    company_news = pd.DataFrame(get_1(fund, company_code), columns = ['현지언어기업명','상장코드','제목','이벤트URL','정보제공자','이벤트 행사 날짜'])\n",
    "    company_news_all = pd.concat([company_news_all, company_news])\n",
    "    \n",
    "    \n",
    "    if (iter_num+1)%100 == 0 :\n",
    "        file_name = '기업뉴스'+str(iter_num+1)+'.xlsx'\n",
    "        company_news_all['이벤트 기록 날짜'] = company_news_all['이벤트 행사 날짜']\n",
    "        company_news_all['이벤트종류'] = '뉴스/공시'\n",
    "        company_news_all.to_excel(file_name)\n",
    "        #리셋\n",
    "        company_news_all = pd.DataFrame(columns = ['현지언어기업명','상장코드','제목','이벤트URL','정보제공자','이벤트 행사 날짜'])\n",
    "        \n",
    "    if (iter_num+1) == 2267 : \n",
    "        file_name = '기업뉴스'+str(iter_num+1)+'.xlsx'\n",
    "        company_news_all['이벤트 기록 날짜'] = company_news_all['이벤트 행사 날짜']\n",
    "        company_news_all['이벤트종류'] = '뉴스/공시'\n",
    "        company_news_all.to_excel(file_name)\n",
    "        #리셋\n",
    "        "
   ]
  },
  {
   "cell_type": "code",
   "execution_count": null,
   "id": "3d49001a",
   "metadata": {},
   "outputs": [],
   "source": []
  }
 ],
 "metadata": {
  "kernelspec": {
   "display_name": "codingNJ",
   "language": "python",
   "name": "codingnj"
  },
  "language_info": {
   "codemirror_mode": {
    "name": "ipython",
    "version": 3
   },
   "file_extension": ".py",
   "mimetype": "text/x-python",
   "name": "python",
   "nbconvert_exporter": "python",
   "pygments_lexer": "ipython3",
   "version": "3.9.7"
  }
 },
 "nbformat": 4,
 "nbformat_minor": 5
}
