{
 "cells": [
  {
   "cell_type": "markdown",
   "metadata": {},
   "source": [
    "이 노트북은 https://bright-ocean.tistory.com/79 블로그의 코드를 조금더 stable하게 수정한 것입니다.   \n",
    "최초 작성일 : 2022년 4월 14일, 임낙준 "
   ]
  },
  {
   "cell_type": "markdown",
   "metadata": {},
   "source": [
    "인베스팅 닷컴의 크롤링방법을 설명하기 위해서, 먼저 해당 문서는 각 부분별로 설명을 하고"
   ]
  },
  {
   "cell_type": "markdown",
   "metadata": {},
   "source": [
    "# 1. 필요한 모듈 가져오기 "
   ]
  },
  {
   "cell_type": "code",
   "execution_count": 1,
   "metadata": {},
   "outputs": [],
   "source": [
    "import pandas as pd\n",
    "import numpy as np\n",
    "import requests\n",
    "import re\n",
    "from bs4 import BeautifulSoup\n",
    "import time\n",
    "from selenium import webdriver\n",
    "from selenium.webdriver.common.keys import Keys"
   ]
  },
  {
   "cell_type": "markdown",
   "metadata": {},
   "source": [
    "# 2. 국가별 주식 종목 긁어오기"
   ]
  },
  {
   "cell_type": "markdown",
   "metadata": {},
   "source": [
    "이번 2022년 헤브론스타가 인베스팅닷컴에서 갖고와야할 국가들은 아래와 같습니다. \n",
    "* 말레이시아  \n",
    "* 싱가포르  \n",
    "* 콜롬비아  \n",
    "* 멕시코  \n",
    "* 스페인  \n",
    "* 이탈리아  \n",
    "한 국가를 기준으로 잡고 코드를 작성하면, 코드를 국가별로 재활용 할 수 있기 때문에, 먼저 멕시코를 기준으로 코드를 작성하겠습니다.  \n",
    "또한 인베스팅 닷컴은 한국어페이지도 존재하지만, 인베스팅 닷컴에서 영어표기를 우선한다고 명시해 놓았기에, 영어권 국가 사이트(예시에서는 호주)로 접속해서 멕시코의 상장사 재무정보에 접근합니다. "
   ]
  },
  {
   "cell_type": "markdown",
   "metadata": {},
   "source": [
    "### 2-1. 주식시장 페이지 접속 "
   ]
  },
  {
   "cell_type": "markdown",
   "metadata": {},
   "source": [
    "아래 코드의 first_url 링크 맨 뒤에있는 'mexico'를 바꾸면 다른 국가에서도 재활용 할 수 있음"
   ]
  },
  {
   "cell_type": "code",
   "execution_count": 2,
   "metadata": {},
   "outputs": [],
   "source": [
    "# 멕시코 주식시장 정보 페이지 접속\n",
    "driver = webdriver.Chrome('./chromedriver.exe')\n",
    "first_url = 'https://au.investing.com/equities/mexico'    #맨 뒤에 'mexico'를 바꾸면 다른 국가에서도 재활용 할 수 있음\n",
    "driver.get(first_url)"
   ]
  },
  {
   "cell_type": "markdown",
   "metadata": {},
   "source": [
    "### 2-2. 주식시장 페이지에서 모든 주식 종목소개 페이지로 전환"
   ]
  },
  {
   "cell_type": "markdown",
   "metadata": {},
   "source": [
    "멕시코 주식 시장 페이지에 접근한 후, 페이지에 표시되는 주식을 'all stocks' 즉 모든 상장 주식으로 바꿉니다.    \n",
    "이 때, 인베스팅 닷컴의 팝업 광고창 때문에 오류가 발생하는 경우가 있으니 try, except로 오류를 회피합니다.    \n",
    "except에서는 광고 팝업창의 x버튼을 누르는 코드가 추가되었습니다. "
   ]
  },
  {
   "cell_type": "code",
   "execution_count": 3,
   "metadata": {},
   "outputs": [],
   "source": [
    "#페이지에 표시되는 주식을 'all stocks'로 바꿈 \n",
    "try : \n",
    "    select_box = driver.find_element_by_xpath('//*[@id=\"stocksFilter\"]').click()\n",
    "    select_all_stock = driver.find_element_by_xpath('//*[@id=\"all\"]').click()\n",
    "    #time.sleep(8)\n",
    "\n",
    "# Avoid error. 만약 광고 팝업창으로 인해 에러가 발생할 경우 except로 에러 회피\n",
    "except : \n",
    "    # 광고 팝업창 닫기 \n",
    "    driver.find_element_by_xpath('//*[@id=\"PromoteSignUpPopUp\"]/div[2]/i').click()\n",
    "    # try와 동일\n",
    "    select_box = driver.find_element_by_xpath('//*[@id=\"stocksFilter\"]').click()\n",
    "    select_all_stock = driver.find_element_by_xpath('//*[@id=\"all\"]').click()\n",
    "    #time.sleep(8)"
   ]
  },
  {
   "cell_type": "markdown",
   "metadata": {},
   "source": [
    "### 2-3. 모든 주식 종목 소개 페이지에서 각 종목(기업)별 상세 정보 페이지 링크 추출"
   ]
  },
  {
   "cell_type": "markdown",
   "metadata": {},
   "source": [
    "인베스팅 닷컴은 동적 페이지입니다. 모든 주식 종목 코드를 긁어 올 수 있도록, 스크롤을 끝까지 내렸다가 다시 올립니다. "
   ]
  },
  {
   "cell_type": "code",
   "execution_count": 4,
   "metadata": {},
   "outputs": [],
   "source": [
    "# 인베스팅 닷컴은 동적페이지이다. \n",
    "# BeautifulSoup을 사용할수 있도록 스크롤을 한번 끝까지 내렸다 올린다.\n",
    "SCROLL_PAUSE_SEC = 3\n",
    "\n",
    "# 스크롤 높이 가져옴\n",
    "last_height = driver.execute_script(\"return document.body.scrollHeight\")\n",
    "\n",
    "while True:\n",
    "    # 끝까지 스크롤 다운\n",
    "    driver.execute_script(\"window.scrollTo(0, document.body.scrollHeight);\")\n",
    "\n",
    "    # 1초 대기\n",
    "    time.sleep(SCROLL_PAUSE_SEC)\n",
    "\n",
    "    # 스크롤 다운 후 스크롤 높이 다시 가져옴\n",
    "    new_height = driver.execute_script(\"return document.body.scrollHeight\")\n",
    "    if new_height == last_height:\n",
    "        break\n",
    "    last_height = new_height"
   ]
  },
  {
   "cell_type": "markdown",
   "metadata": {},
   "source": [
    "주식 종목 표를 Beautifulsoup을 이용해 갖고 옵니다. 이후 상세 정보 페이지의 링크를 추출하여, company_links란 리스트에 저장합니다."
   ]
  },
  {
   "cell_type": "code",
   "execution_count": 5,
   "metadata": {
    "scrolled": false
   },
   "outputs": [],
   "source": [
    "soup = BeautifulSoup(driver.page_source,\"html.parser\")\n",
    "\n",
    "# 주식 테이블을 가지고 온다. \n",
    "maintable = soup.find('table', id='cross_rate_markets_stocks_1')\n",
    "co\n",
    "# 메인 주식 테이블에서 회사 페이지로\n",
    "all_atag_maintable = maintable.find_all('a')\n",
    "\n",
    "# soup의 find 메서드를 이용해서 갖고 오게 되면, 링크 뿐 아니라 다른 정보들도 같이 갖고 오게 됩니다. \n",
    "# 따라서 아래 for문으로 순수한 href 링크만을 추출하여, company_links에 저장합니다. \n",
    "company_links = []\n",
    "for a in all_atag_maintable:\n",
    "    company_link = a.attrs[\"href\"] #find로 한번더 돌려준다.\n",
    "    company_links.append(company_link)"
   ]
  },
  {
   "cell_type": "code",
   "execution_count": 6,
   "metadata": {},
   "outputs": [
    {
     "data": {
      "text/plain": [
       "35"
      ]
     },
     "execution_count": 6,
     "metadata": {},
     "output_type": "execute_result"
    }
   ],
   "source": [
    "len(company_links)"
   ]
  },
  {
   "cell_type": "markdown",
   "metadata": {},
   "source": [
    "# 3. 기업별 재무정보 추출"
   ]
  },
  {
   "cell_type": "markdown",
   "metadata": {},
   "source": [
    "### 3-1. 재무정보 페이지 링크  생성  \n",
    "앞서 company_links에 기업별 상세 정보 페이지 링크를 추출하였습니다. 기업별 상세 정보 페이지 링크에 쿼리스트링처럼, 적절한 인자를 연결하면 재무정보에 접근할 수 있습니다.  \n",
    "\n",
    "ex) America Movil이라는 멕시코 기업 :  \n",
    "base url 뒤에 America Movil의 상세페이지로 넘어가는 company link를 붙이고, 손익계산서를 의미하는 -income-statement를 추가하게 되면 America Movil의 손익계산서 페이지로 넘어가게 됩니다.  \n",
    "\n",
    "'https://au.investing.com/'  (baseurl) + 'equities/america-movil-l' (company link : Mmerica movil 상세정보페이지) + '-income-statement'   \n",
    "=  https://au.investing.com/equities/america-movil-l-income-statement\n",
    "\n",
    "손익계산서, 재무상태표(대차대조표), 현금흐름표에 해당하는 접미사들은 아래 코드와 같습니다.   \n",
    "base_url + company_link + 원하는 표의 suffix   로 http 링크를 만들어 이동합니다. "
   ]
  },
  {
   "cell_type": "code",
   "execution_count": 7,
   "metadata": {},
   "outputs": [],
   "source": [
    "base_url = 'https://au.investing.com'\n",
    "\n",
    "IS_suffix = '-income-statement'\n",
    "BS_suffix = '-balance-sheet'\n",
    "CF_suffix = '-cash-flow'"
   ]
  },
  {
   "cell_type": "markdown",
   "metadata": {},
   "source": [
    "### 3-2. 추출하고자 하는 계정과목(칼럼) 설정\n",
    "인베스팅 닷컴에서 확인할 수 있는 계정과목들은 많습니다. 2022년 BDC과제에서 작성한 테이블 명세서에 근거하여 추출하고자 하는 계정과목이름들을 리스트에 저장합니다. 해당 리스트들은 3-3에서 사용됩니다."
   ]
  },
  {
   "cell_type": "code",
   "execution_count": 8,
   "metadata": {},
   "outputs": [],
   "source": [
    "# 추출하고자 하는 칼럼들 \n",
    "\n",
    "is_targets =['Total Revenue','Cost of Revenue, Total','Selling/General/Admin. Expenses, Total','Operating Income',\n",
    "             'Interest Income (Expense), Net Non-Operating', 'Interest Expense (Income) - Net Operating',\n",
    "            'Net Income Before Taxes','Net Income After Taxes']\n",
    "\n",
    "bs_targets = ['Total Current Assets','Total Assets','Total Current Liabilities','Total Liabilities','Total Equity']\n",
    "\n",
    "cf_targets = ['Cash From Operating Activities','Cash From Financing Activities','Cash From Investing Activities']\n"
   ]
  },
  {
   "cell_type": "markdown",
   "metadata": {},
   "source": [
    "### 3-3. 정보 추출\n",
    "크롤링의 핵심이 되는 내용입니다. 손익계산서, 대차대조표, 현금흐름표의 데이터를 추출하고 전처리 하는 과정이 모두 같기 때문에 손익계산서 추출 코드를 설명한 후, 마지막 part4에서 이를 다른 재무제표에 대해서도 적용해보겠습니다. "
   ]
  },
  {
   "cell_type": "code",
   "execution_count": 9,
   "metadata": {},
   "outputs": [],
   "source": [
    "# 예시를 위해 company_links에서 기업 하나를 갖고 옴 \n",
    "company = company_links[0]"
   ]
  },
  {
   "cell_type": "markdown",
   "metadata": {},
   "source": [
    "3-1에서 설명한대로 base_url+company+IS_suffix 로 손익계산서 페이지에 접근하는 링크를 만들고, 브라우저를 손익계산서 페이지로 이동시킵니다."
   ]
  },
  {
   "cell_type": "code",
   "execution_count": 10,
   "metadata": {},
   "outputs": [],
   "source": [
    "#income statement \n",
    "driver.get(base_url+company+IS_suffix)\n",
    "time.sleep(1)"
   ]
  },
  {
   "cell_type": "markdown",
   "metadata": {},
   "source": [
    "연간 재무제표를 추출해 올 것이기 때문에, Annual 버튼을 클릭합니다."
   ]
  },
  {
   "cell_type": "code",
   "execution_count": null,
   "metadata": {},
   "outputs": [],
   "source": [
    "# 'Annual', 'Quaterly' 버튼 중 'Annual' Click\n",
    "driver.find_element_by_xpath('/html/body/div[5]/section/div[8]/div[1]/a[1]').click()"
   ]
  },
  {
   "cell_type": "markdown",
   "metadata": {},
   "source": [
    "pd.read_html은 html 소스코드에서 table 속성에 해당하는 값을 가져오는 함수입니다. \n",
    "pd.read_html을 이용하여 웹페이지에 있는 표를 갖고 온 후, df_income 데이터프레임을 생성합니다. "
   ]
  },
  {
   "cell_type": "code",
   "execution_count": null,
   "metadata": {
    "scrolled": true
   },
   "outputs": [],
   "source": [
    "df_income = pd.read_html(driver.page_source)[0].dropna()\n",
    "df_income.head()"
   ]
  },
  {
   "cell_type": "markdown",
   "metadata": {},
   "source": [
    "df_income 데이터프레임에 회사이름, 재무제표에서 사용한 통화 단위도 추가합니다. "
   ]
  },
  {
   "cell_type": "code",
   "execution_count": null,
   "metadata": {},
   "outputs": [],
   "source": [
    "df_income_unit = driver.find_element_by_xpath('//*[@id=\"leftColumn\"]/div[10]').text             \n",
    "company_name = driver.find_element_by_xpath('//*[@id=\"leftColumn\"]/div[1]/h1').text"
   ]
  },
  {
   "cell_type": "markdown",
   "metadata": {},
   "source": [
    "### 3-4. 데이터프레임 전처리 \n",
    "3-3에서 추출한 데이터 프레임을 바로 사용할 수 없습니다. 우리가 원하는 형태로 데이터 프레임을 적절히 전처리 합니다. "
   ]
  },
  {
   "cell_type": "code",
   "execution_count": 116,
   "metadata": {
    "scrolled": true
   },
   "outputs": [
    {
     "data": {
      "text/html": [
       "<div>\n",
       "<style scoped>\n",
       "    .dataframe tbody tr th:only-of-type {\n",
       "        vertical-align: middle;\n",
       "    }\n",
       "\n",
       "    .dataframe tbody tr th {\n",
       "        vertical-align: top;\n",
       "    }\n",
       "\n",
       "    .dataframe thead th {\n",
       "        text-align: right;\n",
       "    }\n",
       "</style>\n",
       "<table border=\"1\" class=\"dataframe\">\n",
       "  <thead>\n",
       "    <tr style=\"text-align: right;\">\n",
       "      <th></th>\n",
       "      <th>0</th>\n",
       "      <th>1</th>\n",
       "      <th>2</th>\n",
       "      <th>3</th>\n",
       "      <th>4</th>\n",
       "      <th>5</th>\n",
       "      <th>6</th>\n",
       "      <th>7</th>\n",
       "      <th>8</th>\n",
       "      <th>9</th>\n",
       "      <th>...</th>\n",
       "      <th>25</th>\n",
       "      <th>26</th>\n",
       "      <th>27</th>\n",
       "      <th>28</th>\n",
       "      <th>29</th>\n",
       "      <th>30</th>\n",
       "      <th>31</th>\n",
       "      <th>32</th>\n",
       "      <th>33</th>\n",
       "      <th>34</th>\n",
       "    </tr>\n",
       "  </thead>\n",
       "  <tbody>\n",
       "    <tr>\n",
       "      <th>Period Ending:</th>\n",
       "      <td>Total Revenue</td>\n",
       "      <td>Revenue 855534.87 1016886.53 1007347.87 103820...</td>\n",
       "      <td>Revenue</td>\n",
       "      <td>Other Revenue, Total</td>\n",
       "      <td>Cost of Revenue, Total</td>\n",
       "      <td>Gross Profit</td>\n",
       "      <td>Total Operating Expenses</td>\n",
       "      <td>Selling/General/Admin. Expenses, Total 180838....</td>\n",
       "      <td>Selling/General/Admin. Expenses, Total</td>\n",
       "      <td>Research &amp; Development</td>\n",
       "      <td>...</td>\n",
       "      <td>Total Extraordinary Items</td>\n",
       "      <td>Net Income</td>\n",
       "      <td>Total Adjustments to Net Income</td>\n",
       "      <td>Income Available to Common Excluding Extraordi...</td>\n",
       "      <td>Dilution Adjustment</td>\n",
       "      <td>Diluted Net Income</td>\n",
       "      <td>Diluted Weighted Average Shares</td>\n",
       "      <td>Diluted EPS Excluding Extraordinary Items</td>\n",
       "      <td>DPS - Common Stock Primary Issue</td>\n",
       "      <td>Diluted Normalized EPS</td>\n",
       "    </tr>\n",
       "    <tr>\n",
       "      <th>202131/12</th>\n",
       "      <td>855534.87</td>\n",
       "      <td>Revenue 855534.87 1016886.53 1007347.87 103820...</td>\n",
       "      <td>855534.87</td>\n",
       "      <td>-</td>\n",
       "      <td>503686.53</td>\n",
       "      <td>351848.34</td>\n",
       "      <td>689402.23</td>\n",
       "      <td>Selling/General/Admin. Expenses, Total 180838....</td>\n",
       "      <td>180838.41</td>\n",
       "      <td>-</td>\n",
       "      <td>...</td>\n",
       "      <td>125312.83</td>\n",
       "      <td>196025.28</td>\n",
       "      <td>-</td>\n",
       "      <td>70712.45</td>\n",
       "      <td>-</td>\n",
       "      <td>196025.28</td>\n",
       "      <td>64689.74</td>\n",
       "      <td>1.09</td>\n",
       "      <td>0.4</td>\n",
       "      <td>1.09</td>\n",
       "    </tr>\n",
       "    <tr>\n",
       "      <th>202031/12</th>\n",
       "      <td>1016886.53</td>\n",
       "      <td>Revenue 855534.87 1016886.53 1007347.87 103820...</td>\n",
       "      <td>1016886.53</td>\n",
       "      <td>-</td>\n",
       "      <td>470427.48</td>\n",
       "      <td>546459.05</td>\n",
       "      <td>851531.62</td>\n",
       "      <td>Selling/General/Admin. Expenses, Total 180838....</td>\n",
       "      <td>212135.83</td>\n",
       "      <td>-</td>\n",
       "      <td>...</td>\n",
       "      <td>-</td>\n",
       "      <td>46852.61</td>\n",
       "      <td>-</td>\n",
       "      <td>46852.61</td>\n",
       "      <td>-</td>\n",
       "      <td>46852.61</td>\n",
       "      <td>66862.56</td>\n",
       "      <td>0.7</td>\n",
       "      <td>0.38</td>\n",
       "      <td>0.7</td>\n",
       "    </tr>\n",
       "    <tr>\n",
       "      <th>201931/12</th>\n",
       "      <td>1007347.87</td>\n",
       "      <td>Revenue 855534.87 1016886.53 1007347.87 103820...</td>\n",
       "      <td>1007347.87</td>\n",
       "      <td>-</td>\n",
       "      <td>471736.16</td>\n",
       "      <td>535611.71</td>\n",
       "      <td>852507.33</td>\n",
       "      <td>Selling/General/Admin. Expenses, Total 180838....</td>\n",
       "      <td>215993.86</td>\n",
       "      <td>-</td>\n",
       "      <td>...</td>\n",
       "      <td>-</td>\n",
       "      <td>67730.89</td>\n",
       "      <td>-</td>\n",
       "      <td>67730.89</td>\n",
       "      <td>-</td>\n",
       "      <td>67730.89</td>\n",
       "      <td>66004.21</td>\n",
       "      <td>1.03</td>\n",
       "      <td>0.35</td>\n",
       "      <td>1.03</td>\n",
       "    </tr>\n",
       "    <tr>\n",
       "      <th>201831/12</th>\n",
       "      <td>1038207.68</td>\n",
       "      <td>Revenue 855534.87 1016886.53 1007347.87 103820...</td>\n",
       "      <td>1038207.68</td>\n",
       "      <td>-</td>\n",
       "      <td>508822.43</td>\n",
       "      <td>529385.25</td>\n",
       "      <td>898650.51</td>\n",
       "      <td>Selling/General/Admin. Expenses, Total 180838....</td>\n",
       "      <td>227192.48</td>\n",
       "      <td>-</td>\n",
       "      <td>...</td>\n",
       "      <td>-</td>\n",
       "      <td>52566.2</td>\n",
       "      <td>-</td>\n",
       "      <td>52566.2</td>\n",
       "      <td>-</td>\n",
       "      <td>52566.2</td>\n",
       "      <td>66034.79</td>\n",
       "      <td>0.8</td>\n",
       "      <td>0.32</td>\n",
       "      <td>0.8</td>\n",
       "    </tr>\n",
       "  </tbody>\n",
       "</table>\n",
       "<p>5 rows × 35 columns</p>\n",
       "</div>"
      ],
      "text/plain": [
       "                           0   \\\n",
       "Period Ending:  Total Revenue   \n",
       "202131/12           855534.87   \n",
       "202031/12          1016886.53   \n",
       "201931/12          1007347.87   \n",
       "201831/12          1038207.68   \n",
       "\n",
       "                                                               1           2   \\\n",
       "Period Ending:  Revenue 855534.87 1016886.53 1007347.87 103820...     Revenue   \n",
       "202131/12       Revenue 855534.87 1016886.53 1007347.87 103820...   855534.87   \n",
       "202031/12       Revenue 855534.87 1016886.53 1007347.87 103820...  1016886.53   \n",
       "201931/12       Revenue 855534.87 1016886.53 1007347.87 103820...  1007347.87   \n",
       "201831/12       Revenue 855534.87 1016886.53 1007347.87 103820...  1038207.68   \n",
       "\n",
       "                                  3                       4             5   \\\n",
       "Period Ending:  Other Revenue, Total  Cost of Revenue, Total  Gross Profit   \n",
       "202131/12                          -               503686.53     351848.34   \n",
       "202031/12                          -               470427.48     546459.05   \n",
       "201931/12                          -               471736.16     535611.71   \n",
       "201831/12                          -               508822.43     529385.25   \n",
       "\n",
       "                                      6   \\\n",
       "Period Ending:  Total Operating Expenses   \n",
       "202131/12                      689402.23   \n",
       "202031/12                      851531.62   \n",
       "201931/12                      852507.33   \n",
       "201831/12                      898650.51   \n",
       "\n",
       "                                                               7   \\\n",
       "Period Ending:  Selling/General/Admin. Expenses, Total 180838....   \n",
       "202131/12       Selling/General/Admin. Expenses, Total 180838....   \n",
       "202031/12       Selling/General/Admin. Expenses, Total 180838....   \n",
       "201931/12       Selling/General/Admin. Expenses, Total 180838....   \n",
       "201831/12       Selling/General/Admin. Expenses, Total 180838....   \n",
       "\n",
       "                                                    8   \\\n",
       "Period Ending:  Selling/General/Admin. Expenses, Total   \n",
       "202131/12                                    180838.41   \n",
       "202031/12                                    212135.83   \n",
       "201931/12                                    215993.86   \n",
       "201831/12                                    227192.48   \n",
       "\n",
       "                                    9   ...                         25  \\\n",
       "Period Ending:  Research & Development  ...  Total Extraordinary Items   \n",
       "202131/12                            -  ...                  125312.83   \n",
       "202031/12                            -  ...                          -   \n",
       "201931/12                            -  ...                          -   \n",
       "201831/12                            -  ...                          -   \n",
       "\n",
       "                        26                               27  \\\n",
       "Period Ending:  Net Income  Total Adjustments to Net Income   \n",
       "202131/12        196025.28                                -   \n",
       "202031/12         46852.61                                -   \n",
       "201931/12         67730.89                                -   \n",
       "201831/12          52566.2                                -   \n",
       "\n",
       "                                                               28  \\\n",
       "Period Ending:  Income Available to Common Excluding Extraordi...   \n",
       "202131/12                                                70712.45   \n",
       "202031/12                                                46852.61   \n",
       "201931/12                                                67730.89   \n",
       "201831/12                                                 52566.2   \n",
       "\n",
       "                                 29                  30  \\\n",
       "Period Ending:  Dilution Adjustment  Diluted Net Income   \n",
       "202131/12                         -           196025.28   \n",
       "202031/12                         -            46852.61   \n",
       "201931/12                         -            67730.89   \n",
       "201831/12                         -             52566.2   \n",
       "\n",
       "                                             31  \\\n",
       "Period Ending:  Diluted Weighted Average Shares   \n",
       "202131/12                              64689.74   \n",
       "202031/12                              66862.56   \n",
       "201931/12                              66004.21   \n",
       "201831/12                              66034.79   \n",
       "\n",
       "                                                       32  \\\n",
       "Period Ending:  Diluted EPS Excluding Extraordinary Items   \n",
       "202131/12                                            1.09   \n",
       "202031/12                                             0.7   \n",
       "201931/12                                            1.03   \n",
       "201831/12                                             0.8   \n",
       "\n",
       "                                              33                      34  \n",
       "Period Ending:  DPS - Common Stock Primary Issue  Diluted Normalized EPS  \n",
       "202131/12                                    0.4                    1.09  \n",
       "202031/12                                   0.38                     0.7  \n",
       "201931/12                                   0.35                    1.03  \n",
       "201831/12                                   0.32                     0.8  \n",
       "\n",
       "[5 rows x 35 columns]"
      ]
     },
     "execution_count": 116,
     "metadata": {},
     "output_type": "execute_result"
    }
   ],
   "source": [
    "# 행렬 전치. Matrix Transpose\n",
    "df_income = df_income.T\n",
    "df_income.head()"
   ]
  },
  {
   "cell_type": "code",
   "execution_count": 117,
   "metadata": {
    "scrolled": true
   },
   "outputs": [
    {
     "data": {
      "text/html": [
       "<div>\n",
       "<style scoped>\n",
       "    .dataframe tbody tr th:only-of-type {\n",
       "        vertical-align: middle;\n",
       "    }\n",
       "\n",
       "    .dataframe tbody tr th {\n",
       "        vertical-align: top;\n",
       "    }\n",
       "\n",
       "    .dataframe thead th {\n",
       "        text-align: right;\n",
       "    }\n",
       "</style>\n",
       "<table border=\"1\" class=\"dataframe\">\n",
       "  <thead>\n",
       "    <tr style=\"text-align: right;\">\n",
       "      <th></th>\n",
       "      <th>Total Revenue</th>\n",
       "      <th>Revenue 855534.87 1016886.53 1007347.87 1038207.68  Other Revenue, Total - - - -</th>\n",
       "      <th>Revenue</th>\n",
       "      <th>Other Revenue, Total</th>\n",
       "      <th>Cost of Revenue, Total</th>\n",
       "      <th>Gross Profit</th>\n",
       "      <th>Total Operating Expenses</th>\n",
       "      <th>Selling/General/Admin. Expenses, Total 180838.41 212135.83 215993.86 227192.48  Research &amp; Development - - - -  Depreciation / Amortization - 164243.68 158915.21 155712.58  Interest Expense (Income) - Net Operating - - - -  Unusual Expense (Income) - - - -  Other Operating Expenses, Total 4877.29 4724.63 5862.1 6923.02</th>\n",
       "      <th>Selling/General/Admin. Expenses, Total</th>\n",
       "      <th>Research &amp; Development</th>\n",
       "      <th>...</th>\n",
       "      <th>Total Extraordinary Items</th>\n",
       "      <th>Net Income</th>\n",
       "      <th>Total Adjustments to Net Income</th>\n",
       "      <th>Income Available to Common Excluding Extraordinary Items</th>\n",
       "      <th>Dilution Adjustment</th>\n",
       "      <th>Diluted Net Income</th>\n",
       "      <th>Diluted Weighted Average Shares</th>\n",
       "      <th>Diluted EPS Excluding Extraordinary Items</th>\n",
       "      <th>DPS - Common Stock Primary Issue</th>\n",
       "      <th>Diluted Normalized EPS</th>\n",
       "    </tr>\n",
       "  </thead>\n",
       "  <tbody>\n",
       "    <tr>\n",
       "      <th>202131/12</th>\n",
       "      <td>855534.87</td>\n",
       "      <td>Revenue 855534.87 1016886.53 1007347.87 103820...</td>\n",
       "      <td>855534.87</td>\n",
       "      <td>-</td>\n",
       "      <td>503686.53</td>\n",
       "      <td>351848.34</td>\n",
       "      <td>689402.23</td>\n",
       "      <td>Selling/General/Admin. Expenses, Total 180838....</td>\n",
       "      <td>180838.41</td>\n",
       "      <td>-</td>\n",
       "      <td>...</td>\n",
       "      <td>125312.83</td>\n",
       "      <td>196025.28</td>\n",
       "      <td>-</td>\n",
       "      <td>70712.45</td>\n",
       "      <td>-</td>\n",
       "      <td>196025.28</td>\n",
       "      <td>64689.74</td>\n",
       "      <td>1.09</td>\n",
       "      <td>0.4</td>\n",
       "      <td>1.09</td>\n",
       "    </tr>\n",
       "    <tr>\n",
       "      <th>202031/12</th>\n",
       "      <td>1016886.53</td>\n",
       "      <td>Revenue 855534.87 1016886.53 1007347.87 103820...</td>\n",
       "      <td>1016886.53</td>\n",
       "      <td>-</td>\n",
       "      <td>470427.48</td>\n",
       "      <td>546459.05</td>\n",
       "      <td>851531.62</td>\n",
       "      <td>Selling/General/Admin. Expenses, Total 180838....</td>\n",
       "      <td>212135.83</td>\n",
       "      <td>-</td>\n",
       "      <td>...</td>\n",
       "      <td>-</td>\n",
       "      <td>46852.61</td>\n",
       "      <td>-</td>\n",
       "      <td>46852.61</td>\n",
       "      <td>-</td>\n",
       "      <td>46852.61</td>\n",
       "      <td>66862.56</td>\n",
       "      <td>0.7</td>\n",
       "      <td>0.38</td>\n",
       "      <td>0.7</td>\n",
       "    </tr>\n",
       "    <tr>\n",
       "      <th>201931/12</th>\n",
       "      <td>1007347.87</td>\n",
       "      <td>Revenue 855534.87 1016886.53 1007347.87 103820...</td>\n",
       "      <td>1007347.87</td>\n",
       "      <td>-</td>\n",
       "      <td>471736.16</td>\n",
       "      <td>535611.71</td>\n",
       "      <td>852507.33</td>\n",
       "      <td>Selling/General/Admin. Expenses, Total 180838....</td>\n",
       "      <td>215993.86</td>\n",
       "      <td>-</td>\n",
       "      <td>...</td>\n",
       "      <td>-</td>\n",
       "      <td>67730.89</td>\n",
       "      <td>-</td>\n",
       "      <td>67730.89</td>\n",
       "      <td>-</td>\n",
       "      <td>67730.89</td>\n",
       "      <td>66004.21</td>\n",
       "      <td>1.03</td>\n",
       "      <td>0.35</td>\n",
       "      <td>1.03</td>\n",
       "    </tr>\n",
       "    <tr>\n",
       "      <th>201831/12</th>\n",
       "      <td>1038207.68</td>\n",
       "      <td>Revenue 855534.87 1016886.53 1007347.87 103820...</td>\n",
       "      <td>1038207.68</td>\n",
       "      <td>-</td>\n",
       "      <td>508822.43</td>\n",
       "      <td>529385.25</td>\n",
       "      <td>898650.51</td>\n",
       "      <td>Selling/General/Admin. Expenses, Total 180838....</td>\n",
       "      <td>227192.48</td>\n",
       "      <td>-</td>\n",
       "      <td>...</td>\n",
       "      <td>-</td>\n",
       "      <td>52566.2</td>\n",
       "      <td>-</td>\n",
       "      <td>52566.2</td>\n",
       "      <td>-</td>\n",
       "      <td>52566.2</td>\n",
       "      <td>66034.79</td>\n",
       "      <td>0.8</td>\n",
       "      <td>0.32</td>\n",
       "      <td>0.8</td>\n",
       "    </tr>\n",
       "  </tbody>\n",
       "</table>\n",
       "<p>4 rows × 35 columns</p>\n",
       "</div>"
      ],
      "text/plain": [
       "          Total Revenue  \\\n",
       "202131/12     855534.87   \n",
       "202031/12    1016886.53   \n",
       "201931/12    1007347.87   \n",
       "201831/12    1038207.68   \n",
       "\n",
       "          Revenue 855534.87 1016886.53 1007347.87 1038207.68  Other Revenue, Total - - - -  \\\n",
       "202131/12  Revenue 855534.87 1016886.53 1007347.87 103820...                                 \n",
       "202031/12  Revenue 855534.87 1016886.53 1007347.87 103820...                                 \n",
       "201931/12  Revenue 855534.87 1016886.53 1007347.87 103820...                                 \n",
       "201831/12  Revenue 855534.87 1016886.53 1007347.87 103820...                                 \n",
       "\n",
       "              Revenue Other Revenue, Total Cost of Revenue, Total  \\\n",
       "202131/12   855534.87                    -              503686.53   \n",
       "202031/12  1016886.53                    -              470427.48   \n",
       "201931/12  1007347.87                    -              471736.16   \n",
       "201831/12  1038207.68                    -              508822.43   \n",
       "\n",
       "          Gross Profit Total Operating Expenses  \\\n",
       "202131/12    351848.34                689402.23   \n",
       "202031/12    546459.05                851531.62   \n",
       "201931/12    535611.71                852507.33   \n",
       "201831/12    529385.25                898650.51   \n",
       "\n",
       "          Selling/General/Admin. Expenses, Total 180838.41 212135.83 215993.86 227192.48  Research & Development - - - -  Depreciation / Amortization - 164243.68 158915.21 155712.58  Interest Expense (Income) - Net Operating - - - -  Unusual Expense (Income) - - - -  Other Operating Expenses, Total 4877.29 4724.63 5862.1 6923.02  \\\n",
       "202131/12  Selling/General/Admin. Expenses, Total 180838....                                                                                                                                                                                                                                                                                 \n",
       "202031/12  Selling/General/Admin. Expenses, Total 180838....                                                                                                                                                                                                                                                                                 \n",
       "201931/12  Selling/General/Admin. Expenses, Total 180838....                                                                                                                                                                                                                                                                                 \n",
       "201831/12  Selling/General/Admin. Expenses, Total 180838....                                                                                                                                                                                                                                                                                 \n",
       "\n",
       "          Selling/General/Admin. Expenses, Total Research & Development  ...  \\\n",
       "202131/12                              180838.41                      -  ...   \n",
       "202031/12                              212135.83                      -  ...   \n",
       "201931/12                              215993.86                      -  ...   \n",
       "201831/12                              227192.48                      -  ...   \n",
       "\n",
       "          Total Extraordinary Items Net Income  \\\n",
       "202131/12                 125312.83  196025.28   \n",
       "202031/12                         -   46852.61   \n",
       "201931/12                         -   67730.89   \n",
       "201831/12                         -    52566.2   \n",
       "\n",
       "          Total Adjustments to Net Income  \\\n",
       "202131/12                               -   \n",
       "202031/12                               -   \n",
       "201931/12                               -   \n",
       "201831/12                               -   \n",
       "\n",
       "          Income Available to Common Excluding Extraordinary Items  \\\n",
       "202131/12                                           70712.45         \n",
       "202031/12                                           46852.61         \n",
       "201931/12                                           67730.89         \n",
       "201831/12                                            52566.2         \n",
       "\n",
       "          Dilution Adjustment Diluted Net Income  \\\n",
       "202131/12                   -          196025.28   \n",
       "202031/12                   -           46852.61   \n",
       "201931/12                   -           67730.89   \n",
       "201831/12                   -            52566.2   \n",
       "\n",
       "          Diluted Weighted Average Shares  \\\n",
       "202131/12                        64689.74   \n",
       "202031/12                        66862.56   \n",
       "201931/12                        66004.21   \n",
       "201831/12                        66034.79   \n",
       "\n",
       "          Diluted EPS Excluding Extraordinary Items  \\\n",
       "202131/12                                      1.09   \n",
       "202031/12                                       0.7   \n",
       "201931/12                                      1.03   \n",
       "201831/12                                       0.8   \n",
       "\n",
       "          DPS - Common Stock Primary Issue Diluted Normalized EPS  \n",
       "202131/12                              0.4                   1.09  \n",
       "202031/12                             0.38                    0.7  \n",
       "201931/12                             0.35                   1.03  \n",
       "201831/12                             0.32                    0.8  \n",
       "\n",
       "[4 rows x 35 columns]"
      ]
     },
     "execution_count": 117,
     "metadata": {},
     "output_type": "execute_result"
    }
   ],
   "source": [
    "# 계정과목을 column 이름으로 설정\n",
    "df_income = df_income.rename(columns = df_income.iloc[0])\n",
    "# 0번째 row를 삭제하고 나머지만 남긴다.\n",
    "df_income = df_income.iloc[1:, :]\n",
    "df_income.head()"
   ]
  },
  {
   "cell_type": "markdown",
   "metadata": {},
   "source": [
    "3-2에서 만든 추출하고자 하는 데이터 컬럼명들로 df_income에서 필요한 열들만 뽑아냅니다. 여기까지 오면 필요한 정보들이 다 추가된 것 같습니다."
   ]
  },
  {
   "cell_type": "code",
   "execution_count": 120,
   "metadata": {
    "scrolled": false
   },
   "outputs": [
    {
     "data": {
      "text/html": [
       "<div>\n",
       "<style scoped>\n",
       "    .dataframe tbody tr th:only-of-type {\n",
       "        vertical-align: middle;\n",
       "    }\n",
       "\n",
       "    .dataframe tbody tr th {\n",
       "        vertical-align: top;\n",
       "    }\n",
       "\n",
       "    .dataframe thead th {\n",
       "        text-align: right;\n",
       "    }\n",
       "</style>\n",
       "<table border=\"1\" class=\"dataframe\">\n",
       "  <thead>\n",
       "    <tr style=\"text-align: right;\">\n",
       "      <th></th>\n",
       "      <th>Total Revenue</th>\n",
       "      <th>Cost of Revenue, Total</th>\n",
       "      <th>Selling/General/Admin. Expenses, Total</th>\n",
       "      <th>Operating Income</th>\n",
       "      <th>Interest Income (Expense), Net Non-Operating</th>\n",
       "      <th>Interest Expense (Income) - Net Operating</th>\n",
       "      <th>Net Income Before Taxes</th>\n",
       "      <th>Net Income After Taxes</th>\n",
       "    </tr>\n",
       "  </thead>\n",
       "  <tbody>\n",
       "    <tr>\n",
       "      <th>202131/12</th>\n",
       "      <td>855534.87</td>\n",
       "      <td>503686.53</td>\n",
       "      <td>180838.41</td>\n",
       "      <td>166132.64</td>\n",
       "      <td>-55877.62</td>\n",
       "      <td>-</td>\n",
       "      <td>102760.16</td>\n",
       "      <td>74615.4</td>\n",
       "    </tr>\n",
       "    <tr>\n",
       "      <th>202031/12</th>\n",
       "      <td>1016886.53</td>\n",
       "      <td>470427.48</td>\n",
       "      <td>212135.83</td>\n",
       "      <td>165354.91</td>\n",
       "      <td>-97961.8</td>\n",
       "      <td>-</td>\n",
       "      <td>67393.11</td>\n",
       "      <td>51026.96</td>\n",
       "    </tr>\n",
       "    <tr>\n",
       "      <th>201931/12</th>\n",
       "      <td>1007347.87</td>\n",
       "      <td>471736.16</td>\n",
       "      <td>215993.86</td>\n",
       "      <td>154840.54</td>\n",
       "      <td>-33493.55</td>\n",
       "      <td>-</td>\n",
       "      <td>121346.99</td>\n",
       "      <td>70313.46</td>\n",
       "    </tr>\n",
       "    <tr>\n",
       "      <th>201831/12</th>\n",
       "      <td>1038207.68</td>\n",
       "      <td>508822.43</td>\n",
       "      <td>227192.48</td>\n",
       "      <td>139557.17</td>\n",
       "      <td>-38563.27</td>\n",
       "      <td>-</td>\n",
       "      <td>100993.9</td>\n",
       "      <td>54516.82</td>\n",
       "    </tr>\n",
       "  </tbody>\n",
       "</table>\n",
       "</div>"
      ],
      "text/plain": [
       "          Total Revenue Cost of Revenue, Total  \\\n",
       "202131/12     855534.87              503686.53   \n",
       "202031/12    1016886.53              470427.48   \n",
       "201931/12    1007347.87              471736.16   \n",
       "201831/12    1038207.68              508822.43   \n",
       "\n",
       "          Selling/General/Admin. Expenses, Total Operating Income  \\\n",
       "202131/12                              180838.41        166132.64   \n",
       "202031/12                              212135.83        165354.91   \n",
       "201931/12                              215993.86        154840.54   \n",
       "201831/12                              227192.48        139557.17   \n",
       "\n",
       "          Interest Income (Expense), Net Non-Operating  \\\n",
       "202131/12                                    -55877.62   \n",
       "202031/12                                     -97961.8   \n",
       "201931/12                                    -33493.55   \n",
       "201831/12                                    -38563.27   \n",
       "\n",
       "          Interest Expense (Income) - Net Operating Net Income Before Taxes  \\\n",
       "202131/12                                         -               102760.16   \n",
       "202031/12                                         -                67393.11   \n",
       "201931/12                                         -               121346.99   \n",
       "201831/12                                         -                100993.9   \n",
       "\n",
       "          Net Income After Taxes  \n",
       "202131/12                74615.4  \n",
       "202031/12               51026.96  \n",
       "201931/12               70313.46  \n",
       "201831/12               54516.82  "
      ]
     },
     "execution_count": 120,
     "metadata": {},
     "output_type": "execute_result"
    }
   ],
   "source": [
    "df_income = df_income[is_targets]\n",
    "df_income"
   ]
  },
  {
   "cell_type": "markdown",
   "metadata": {},
   "source": [
    "마지막으로, 데이터 프레임에 회계연도, 회사명, 통화단위 칼럼을 추가합니다."
   ]
  },
  {
   "cell_type": "code",
   "execution_count": 121,
   "metadata": {},
   "outputs": [],
   "source": [
    "df_income['df_income_unit'] = df_income_unit                 # 데이터프레임에 income statement 통화단위 삽입\n",
    "df_income['time']= df_income.index                           # 데이터프레임에 '시간' 추가\n",
    "df_income['company_name'] = company_name                     # 데이터 프레임에 회사 이름 삽입\n",
    "df_income=df_income.reset_index(drop=True)                  # index 초기화 "
   ]
  },
  {
   "cell_type": "code",
   "execution_count": 122,
   "metadata": {
    "scrolled": false
   },
   "outputs": [
    {
     "data": {
      "text/html": [
       "<div>\n",
       "<style scoped>\n",
       "    .dataframe tbody tr th:only-of-type {\n",
       "        vertical-align: middle;\n",
       "    }\n",
       "\n",
       "    .dataframe tbody tr th {\n",
       "        vertical-align: top;\n",
       "    }\n",
       "\n",
       "    .dataframe thead th {\n",
       "        text-align: right;\n",
       "    }\n",
       "</style>\n",
       "<table border=\"1\" class=\"dataframe\">\n",
       "  <thead>\n",
       "    <tr style=\"text-align: right;\">\n",
       "      <th></th>\n",
       "      <th>Total Revenue</th>\n",
       "      <th>Cost of Revenue, Total</th>\n",
       "      <th>Selling/General/Admin. Expenses, Total</th>\n",
       "      <th>Operating Income</th>\n",
       "      <th>Interest Income (Expense), Net Non-Operating</th>\n",
       "      <th>Interest Expense (Income) - Net Operating</th>\n",
       "      <th>Net Income Before Taxes</th>\n",
       "      <th>Net Income After Taxes</th>\n",
       "      <th>df_income_unit</th>\n",
       "      <th>time</th>\n",
       "      <th>company_name</th>\n",
       "    </tr>\n",
       "  </thead>\n",
       "  <tbody>\n",
       "    <tr>\n",
       "      <th>0</th>\n",
       "      <td>855534.87</td>\n",
       "      <td>503686.53</td>\n",
       "      <td>180838.41</td>\n",
       "      <td>166132.64</td>\n",
       "      <td>-55877.62</td>\n",
       "      <td>-</td>\n",
       "      <td>102760.16</td>\n",
       "      <td>74615.4</td>\n",
       "      <td>* In Millions of MXN (except for per share items)</td>\n",
       "      <td>202131/12</td>\n",
       "      <td>America Movil SAB de CV (AMXL)</td>\n",
       "    </tr>\n",
       "    <tr>\n",
       "      <th>1</th>\n",
       "      <td>1016886.53</td>\n",
       "      <td>470427.48</td>\n",
       "      <td>212135.83</td>\n",
       "      <td>165354.91</td>\n",
       "      <td>-97961.8</td>\n",
       "      <td>-</td>\n",
       "      <td>67393.11</td>\n",
       "      <td>51026.96</td>\n",
       "      <td>* In Millions of MXN (except for per share items)</td>\n",
       "      <td>202031/12</td>\n",
       "      <td>America Movil SAB de CV (AMXL)</td>\n",
       "    </tr>\n",
       "    <tr>\n",
       "      <th>2</th>\n",
       "      <td>1007347.87</td>\n",
       "      <td>471736.16</td>\n",
       "      <td>215993.86</td>\n",
       "      <td>154840.54</td>\n",
       "      <td>-33493.55</td>\n",
       "      <td>-</td>\n",
       "      <td>121346.99</td>\n",
       "      <td>70313.46</td>\n",
       "      <td>* In Millions of MXN (except for per share items)</td>\n",
       "      <td>201931/12</td>\n",
       "      <td>America Movil SAB de CV (AMXL)</td>\n",
       "    </tr>\n",
       "    <tr>\n",
       "      <th>3</th>\n",
       "      <td>1038207.68</td>\n",
       "      <td>508822.43</td>\n",
       "      <td>227192.48</td>\n",
       "      <td>139557.17</td>\n",
       "      <td>-38563.27</td>\n",
       "      <td>-</td>\n",
       "      <td>100993.9</td>\n",
       "      <td>54516.82</td>\n",
       "      <td>* In Millions of MXN (except for per share items)</td>\n",
       "      <td>201831/12</td>\n",
       "      <td>America Movil SAB de CV (AMXL)</td>\n",
       "    </tr>\n",
       "  </tbody>\n",
       "</table>\n",
       "</div>"
      ],
      "text/plain": [
       "  Total Revenue Cost of Revenue, Total Selling/General/Admin. Expenses, Total  \\\n",
       "0     855534.87              503686.53                              180838.41   \n",
       "1    1016886.53              470427.48                              212135.83   \n",
       "2    1007347.87              471736.16                              215993.86   \n",
       "3    1038207.68              508822.43                              227192.48   \n",
       "\n",
       "  Operating Income Interest Income (Expense), Net Non-Operating  \\\n",
       "0        166132.64                                    -55877.62   \n",
       "1        165354.91                                     -97961.8   \n",
       "2        154840.54                                    -33493.55   \n",
       "3        139557.17                                    -38563.27   \n",
       "\n",
       "  Interest Expense (Income) - Net Operating Net Income Before Taxes  \\\n",
       "0                                         -               102760.16   \n",
       "1                                         -                67393.11   \n",
       "2                                         -               121346.99   \n",
       "3                                         -                100993.9   \n",
       "\n",
       "  Net Income After Taxes                                     df_income_unit  \\\n",
       "0                74615.4  * In Millions of MXN (except for per share items)   \n",
       "1               51026.96  * In Millions of MXN (except for per share items)   \n",
       "2               70313.46  * In Millions of MXN (except for per share items)   \n",
       "3               54516.82  * In Millions of MXN (except for per share items)   \n",
       "\n",
       "        time                    company_name  \n",
       "0  202131/12  America Movil SAB de CV (AMXL)  \n",
       "1  202031/12  America Movil SAB de CV (AMXL)  \n",
       "2  201931/12  America Movil SAB de CV (AMXL)  \n",
       "3  201831/12  America Movil SAB de CV (AMXL)  "
      ]
     },
     "execution_count": 122,
     "metadata": {},
     "output_type": "execute_result"
    }
   ],
   "source": [
    "df_income"
   ]
  },
  {
   "cell_type": "markdown",
   "metadata": {},
   "source": [
    "# 4. 전과정 자동화, 최종 완성코드\n",
    "\n",
    "Part 1,2,3에서 설명했던 것을 for문을 이용해서 자동화 합니다. \n"
   ]
  },
  {
   "cell_type": "code",
   "execution_count": 11,
   "metadata": {},
   "outputs": [],
   "source": [
    "import pandas as pd\n",
    "import numpy as np\n",
    "import requests\n",
    "import re\n",
    "from bs4 import BeautifulSoup\n",
    "import time\n",
    "from selenium import webdriver\n",
    "from selenium.webdriver.common.keys import Keys"
   ]
  },
  {
   "cell_type": "markdown",
   "metadata": {},
   "source": [
    "'first_url' 맨 뒤의 'mexico'를 바꾸면 다른 국가에서도 재활용 할 수 있음"
   ]
  },
  {
   "cell_type": "code",
   "execution_count": 12,
   "metadata": {},
   "outputs": [],
   "source": [
    "# 멕시코 주식시장 정보 페이지 접속\n",
    "driver = webdriver.Chrome('./chromedriver.exe')\n",
    "first_url = 'https://au.investing.com/equities/mexico'    #맨 뒤에 'mexico'를 바꾸면 다른 국가에서도 재활용 할 수 있음\n",
    "driver.get(first_url)"
   ]
  },
  {
   "cell_type": "code",
   "execution_count": 13,
   "metadata": {},
   "outputs": [],
   "source": [
    "#페이지에 표시되는 주식을 'all stocks'로 바꿈 \n",
    "try : \n",
    "    select_box = driver.find_element_by_xpath('//*[@id=\"stocksFilter\"]').click()\n",
    "    select_all_stock = driver.find_element_by_xpath('//*[@id=\"all\"]').click()\n",
    "    #time.sleep(8)\n",
    "\n",
    "# Avoid error. 만약 광고 팝업창으로 인해 에러가 발생할 경우 except로 에러 회피\n",
    "except : \n",
    "    # 광고 팝업창 닫기 \n",
    "    driver.find_element_by_xpath('//*[@id=\"PromoteSignUpPopUp\"]/div[2]/i').click()\n",
    "    # try와 동일\n",
    "    select_box = driver.find_element_by_xpath('//*[@id=\"stocksFilter\"]').click()\n",
    "    select_all_stock = driver.find_element_by_xpath('//*[@id=\"all\"]').click()\n",
    "    #time.sleep(8)"
   ]
  },
  {
   "cell_type": "code",
   "execution_count": 14,
   "metadata": {},
   "outputs": [],
   "source": [
    "# 인베스팅 닷컴은 동적페이지이다. \n",
    "# BeautifulSoup을 사용할수 있도록 스크롤을 한번 끝까지 내렸다 올린다.\n",
    "SCROLL_PAUSE_SEC = 3\n",
    "\n",
    "# 스크롤 높이 가져옴\n",
    "last_height = driver.execute_script(\"return document.body.scrollHeight\")\n",
    "\n",
    "while True:\n",
    "    # 끝까지 스크롤 다운\n",
    "    driver.execute_script(\"window.scrollTo(0, document.body.scrollHeight);\")\n",
    "\n",
    "    # 1초 대기\n",
    "    time.sleep(SCROLL_PAUSE_SEC)\n",
    "\n",
    "    # 스크롤 다운 후 스크롤 높이 다시 가져옴\n",
    "    new_height = driver.execute_script(\"return document.body.scrollHeight\")\n",
    "    if new_height == last_height:\n",
    "        break\n",
    "    last_height = new_height"
   ]
  },
  {
   "cell_type": "code",
   "execution_count": 15,
   "metadata": {},
   "outputs": [],
   "source": [
    "soup = BeautifulSoup(driver.page_source,\"html.parser\")\n",
    "\n",
    "# 주식 테이블을 가지고 온다. \n",
    "maintable = soup.find('table', id='cross_rate_markets_stocks_1')\n",
    "\n",
    "# 메인 주식 테이블에서 회사 페이지로\n",
    "all_atag_maintable = maintable.find_all('a')\n",
    "\n",
    "# soup의 find 메서드를 이용해서 갖고 오게 되면, 링크 뿐 아니라 다른 정보들도 같이 갖고 오게 됩니다. \n",
    "# 따라서 아래 for문으로 순수한 href 링크만을 추출하여, company_links에 저장합니다. \n",
    "company_links = []\n",
    "for a in all_atag_maintable:\n",
    "    company_link = a.attrs[\"href\"] #find로 한번더 돌려준다.\n",
    "    company_links.append(company_link)"
   ]
  },
  {
   "cell_type": "code",
   "execution_count": 16,
   "metadata": {},
   "outputs": [],
   "source": [
    "base_url = 'https://au.investing.com'\n",
    "\n",
    "IS_suffix = '-income-statement'\n",
    "BS_suffix = '-balance-sheet'\n",
    "CF_suffix = '-cash-flow'"
   ]
  },
  {
   "cell_type": "code",
   "execution_count": 17,
   "metadata": {},
   "outputs": [],
   "source": [
    "# 추출하고자 하는 칼럼들 \n",
    "\n",
    "is_targets =['Total Revenue','Cost of Revenue, Total','Selling/General/Admin. Expenses, Total','Operating Income',\n",
    "             'Interest Income (Expense), Net Non-Operating', 'Interest Expense (Income) - Net Operating',\n",
    "            'Net Income Before Taxes','Net Income After Taxes']\n",
    "\n",
    "bs_targets = ['Total Current Assets','Total Assets','Total Current Liabilities','Total Liabilities','Total Equity']\n",
    "\n",
    "cf_targets = ['Cash From Operating Activities','Cash From Financing Activities','Cash From Investing Activities']\n"
   ]
  },
  {
   "cell_type": "code",
   "execution_count": 18,
   "metadata": {},
   "outputs": [],
   "source": [
    "#cross_rate_markets_stocks_1\n",
    "\n",
    "result_df = pd.DataFrame()\n",
    "crawling_failed_companies = []\n",
    "for company in company_links : \n",
    "    \n",
    "    try : \n",
    "        #income data\n",
    "        driver.get('https://au.investing.com'+company+IS_suffix)\n",
    "        time.sleep(2)\n",
    "        driver.find_element_by_xpath('/html/body/div[5]/section/div[8]/div[1]/a[1]').click()\n",
    "        time.sleep(2)\n",
    "        df_income = pd.read_html(driver.page_source)[0].dropna()\n",
    "        df_income_unit = driver.find_element_by_xpath('//*[@id=\"leftColumn\"]/div[10]').text             # 통화 단위(Unit)\n",
    "        company_name = driver.find_element_by_xpath('//*[@id=\"leftColumn\"]/div[1]/h1').text             # 회사이름 추출\n",
    "\n",
    "        # income statement dataframe preprocess\n",
    "        df_income = df_income.T\n",
    "        df_income = df_income.rename(columns = df_income.iloc[0])         # 계정과목을 column 이름으로 설정\n",
    "        df_income = df_income.iloc[1:, :]                                 # 0번째 row를 삭제하고 나머지만 남긴다.\n",
    "        df_income = df_income[is_targets]\n",
    "        df_income['df_income_unit'] = df_income_unit                 # 데이터프레임에 income statement 통화단위 삽입\n",
    "        df_income['df_income_time']= df_income.index                           # 데이터프레임에 '시간' 추가\n",
    "        df_income['company_name'] = company_name                     # 데이터 프레임에 회사 이름 삽입\n",
    "        df_income=df_income.reset_index(drop=True)\n",
    "\n",
    "\n",
    "        # balance data\n",
    "        driver.get('https://au.investing.com'+company+BS_suffix)\n",
    "        time.sleep(2)\n",
    "        driver.find_element_by_xpath('//*[@id=\"leftColumn\"]/div[8]/div[1]/a[1]').click()\n",
    "        time.sleep(2)\n",
    "        df_balance = pd.read_html(driver.page_source)[0].dropna()\n",
    "        df_balance_unit = driver.find_element_by_xpath('//*[@id=\"leftColumn\"]/div[10]').text           # 통화 단위(Unit) 추출\n",
    "\n",
    "        # balance sheet dataframe preprocess\n",
    "        df_balance = df_balance.T\n",
    "        df_balance = df_balance.rename(columns = df_balance.iloc[0])      # 계정과목을 column 이름으로 설정\n",
    "        df_balance = df_balance.iloc[1:, :]                               # 0번째 row를 삭제하고 나머지만 남긴다.\n",
    "        df_balance = df_balance[bs_targets]\n",
    "        df_balance['balance_unit'] = df_balance_unit                 # 데이터프레임에 cash flow 통화단위 삽입\n",
    "        df_balance['df_balance_time']= df_balance.index\n",
    "        df_balance=df_balance.reset_index(drop=True)\n",
    "\n",
    "        #cash flow\n",
    "        driver.get('https://au.investing.com'+company+CF_suffix)\n",
    "        time.sleep(2)\n",
    "        driver.find_element_by_xpath('//*[@id=\"leftColumn\"]/div[8]/div[1]/a[1]').click()\n",
    "        time.sleep(2)\n",
    "        df_cash_flow = pd.read_html(driver.page_source)[0].dropna()\n",
    "        df_cash_flow_unit = driver.find_element_by_xpath('//*[@id=\"leftColumn\"]/div[10]').text            # 통화 단위(Unit) 추출\n",
    "\n",
    "        #cash flow dataframe preprocess\n",
    "        df_cash_flow = df_cash_flow.T \n",
    "        df_cash_flow = df_cash_flow.rename(columns = df_cash_flow.iloc[0]) # 계정과목을 column 이름으로 설정\n",
    "        df_cash_flow = df_cash_flow.iloc[1:, :]                            # 0번째 row를 삭제하고 나머지만 남긴다.\n",
    "        df_cash_flow = df_cash_flow[cf_targets]\n",
    "        df_cash_flow['cash_flow_unit'] = df_cash_flow_unit                 # 데이터프레임에 cash flow 통화단위 삽입\n",
    "        df_cash_flow['df_cash_flow']= df_cash_flow.index\n",
    "        df_cash_flow = df_cash_flow.reset_index(drop=True)\n",
    "\n",
    "        company_df = pd.concat([df_balance, df_income, df_cash_flow],axis=1)\n",
    "\n",
    "        # Append\n",
    "        result_df = result_df.append(company_df, ignore_index = True)\n",
    "        \n",
    "    except : \n",
    "        crawling_failed_companies.append(company)\n",
    "        pass\n",
    "        \n",
    "    \n",
    "    "
   ]
  },
  {
   "cell_type": "code",
   "execution_count": null,
   "metadata": {
    "scrolled": true
   },
   "outputs": [],
   "source": [
    "result_df.to_excel('./investingDotcom Crawling Colombia.xlsx')"
   ]
  },
  {
   "cell_type": "code",
   "execution_count": 142,
   "metadata": {},
   "outputs": [
    {
     "data": {
      "text/plain": [
       "138.0"
      ]
     },
     "execution_count": 142,
     "metadata": {},
     "output_type": "execute_result"
    }
   ],
   "source": [
    "# 크롤링에 성공한 기업 수 \n",
    "552/4"
   ]
  },
  {
   "cell_type": "code",
   "execution_count": 139,
   "metadata": {},
   "outputs": [
    {
     "data": {
      "text/plain": [
       "671"
      ]
     },
     "execution_count": 139,
     "metadata": {},
     "output_type": "execute_result"
    }
   ],
   "source": [
    "# 멕시코 상장사 기업 수 \n",
    "len(company_links)"
   ]
  },
  {
   "cell_type": "code",
   "execution_count": 141,
   "metadata": {},
   "outputs": [
    {
     "data": {
      "text/plain": [
       "533"
      ]
     },
     "execution_count": 141,
     "metadata": {},
     "output_type": "execute_result"
    }
   ],
   "source": [
    "# 크롤링에 실패한 기업들 \n",
    "len(crawling_failed_companies)"
   ]
  },
  {
   "cell_type": "markdown",
   "metadata": {},
   "source": [
    "### Question) 저번에 조사한 멕시코의 상장기업수는 140개"
   ]
  },
  {
   "cell_type": "markdown",
   "metadata": {},
   "source": [
    "해결해야할 문제 :   \n",
    "* 은행은 일반기업들과 다른 계정과목을 사용함. 위 for 반복문이 은행의 경우 에러가 떠버린다. \n",
    "- try except를 이용하여 회피한다. 설명하는 부분에도 이를 추가해야한다. \n",
    "* 은행의 계정과목을 테이블 명세서에 반영해야겠다. \n",
    "* 스크롤이 과연 끝까지 되는지 확인해야한다. 호주의 경우 상장사가 1000개가 넘는데, 크롤링되는 주식종목은 정확히 1000이다. \n",
    "* 테이블을 가공해서 만들어야할 \n",
    "* time.sleep(waittime)의 waittime을 함수의 변수로 빼버려서 기다리는 시간을 조절하기 쉽게 만들자. \n"
   ]
  }
 ],
 "metadata": {
  "interpreter": {
   "hash": "657ef9200600c32fa42bcdef0b673d2a454b5149b60983fe3185df16c8c5ae54"
  },
  "kernelspec": {
   "display_name": "Python 3 (ipykernel)",
   "language": "python",
   "name": "python3"
  },
  "language_info": {
   "codemirror_mode": {
    "name": "ipython",
    "version": 3
   },
   "file_extension": ".py",
   "mimetype": "text/x-python",
   "name": "python",
   "nbconvert_exporter": "python",
   "pygments_lexer": "ipython3",
   "version": "3.9.7"
  }
 },
 "nbformat": 4,
 "nbformat_minor": 2
}
