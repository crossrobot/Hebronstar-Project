{
 "cells": [
  {
   "cell_type": "code",
   "execution_count": 28,
   "id": "3d09ddec",
   "metadata": {},
   "outputs": [],
   "source": [
    "import os\n",
    "import shutil"
   ]
  },
  {
   "cell_type": "code",
   "execution_count": 31,
   "id": "ffa9f2ac",
   "metadata": {},
   "outputs": [
    {
     "data": {
      "text/plain": [
       "'C:\\\\Users\\\\user\\\\fra-doc'"
      ]
     },
     "execution_count": 31,
     "metadata": {},
     "output_type": "execute_result"
    }
   ],
   "source": [
    "os.getcwd()"
   ]
  },
  {
   "cell_type": "code",
   "execution_count": 32,
   "id": "8601ec0d",
   "metadata": {},
   "outputs": [],
   "source": [
    "os.chdir('C:\\\\Users\\\\user\\\\fra-doc')"
   ]
  },
  {
   "cell_type": "code",
   "execution_count": 33,
   "id": "5d61372c",
   "metadata": {},
   "outputs": [],
   "source": [
    "excel_file_list = os.listdir()"
   ]
  },
  {
   "cell_type": "code",
   "execution_count": 37,
   "id": "8d5051d7",
   "metadata": {},
   "outputs": [
    {
     "data": {
      "text/plain": [
       "184"
      ]
     },
     "execution_count": 37,
     "metadata": {},
     "output_type": "execute_result"
    }
   ],
   "source": [
    "len(excel_file_list)"
   ]
  },
  {
   "cell_type": "code",
   "execution_count": 35,
   "id": "5690035a",
   "metadata": {},
   "outputs": [],
   "source": [
    "file_list = []\n",
    "\n",
    "for i, file in enumerate(excel_file_list) : \n",
    "    \n",
    "    file_list.append(file)\n",
    "    \n",
    "    if i%3 ==0 : \n",
    "        path = 'C:\\\\Users\\\\user\\\\fra-doc\\\\'+str(i)+'~' + str(i+2)\n",
    "        os.mkdir(path)\n",
    "        \n",
    "        for a in file_list : \n",
    "            os.rename(os.path.join(os.getcwd(),a),os.path.join(path,a))\n",
    "            \n",
    "            \n",
    "        file_list = []"
   ]
  },
  {
   "cell_type": "code",
   "execution_count": null,
   "id": "39c7c4de",
   "metadata": {},
   "outputs": [],
   "source": []
  }
 ],
 "metadata": {
  "kernelspec": {
   "display_name": "codingNJ",
   "language": "python",
   "name": "codingnj"
  },
  "language_info": {
   "codemirror_mode": {
    "name": "ipython",
    "version": 3
   },
   "file_extension": ".py",
   "mimetype": "text/x-python",
   "name": "python",
   "nbconvert_exporter": "python",
   "pygments_lexer": "ipython3",
   "version": "3.9.7"
  }
 },
 "nbformat": 4,
 "nbformat_minor": 5
}
