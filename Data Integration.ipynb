{
 "cells": [
  {
   "cell_type": "code",
   "execution_count": 40,
   "id": "c07cf854",
   "metadata": {},
   "outputs": [],
   "source": [
    "import pandas as pd\n",
    "import os\n",
    "import time\n",
    "import pyexcel as px\n",
    "from tqdm import tqdm\n",
    "import pyexcel_xlsx "
   ]
  },
  {
   "cell_type": "code",
   "execution_count": 11,
   "id": "abc47e3f",
   "metadata": {},
   "outputs": [
    {
     "name": "stdout",
     "output_type": "stream",
     "text": [
      "Collecting pyexcel\n",
      "  Downloading pyexcel-0.6.7-py2.py3-none-any.whl (88 kB)\n",
      "Collecting texttable>=0.8.2\n",
      "  Downloading texttable-1.6.4-py2.py3-none-any.whl (10 kB)\n",
      "Collecting lml>=0.0.4\n",
      "  Downloading lml-0.1.0-py2.py3-none-any.whl (10 kB)\n",
      "Collecting chardet\n",
      "  Downloading chardet-4.0.0-py2.py3-none-any.whl (178 kB)\n",
      "Collecting pyexcel-io>=0.6.2\n",
      "  Downloading pyexcel_io-0.6.6-py2.py3-none-any.whl (44 kB)\n",
      "Installing collected packages: lml, texttable, pyexcel-io, chardet, pyexcel\n",
      "Successfully installed chardet-4.0.0 lml-0.1.0 pyexcel-0.6.7 pyexcel-io-0.6.6 texttable-1.6.4\n"
     ]
    }
   ],
   "source": [
    "!pip install pyexcel"
   ]
  },
  {
   "cell_type": "code",
   "execution_count": 13,
   "id": "8a94351c",
   "metadata": {},
   "outputs": [],
   "source": [
    "os.chdir('G:\\공유 드라이브\\BDC\\동남아일반정보추가')"
   ]
  },
  {
   "cell_type": "code",
   "execution_count": 14,
   "id": "c8776381",
   "metadata": {
    "scrolled": true
   },
   "outputs": [
    {
     "data": {
      "text/plain": [
       "'G:\\\\공유 드라이브\\\\BDC\\\\동남아일반정보추가'"
      ]
     },
     "execution_count": 14,
     "metadata": {},
     "output_type": "execute_result"
    }
   ],
   "source": [
    "os.getcwd()"
   ]
  },
  {
   "cell_type": "code",
   "execution_count": 73,
   "id": "315a146c",
   "metadata": {},
   "outputs": [],
   "source": [
    "import shutil"
   ]
  },
  {
   "cell_type": "code",
   "execution_count": 80,
   "id": "68e00979",
   "metadata": {},
   "outputs": [
    {
     "data": {
      "text/plain": [
       "600"
      ]
     },
     "execution_count": 80,
     "metadata": {},
     "output_type": "execute_result"
    }
   ],
   "source": [
    "len(os.listdir('G:/공유 드라이브/BDC/말레이통합3'))"
   ]
  },
  {
   "cell_type": "code",
   "execution_count": 90,
   "id": "f8bdb897",
   "metadata": {},
   "outputs": [
    {
     "data": {
      "text/plain": [
       "600"
      ]
     },
     "execution_count": 90,
     "metadata": {},
     "output_type": "execute_result"
    }
   ],
   "source": [
    "len(glob.glob('G:/공유 드라이브/BDC/말레이통합2/*.xlsx'))"
   ]
  },
  {
   "cell_type": "code",
   "execution_count": 95,
   "id": "53694e43",
   "metadata": {},
   "outputs": [
    {
     "name": "stderr",
     "output_type": "stream",
     "text": [
      "100%|████████████████████████████████████████████████████████████████████████████████| 601/601 [12:31<00:00,  1.25s/it]\n"
     ]
    }
   ],
   "source": [
    "import pandas as pd  \n",
    "import numpy as np  \n",
    "import glob  \n",
    "import sys\n",
    "\n",
    "#파일 Union  \n",
    "all_data = pd.DataFrame()  \n",
    "\n",
    "for iter_num,f in enumerate(tqdm(glob.glob('G:/공유 드라이브/BDC/말레이통합/*.xlsx'))): # 예를들어 201901, 201902 로 된 파일이면 2019_*  \n",
    "    df = pd.read_excel(f)  \n",
    "    all_data = all_data.append(df, ignore_index=True)\n",
    "    \n",
    "    if (iter_num % 200 == 0) or (iter_num==7291) : \n",
    "        all_data.to_excel('G:\\\\공유 드라이브\\\\BDC\\말레이통합7\\\\말레이시아통합_'+str(iter_num)+'.xlsx', index=False)\n",
    "        \n",
    "        del all_data\n",
    "        \n",
    "        all_data = pd.DataFrame()  \n",
    "        \n",
    "    \n",
    "    "
   ]
  },
  {
   "cell_type": "code",
   "execution_count": 96,
   "id": "4e7e152a",
   "metadata": {},
   "outputs": [
    {
     "data": {
      "text/html": [
       "<div>\n",
       "<style scoped>\n",
       "    .dataframe tbody tr th:only-of-type {\n",
       "        vertical-align: middle;\n",
       "    }\n",
       "\n",
       "    .dataframe tbody tr th {\n",
       "        vertical-align: top;\n",
       "    }\n",
       "\n",
       "    .dataframe thead th {\n",
       "        text-align: right;\n",
       "    }\n",
       "</style>\n",
       "<table border=\"1\" class=\"dataframe\">\n",
       "  <thead>\n",
       "    <tr style=\"text-align: right;\">\n",
       "      <th></th>\n",
       "    </tr>\n",
       "  </thead>\n",
       "  <tbody>\n",
       "  </tbody>\n",
       "</table>\n",
       "</div>"
      ],
      "text/plain": [
       "Empty DataFrame\n",
       "Columns: []\n",
       "Index: []"
      ]
     },
     "execution_count": 96,
     "metadata": {},
     "output_type": "execute_result"
    }
   ],
   "source": [
    "all_data"
   ]
  },
  {
   "cell_type": "code",
   "execution_count": 97,
   "id": "24ad92b4",
   "metadata": {},
   "outputs": [],
   "source": [
    "all_data.to_excel('G:\\\\공유 드라이브\\\\BDC\\말레이통합7\\\\말레이시아통합_'+str(iter_num)+'.xlsx', index=False)"
   ]
  }
 ],
 "metadata": {
  "kernelspec": {
   "display_name": "codingNJ",
   "language": "python",
   "name": "codingnj"
  },
  "language_info": {
   "codemirror_mode": {
    "name": "ipython",
    "version": 3
   },
   "file_extension": ".py",
   "mimetype": "text/x-python",
   "name": "python",
   "nbconvert_exporter": "python",
   "pygments_lexer": "ipython3",
   "version": "3.9.7"
  }
 },
 "nbformat": 4,
 "nbformat_minor": 5
}
